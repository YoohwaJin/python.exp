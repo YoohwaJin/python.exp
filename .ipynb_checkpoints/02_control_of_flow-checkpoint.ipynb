{
 "cells": [
  {
   "cell_type": "markdown",
   "id": "64b49b2f-90aa-41e9-9759-13c80f320e0d",
   "metadata": {},
   "source": [
    "# 제어문\n",
    "\n",
    "## 조건문(if문)\n",
    "1. `if` 문은 반드시 일정한 참/거짓을 판단할 수 있는 `조건식`과 함께 사용한다. (`if <조건식>:`)\n",
    "\n",
    "2-1. `<조건식>`이 참인 경우 `:` 이후의 문장을 실행한다.\n",
    "   \n",
    "2-2. `<조건식>`이 거짓인 경우 : `else:`이후의 문장을 실행한다"
   ]
  },
  {
   "cell_type": "code",
   "execution_count": 4,
   "id": "7c6d0293-0ede-4bdb-ada8-0529a6f9e7c2",
   "metadata": {},
   "outputs": [
    {
     "name": "stdin",
     "output_type": "stream",
     "text": [
      " 12/25\n"
     ]
    },
    {
     "name": "stdout",
     "output_type": "stream",
     "text": [
      "It is christmas\n"
     ]
    }
   ],
   "source": [
    "my_string = input()\n",
    "\n",
    "if my_string == '12/25':\n",
    "    print('It is christmas')\n",
    "else: \n",
    "    print('It is not Christmas')"
   ]
  },
  {
   "cell_type": "code",
   "execution_count": 16,
   "id": "757b4279-a187-4d3c-935e-7722d426456e",
   "metadata": {},
   "outputs": [
    {
     "name": "stdin",
     "output_type": "stream",
     "text": [
      "숫자를 입력해주세요 -32\n"
     ]
    },
    {
     "name": "stdout",
     "output_type": "stream",
     "text": [
      "-32\n",
      "<class 'str'>\n"
     ]
    }
   ],
   "source": [
    "num = input('숫자를 입력해주세요')\n",
    "print(num)\n",
    "print(type(num))\n",
    "num = int(num)"
   ]
  },
  {
   "cell_type": "code",
   "execution_count": 17,
   "id": "7a4a7d16-50f0-412a-8c2d-d8119ba0f039",
   "metadata": {},
   "outputs": [
    {
     "name": "stdout",
     "output_type": "stream",
     "text": [
      "짝수입니다.\n"
     ]
    }
   ],
   "source": [
    "# 조건문을 사용해서 num에 들어있는 숫자가 홀수 / 짝수 인지 판별\n",
    "\n",
    "if (num % 2) == 0:\n",
    "    print('짝수입니다.')\n",
    "else:\n",
    "    print('홀수입니다.')"
   ]
  },
  {
   "cell_type": "code",
   "execution_count": 19,
   "id": "5ce14495-e0d5-49be-b1f0-071f70189a9a",
   "metadata": {},
   "outputs": [
    {
     "name": "stdout",
     "output_type": "stream",
     "text": [
      "짝수입니다.\n"
     ]
    }
   ],
   "source": [
    "# num을 2로 나눈 나머지는 0,1 두가지 경우가 있따.\n",
    "# if문의 조건식에 0, 1은 자동 형변환이 일어나 False, True로 변환된다.\n",
    "\n",
    "if num % 2:\n",
    "    print('홀수입니다.')\n",
    "else: \n",
    "    print('짝수입니다.')"
   ]
  },
  {
   "cell_type": "markdown",
   "id": "f620517f-2df5-4859-94dc-1090ded6e114",
   "metadata": {},
   "source": [
    "### elif\n",
    "\n",
    "```\n",
    "if <조건식>:\n",
    "    if 조건식이 참인 경우 실행\n",
    "elif <조건식>:\n",
    "    elif 조건이 참인 경우 실행\n",
    "```\n",
    "else:\n",
    "    위의 조건식에 하나도 부합하지 않는 경우 실행"
   ]
  },
  {
   "cell_type": "code",
   "execution_count": 35,
   "id": "9e47a040-73d8-4760-a4b4-68c7d84acfb3",
   "metadata": {},
   "outputs": [
    {
     "name": "stdin",
     "output_type": "stream",
     "text": [
      " 99\n"
     ]
    }
   ],
   "source": [
    "score = int(input())"
   ]
  },
  {
   "cell_type": "code",
   "execution_count": 37,
   "id": "34cd7385-1d0e-43c4-800e-e87b435134a9",
   "metadata": {},
   "outputs": [
    {
     "name": "stdout",
     "output_type": "stream",
     "text": [
      "A 참 잘했어요\n"
     ]
    }
   ],
   "source": [
    "#90점 이상 A\n",
    "#80점 이상 B\n",
    "#70점 이상 C\n",
    "#나머지 F\n",
    "\n",
    "if score >= 95:\n",
    "    print('A', '참 잘했어요')\n",
    "elif score >= 90:\n",
    "    print('A')\n",
    "elif score >= 80:\n",
    "    print('B')\n",
    "elif score >= 70:\n",
    "    print('C')\n",
    "else:\n",
    "    print('F')"
   ]
  },
  {
   "cell_type": "code",
   "execution_count": 38,
   "id": "f3dd29f3-b3c6-4cb9-89ae-5aa0b53bde97",
   "metadata": {},
   "outputs": [
    {
     "name": "stdout",
     "output_type": "stream",
     "text": [
      "A\n",
      "참잘했어요\n"
     ]
    }
   ],
   "source": [
    "if score >= 90:\n",
    "    print('A')\n",
    "    if score >= 95:\n",
    "        print('참잘했어요')\n",
    "elif score >= 80:\n",
    "    print('B')\n",
    "elif score >= 70:\n",
    "    print('C')\n",
    "else:\n",
    "    print('F')"
   ]
  },
  {
   "cell_type": "markdown",
   "id": "f3f22787-22d3-4082-8e6f-2d96b848fb30",
   "metadata": {},
   "source": [
    "## 조건표현식\n",
    "    true_value if <조건식> else false_value\n",
    "\n",
    "    > 가능하면 if문을 쓰는게 좋고, 남이 쓴 조건표현식을 읽을 수 있는 수준정도 숙지\n"
   ]
  },
  {
   "cell_type": "code",
   "execution_count": 39,
   "id": "8b338214-2fdd-4cad-890c-7a38fdd16d5b",
   "metadata": {},
   "outputs": [
    {
     "name": "stdout",
     "output_type": "stream",
     "text": [
      "False\n"
     ]
    }
   ],
   "source": [
    "print('True') if 1 < 0 else print('False')"
   ]
  },
  {
   "cell_type": "code",
   "execution_count": 40,
   "id": "e8a6fe6c-55ca-41fd-af7d-eaa57c19b2cf",
   "metadata": {},
   "outputs": [
    {
     "name": "stdout",
     "output_type": "stream",
     "text": [
      "False\n"
     ]
    }
   ],
   "source": [
    "# 위의 조건표현식을 if문으로 표현\n",
    "if 1 < 0:\n",
    "    print('True')\n",
    "else:\n",
    "    print('False')"
   ]
  },
  {
   "cell_type": "code",
   "execution_count": 41,
   "id": "f1327bc1-0b8c-4b1f-9eef-102e303c1609",
   "metadata": {},
   "outputs": [
    {
     "name": "stdout",
     "output_type": "stream",
     "text": [
      "0\n"
     ]
    }
   ],
   "source": [
    "num = -5\n",
    "value = num if num >= 0 else 0\n",
    "print(value)"
   ]
  },
  {
   "cell_type": "code",
   "execution_count": 43,
   "id": "99f52bed-92a5-400e-baf1-d358f6f60a05",
   "metadata": {},
   "outputs": [
    {
     "name": "stdout",
     "output_type": "stream",
     "text": [
      "0\n"
     ]
    }
   ],
   "source": [
    "# 위의 조건표현식을 if문으로 표현\n",
    "num = -5\n",
    "if num >= 0:\n",
    "    print(num)\n",
    "else:\n",
    "    print(0)"
   ]
  },
  {
   "cell_type": "code",
   "execution_count": 44,
   "id": "cd9960b1-5f01-4004-b8e1-a8add81fe607",
   "metadata": {},
   "outputs": [
    {
     "name": "stdout",
     "output_type": "stream",
     "text": [
      "짝수\n"
     ]
    }
   ],
   "source": [
    "num = 2\n",
    "if num % 2 == 1:\n",
    "    result = '홀수'\n",
    "else:\n",
    "    result = '짝수'\n",
    "\n",
    "print(result)"
   ]
  },
  {
   "cell_type": "code",
   "execution_count": 45,
   "id": "613cc6d6-d785-495e-b06a-145a82f74374",
   "metadata": {},
   "outputs": [
    {
     "data": {
      "text/plain": [
       "'짝수'"
      ]
     },
     "execution_count": 45,
     "metadata": {},
     "output_type": "execute_result"
    }
   ],
   "source": [
    "num = 2\n",
    "\n",
    "'홀수' if num % 2 == 1 else '짝수'"
   ]
  },
  {
   "cell_type": "code",
   "execution_count": 46,
   "id": "35937c20-dde1-422e-b624-7f6b5fa3c473",
   "metadata": {},
   "outputs": [],
   "source": [
    "### 나중에 여기 입력값으로 바꾸는 거 실습해보기"
   ]
  },
  {
   "cell_type": "code",
   "execution_count": null,
   "id": "099ab215-7fc2-4f5d-9a15-a1d7be3881e4",
   "metadata": {},
   "outputs": [],
   "source": []
  },
  {
   "cell_type": "code",
   "execution_count": 3,
   "id": "62c77cd5-3183-4364-854a-ad8a2e84c9f6",
   "metadata": {},
   "outputs": [
    {
     "name": "stdin",
     "output_type": "stream",
     "text": [
      " 33\n"
     ]
    },
    {
     "name": "stdout",
     "output_type": "stream",
     "text": [
      "홀수\n"
     ]
    }
   ],
   "source": [
    "num = input()\n",
    "num = int(num)\n",
    "\n",
    "if num % 2 == 1:\n",
    "    result = '홀수'\n",
    "else:\n",
    "    result = '짝수'\n",
    "\n",
    "print(result)"
   ]
  },
  {
   "cell_type": "code",
   "execution_count": null,
   "id": "520843ea-fde9-49a1-acda-ff6d095bbe3c",
   "metadata": {},
   "outputs": [],
   "source": []
  },
  {
   "cell_type": "markdown",
   "id": "81949719-43a1-42bd-b4f3-fe630481f6a3",
   "metadata": {},
   "source": [
    "## 반복문\n",
    "\n",
    "### while문\n",
    "\n",
    "```\n",
    "while <조건식>:\n",
    "    실행할 코드(조건식이 참인 경우 실행, 참인 경우 계속 실행)"
   ]
  },
  {
   "cell_type": "code",
   "execution_count": 5,
   "id": "898c8748-0e14-4c51-90f4-91f90ba654ed",
   "metadata": {},
   "outputs": [
    {
     "name": "stdout",
     "output_type": "stream",
     "text": [
      "0\n",
      "1\n",
      "2\n",
      "3\n",
      "4\n"
     ]
    }
   ],
   "source": [
    "a = 0\n",
    "\n",
    "while a < 5:\n",
    "    print(a)\n",
    "    a += 1\n",
    "    # a = a + 1"
   ]
  },
  {
   "cell_type": "code",
   "execution_count": 15,
   "id": "7d0477de-919d-4365-a886-cf3a25637cc0",
   "metadata": {},
   "outputs": [
    {
     "name": "stdin",
     "output_type": "stream",
     "text": [
      "안녕이라고 해줘 :  ss\n",
      "안녕이라고 해줘 :  sdas\n",
      "안녕이라고 해줘 :  faef\n",
      "안녕이라고 해줘 :  안ㄴㅇ\n",
      "안녕이라고 해줘 :  안녕\n"
     ]
    }
   ],
   "source": [
    "# 사용자가 '안녕'이라는 말을 할 때 까지 계속 입력을 요청받는 코드\n",
    "\n",
    "a = ''\n",
    "\n",
    "while a != '안녕':\n",
    "    a = input('안녕이라고 해줘 : ')\n"
   ]
  },
  {
   "cell_type": "markdown",
   "id": "72c1b8fc-6d2f-474c-a7f1-ebde48b90405",
   "metadata": {},
   "source": [
    "### for문\n",
    "\n",
    "- while은 특정 조건(100개 만들 때 까지)이 있을 때 반복하는 것이고, for문은 정해진 범위 내의 반복(10시까지..)\n",
    "\n",
    "```\n",
    "for variable in sequence(리스트, 튜플, 레인지, ...):\n",
    "    code\n",
    "```"
   ]
  },
  {
   "cell_type": "code",
   "execution_count": 16,
   "id": "661e677f-d811-4c45-bbc1-029c5966a471",
   "metadata": {},
   "outputs": [
    {
     "name": "stdout",
     "output_type": "stream",
     "text": [
      "1\n",
      "2\n",
      "3\n",
      "4\n",
      "5\n"
     ]
    }
   ],
   "source": [
    "numbers  = [1, 2, 3, 4, 5]\n",
    "\n",
    "for number in numbers:\n",
    "    print(number)\n",
    "    "
   ]
  },
  {
   "cell_type": "code",
   "execution_count": 21,
   "id": "9030c572-259f-4816-8899-c7e2c399b4de",
   "metadata": {},
   "outputs": [
    {
     "name": "stdin",
     "output_type": "stream",
     "text": [
      "입력 ㅇㄴㄻ나얼\n"
     ]
    },
    {
     "name": "stdout",
     "output_type": "stream",
     "text": [
      "ㅇ\n",
      "ㄴ\n",
      "ㄻ\n",
      "나\n",
      "얼\n"
     ]
    }
   ],
   "source": [
    "# for문을 사용해서, 사용자가 입력한 데이터를 한글자씩 출력하는 코드\n",
    "\n",
    "a = input('입력'\n",
    "\n",
    "for a in a:\n",
    "    print(a)"
   ]
  },
  {
   "cell_type": "code",
   "execution_count": 23,
   "id": "f48fd624-10e0-4d43-b2b7-99285ec682bd",
   "metadata": {},
   "outputs": [
    {
     "name": "stdout",
     "output_type": "stream",
     "text": [
      "0\n",
      "1\n",
      "2\n",
      "3\n",
      "4\n"
     ]
    }
   ],
   "source": [
    "for i in range(5):\n",
    "    print(i)"
   ]
  },
  {
   "cell_type": "code",
   "execution_count": 24,
   "id": "21a716c7-2b37-44d6-8b0a-1766027f2102",
   "metadata": {},
   "outputs": [
    {
     "name": "stdout",
     "output_type": "stream",
     "text": [
      "1\n",
      "2\n",
      "3\n",
      "4\n",
      "5\n"
     ]
    }
   ],
   "source": [
    "for i in (1, 2, 3, 4, 5):\n",
    "    print(i)\n"
   ]
  },
  {
   "cell_type": "code",
   "execution_count": 30,
   "id": "bd7938cc-6e8b-43e2-89c7-60d4fa54f183",
   "metadata": {},
   "outputs": [
    {
     "name": "stdout",
     "output_type": "stream",
     "text": [
      "[1, 3, 5, 7, 9, 11, 13, 15, 17, 19, 21, 23, 25, 27, 29]\n"
     ]
    }
   ],
   "source": [
    "# 1-30까지 숫자중에서 홀수만 담긴 리스트를 출력\n",
    "\n",
    "# 1-30 중 홀수만 프린트 후에 \n",
    "\n",
    "a = range(31)\n",
    "result = []\n",
    "for a in range(31):\n",
    "    if a % 2 == 1:\n",
    "        # print(a)\n",
    "        result.append(a)\n",
    "\n",
    "print(result)\n",
    "\n"
   ]
  },
  {
   "cell_type": "code",
   "execution_count": 33,
   "id": "2d072592-2cd5-4361-95e4-7dafeb43de49",
   "metadata": {},
   "outputs": [
    {
     "name": "stdout",
     "output_type": "stream",
     "text": [
      "(0, '라면')\n",
      "(1, '치킨')\n",
      "(2, '짜장면')\n"
     ]
    }
   ],
   "source": [
    "menus = ['라면', '치킨', '짜장면']\n",
    "\n",
    "for menu in enumerate(menus):\n",
    "    print(menu)\n",
    "\n"
   ]
  },
  {
   "cell_type": "code",
   "execution_count": 35,
   "id": "06d3315f-3a64-45d0-a29a-15e6e2b8c940",
   "metadata": {},
   "outputs": [
    {
     "data": {
      "text/plain": [
       "<enumerate at 0x25e25d66340>"
      ]
     },
     "execution_count": 35,
     "metadata": {},
     "output_type": "execute_result"
    }
   ],
   "source": [
    "enumerate(menus)"
   ]
  },
  {
   "cell_type": "code",
   "execution_count": 36,
   "id": "838b57d1-652c-40dd-8478-ee1ad466bf74",
   "metadata": {},
   "outputs": [
    {
     "name": "stdout",
     "output_type": "stream",
     "text": [
      "0\n",
      "라면\n",
      "1\n",
      "치킨\n",
      "2\n",
      "짜장면\n"
     ]
    }
   ],
   "source": [
    "for menu in enumerate(menus):\n",
    "    print(menu[0])\n",
    "    print(menu[1])"
   ]
  },
  {
   "cell_type": "code",
   "execution_count": 38,
   "id": "c7cb884d-70e9-4155-be31-d3f92fccffe4",
   "metadata": {},
   "outputs": [
    {
     "name": "stdout",
     "output_type": "stream",
     "text": [
      "0\n",
      "라면\n",
      "1\n",
      "치킨\n",
      "2\n",
      "짜장면\n"
     ]
    }
   ],
   "source": [
    "for idx, menu in enumerate(menus):\n",
    "    print(idx)\n",
    "    print(menu)"
   ]
  },
  {
   "cell_type": "markdown",
   "id": "bc467d46-4563-4b2f-8763-5bf879eb4029",
   "metadata": {},
   "source": [
    "### dictionary 반복\n",
    "\n",
    "1. for key in dict:\n",
    "2. for key in dict.keys():\n",
    "3. for value in dict.values():\n",
    "4. for key, value"
   ]
  },
  {
   "cell_type": "code",
   "execution_count": 39,
   "id": "78e8bc7e-c707-4bb6-90c5-e5221e3d9925",
   "metadata": {},
   "outputs": [],
   "source": [
    "info = {\n",
    "    'name': 'yoohwa',\n",
    "    'surname': 'jin',\n",
    "    'location': 'Yeoju'\n",
    "}"
   ]
  },
  {
   "cell_type": "code",
   "execution_count": 42,
   "id": "cba84ca1-6de3-4178-bca0-2e6dea80e4bd",
   "metadata": {},
   "outputs": [
    {
     "name": "stdout",
     "output_type": "stream",
     "text": [
      "name\n",
      "yoohwa\n",
      "surname\n",
      "jin\n",
      "location\n",
      "Yeoju\n"
     ]
    }
   ],
   "source": [
    "for i in info:\n",
    "    print(i)\n",
    "    print(info[i])"
   ]
  },
  {
   "cell_type": "code",
   "execution_count": null,
   "id": "3a3c4c56-fdf1-48e8-8405-90898d0c3056",
   "metadata": {},
   "outputs": [],
   "source": []
  },
  {
   "cell_type": "code",
   "execution_count": 43,
   "id": "e7749b28-2521-4c63-a484-f972d8647b76",
   "metadata": {},
   "outputs": [
    {
     "ename": "SyntaxError",
     "evalue": "invalid syntax (881176155.py, line 1)",
     "output_type": "error",
     "traceback": [
      "\u001b[1;36m  Cell \u001b[1;32mIn[43], line 1\u001b[1;36m\u001b[0m\n\u001b[1;33m    blood_type = {}:\u001b[0m\n\u001b[1;37m                   ^\u001b[0m\n\u001b[1;31mSyntaxError\u001b[0m\u001b[1;31m:\u001b[0m invalid syntax\n"
     ]
    }
   ],
   "source": [
    "blood_type = {}:\n",
    "\n",
    "    'A': 5,\n"
   ]
  },
  {
   "cell_type": "code",
   "execution_count": null,
   "id": "8d8f62df-211a-48d3-9134-972799629ee9",
   "metadata": {},
   "outputs": [],
   "source": []
  },
  {
   "cell_type": "code",
   "execution_count": 46,
   "id": "667c2d04-d9bc-40b0-9634-c97443398d4a",
   "metadata": {},
   "outputs": [
    {
     "name": "stdout",
     "output_type": "stream",
     "text": [
      "혈액형 목록은 다음과 같습니다.\n"
     ]
    },
    {
     "ename": "NameError",
     "evalue": "name 'blood_type' is not defined",
     "output_type": "error",
     "traceback": [
      "\u001b[1;31m---------------------------------------------------------------------------\u001b[0m",
      "\u001b[1;31mNameError\u001b[0m                                 Traceback (most recent call last)",
      "Cell \u001b[1;32mIn[46], line 2\u001b[0m\n\u001b[0;32m      1\u001b[0m \u001b[38;5;28mprint\u001b[39m(\u001b[38;5;124m'\u001b[39m\u001b[38;5;124m혈액형 목록은 다음과 같습니다.\u001b[39m\u001b[38;5;124m'\u001b[39m)\n\u001b[1;32m----> 2\u001b[0m \u001b[38;5;28;01mfor\u001b[39;00m key \u001b[38;5;129;01min\u001b[39;00m \u001b[43mblood_type\u001b[49m\u001b[38;5;241m.\u001b[39mkeys():\n\u001b[0;32m      3\u001b[0m     \u001b[38;5;28mprint\u001b[39m(key)\n",
      "\u001b[1;31mNameError\u001b[0m: name 'blood_type' is not defined"
     ]
    }
   ],
   "source": [
    "print('혈액형 목록은 다음과 같습니다.')\n",
    "for key in blood_type.keys():\n",
    "    print(key)"
   ]
  },
  {
   "cell_type": "code",
   "execution_count": 49,
   "id": "d9ed5b54-23ab-4e67-b146-5809cd408555",
   "metadata": {},
   "outputs": [
    {
     "ename": "NameError",
     "evalue": "name 'blood_type' is not defined",
     "output_type": "error",
     "traceback": [
      "\u001b[1;31m---------------------------------------------------------------------------\u001b[0m",
      "\u001b[1;31mNameError\u001b[0m                                 Traceback (most recent call last)",
      "Cell \u001b[1;32mIn[49], line 4\u001b[0m\n\u001b[0;32m      1\u001b[0m result \u001b[38;5;241m=\u001b[39m \u001b[38;5;241m0\u001b[39m\n\u001b[1;32m----> 4\u001b[0m \u001b[38;5;28;01mfor\u001b[39;00m value \u001b[38;5;129;01min\u001b[39;00m \u001b[43mblood_type\u001b[49m\u001b[38;5;241m.\u001b[39mvalues():\n\u001b[0;32m      5\u001b[0m     result \u001b[38;5;241m=\u001b[39m result \u001b[38;5;241m+\u001b[39m value\n\u001b[0;32m      7\u001b[0m \u001b[38;5;28mprint\u001b[39m(\u001b[38;5;124mf\u001b[39m\u001b[38;5;124m'\u001b[39m\u001b[38;5;124m총 인원은 \u001b[39m\u001b[38;5;132;01m{\u001b[39;00mresult\u001b[38;5;132;01m}\u001b[39;00m\u001b[38;5;124m명 입니다.\u001b[39m\u001b[38;5;124m'\u001b[39m)\n",
      "\u001b[1;31mNameError\u001b[0m: name 'blood_type' is not defined"
     ]
    }
   ],
   "source": [
    "result = 0\n",
    "\n",
    "\n",
    "for value in blood_type.values():\n",
    "    result = result + value\n",
    "\n",
    "print(f'총 인원은 {result}명 입니다.')\n",
    "    "
   ]
  },
  {
   "cell_type": "code",
   "execution_count": 51,
   "id": "efe19aca-a459-4bb9-a882-249c5e261e37",
   "metadata": {},
   "outputs": [
    {
     "ename": "NameError",
     "evalue": "name 'blood_type' is not defined",
     "output_type": "error",
     "traceback": [
      "\u001b[1;31m---------------------------------------------------------------------------\u001b[0m",
      "\u001b[1;31mNameError\u001b[0m                                 Traceback (most recent call last)",
      "Cell \u001b[1;32mIn[51], line 1\u001b[0m\n\u001b[1;32m----> 1\u001b[0m \u001b[38;5;28;01mfor\u001b[39;00m key, value \u001b[38;5;129;01min\u001b[39;00m \u001b[43mblood_type\u001b[49m\u001b[38;5;241m.\u001b[39mitems():\n\u001b[0;32m      2\u001b[0m     \u001b[38;5;28mprint\u001b[39m(key, value)\n",
      "\u001b[1;31mNameError\u001b[0m: name 'blood_type' is not defined"
     ]
    }
   ],
   "source": [
    "for key, value in blood_type.items():\n",
    "    print(key, value)\n",
    "    print(f'[key]형은 [value]명입니다.')"
   ]
  },
  {
   "cell_type": "code",
   "execution_count": null,
   "id": "8eadb932-6a76-4da8-96fd-726c40fc0141",
   "metadata": {},
   "outputs": [],
   "source": [
    "blood_type.items()"
   ]
  },
  {
   "cell_type": "code",
   "execution_count": null,
   "id": "fba15256-0b3d-4464-8449-f8b7b4e40d5e",
   "metadata": {},
   "outputs": [],
   "source": []
  },
  {
   "cell_type": "markdown",
   "id": "b00cde5e-af7d-4652-817d-344a6b7c2df2",
   "metadata": {},
   "source": [
    "### break\n",
    "- 반복문을 종료시키는 키워드\n"
   ]
  },
  {
   "cell_type": "code",
   "execution_count": 54,
   "id": "a615c379-79a7-4a12-a054-9500b71857ac",
   "metadata": {},
   "outputs": [
    {
     "ename": "IndentationError",
     "evalue": "expected an indented block after 'for' statement on line 1 (333677209.py, line 3)",
     "output_type": "error",
     "traceback": [
      "\u001b[1;36m  Cell \u001b[1;32mIn[54], line 3\u001b[1;36m\u001b[0m\n\u001b[1;33m    print(i)\u001b[0m\n\u001b[1;37m    ^\u001b[0m\n\u001b[1;31mIndentationError\u001b[0m\u001b[1;31m:\u001b[0m expected an indented block after 'for' statement on line 1\n"
     ]
    }
   ],
   "source": [
    "for i in range(100):\n",
    "    \n",
    "print(i)"
   ]
  },
  {
   "cell_type": "code",
   "execution_count": null,
   "id": "b737d594-be68-4695-8d27-c308bf870be2",
   "metadata": {},
   "outputs": [],
   "source": []
  },
  {
   "cell_type": "code",
   "execution_count": 56,
   "id": "5c97c006-6735-4f76-9b28-8c1c0b7ef67d",
   "metadata": {},
   "outputs": [
    {
     "name": "stdout",
     "output_type": "stream",
     "text": [
      "보리\n",
      "보리\n",
      "보리\n",
      "쌀\n",
      "잡았다!\n"
     ]
    }
   ],
   "source": [
    "rice = ['보리', '보리', '보리','쌀', '보리','보리',]\n",
    "# 보리 보리 보리 쌀 잡았다 -> X \n",
    "\n",
    "for r in rice:\n",
    "    print(r)\n",
    "    if r == '쌀':\n",
    "        print('잡았다!')\n",
    "        break"
   ]
  },
  {
   "cell_type": "markdown",
   "id": "12bc7a74-e317-4845-9b3a-f44e612179ee",
   "metadata": {},
   "source": [
    "### continue\n",
    "- continue 이후의 코드를 실행하지 않고 다음 반복을 진행\n"
   ]
  },
  {
   "cell_type": "code",
   "execution_count": 61,
   "id": "8a70308e-b26c-4864-b225-e47fa0915890",
   "metadata": {},
   "outputs": [
    {
     "name": "stdout",
     "output_type": "stream",
     "text": [
      "0\n",
      "2\n",
      "4\n",
      "6\n",
      "8\n"
     ]
    }
   ],
   "source": [
    "for i in range(10):\n",
    "    if i % 2:\n",
    "        continue\n",
    "    print(i)"
   ]
  },
  {
   "cell_type": "code",
   "execution_count": 63,
   "id": "d87fb37b-77ba-48cf-acbd-cc3762b742aa",
   "metadata": {},
   "outputs": [
    {
     "name": "stdout",
     "output_type": "stream",
     "text": [
      "성인입니다\n",
      "성인입니다\n",
      "성인입니다\n"
     ]
    }
   ],
   "source": [
    "age = [10, 35, 20, 18, 9, 40]\n",
    "\n",
    "for a in age:\n",
    "    if a < 20:\n",
    "        continue\n",
    "    print('성인입니다')"
   ]
  },
  {
   "cell_type": "markdown",
   "id": "7c72aef6-b7fb-4c19-80ed-f8279a9a69cc",
   "metadata": {},
   "source": [
    "### else\n",
    "> else문은 끝까지 반복이 진행된 후 실행됩니다."
   ]
  },
  {
   "cell_type": "code",
   "execution_count": 65,
   "id": "4e7d611e-3474-4863-9745-1cecf64bd840",
   "metadata": {},
   "outputs": [
    {
     "name": "stdout",
     "output_type": "stream",
     "text": [
      "0\n",
      "1\n",
      "2\n",
      "3\n",
      "4\n",
      "5\n",
      "6\n",
      "7\n",
      "8\n",
      "9\n",
      "break 못만남\n"
     ]
    }
   ],
   "source": [
    "for i in range(10):\n",
    "    if i > 100:\n",
    "        break\n",
    "    print(i)\n",
    "else:\n",
    "    print('break 못만남')"
   ]
  },
  {
   "cell_type": "code",
   "execution_count": 66,
   "id": "be4a2fdc-d38d-425f-b1e3-992c2bec0aaf",
   "metadata": {},
   "outputs": [
    {
     "name": "stdout",
     "output_type": "stream",
     "text": [
      "0\n",
      "1\n",
      "2\n",
      "3\n",
      "4\n",
      "5\n"
     ]
    }
   ],
   "source": [
    "for i in range(10):\n",
    "    if i > 5:\n",
    "        break\n",
    "    print(i)\n",
    "else:\n",
    "    print('break 못만남')"
   ]
  },
  {
   "cell_type": "code",
   "execution_count": 68,
   "id": "bb475dfb-4a3a-4684-bee1-b70624588b6b",
   "metadata": {},
   "outputs": [
    {
     "name": "stdout",
     "output_type": "stream",
     "text": [
      "True\n",
      "False\n"
     ]
    }
   ],
   "source": [
    "#\n",
    "numbers = [1, 3, 5, 7, 9]\n",
    "print(3 in numbers)\n",
    "print(2 in numbers)"
   ]
  },
  {
   "cell_type": "code",
   "execution_count": 75,
   "id": "91ce2664-7ec3-44cf-a915-870e767aaf7a",
   "metadata": {},
   "outputs": [
    {
     "name": "stdout",
     "output_type": "stream",
     "text": [
      "False\n"
     ]
    }
   ],
   "source": [
    "numbers = [1, 3, 5, 7, 9]\n",
    "\n",
    "target = 0\n",
    "\n",
    "for number in numbers:\n",
    "    # if문을 통해 내가 원하는 숫자가 있으면 True\n",
    "    if number == target:\n",
    "        print('True')\n",
    "        break\n",
    "else: print('False')"
   ]
  },
  {
   "cell_type": "markdown",
   "id": "8f067029-9a31-4887-873e-8d30342d3f3e",
   "metadata": {},
   "source": [
    "### pass"
   ]
  },
  {
   "cell_type": "code",
   "execution_count": 77,
   "id": "29e24b50-710c-4bb4-93ef-663583a3557a",
   "metadata": {},
   "outputs": [],
   "source": [
    "if True:\n",
    "    pass\n",
    "    # 아무 의미 없는 코드인데, 이 곳에 무언가 들어갈 예정일 때, 혹은 구조를 만들거나 클래스를 만들 때 사용"
   ]
  },
  {
   "cell_type": "markdown",
   "id": "761d02b9-46d0-4a91-b18f-54e91f1bc38c",
   "metadata": {},
   "source": [
    "### match\n",
    "\n",
    "```\n",
    "match value:\n",
    "    case 조건:\n",
    "        code\n",
    "    case 조건:\n",
    "        code\n",
    "    case _:\n",
    "        code\n",
    "```"
   ]
  },
  {
   "cell_type": "code",
   "execution_count": 80,
   "id": "99759636-6e00-4c99-92e3-4d150225eec5",
   "metadata": {},
   "outputs": [
    {
     "name": "stdout",
     "output_type": "stream",
     "text": [
      "Not found\n"
     ]
    }
   ],
   "source": [
    "status = 404\n",
    "\n",
    "\n",
    "match status:\n",
    "    case 400:\n",
    "        print('Bad request')\n",
    "    case 404:\n",
    "        print('Not found')\n",
    "    case _:\n",
    "        print('Something is wrong')"
   ]
  },
  {
   "cell_type": "code",
   "execution_count": null,
   "id": "9055539e-10c8-4410-bdf0-55f155227c2c",
   "metadata": {},
   "outputs": [],
   "source": []
  },
  {
   "cell_type": "code",
   "execution_count": null,
   "id": "c78c7daf-cd80-449e-a4db-ca9fb067fbd0",
   "metadata": {},
   "outputs": [],
   "source": []
  }
 ],
 "metadata": {
  "kernelspec": {
   "display_name": "Python 3 (ipykernel)",
   "language": "python",
   "name": "python3"
  },
  "language_info": {
   "codemirror_mode": {
    "name": "ipython",
    "version": 3
   },
   "file_extension": ".py",
   "mimetype": "text/x-python",
   "name": "python",
   "nbconvert_exporter": "python",
   "pygments_lexer": "ipython3",
   "version": "3.11.1"
  }
 },
 "nbformat": 4,
 "nbformat_minor": 5
}
