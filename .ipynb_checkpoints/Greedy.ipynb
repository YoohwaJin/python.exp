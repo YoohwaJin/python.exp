{
 "cells": [
  {
   "cell_type": "markdown",
   "id": "478ebd5e-c2a9-43e8-baef-7f8aa0aa559c",
   "metadata": {},
   "source": [
    "# 탐욕(Greedy)알고리즘\n",
    "\n",
    "- 최적의 해를 구하는 데 사용되는 근시안적 방법\n",
    "- 여러 경우 중 하나를 결정해야 할 때마다 그 순간에 최적이라고 여겨지는 것을 선택하여 최종 해답에 도달\n",
    "ex) 거스름돈 지폐,동전 개수 최소화\n",
    "- 각 선택의 시점에서 이루어지는 결정은 지역적으로는 최적이지만, 그 선택들을 계속 수집하여 최종적인 해답을 만들었다고 하여 그것이 최적이라는 보장은 없음(각 선택은 최선이지만, 최종적으로 그것이 가장 좋은 선택은 아닐 수 있음)\n",
    "\n",
    "### 탐욕 알고리즘 동작 과정\n",
    "1. 해 선택: 현재 상태에서 부분 문제의 최적 해를 구한 뒤, 이를 부분해집합(Solution Set)에 추가\n",
    "2. 실행 가능성 검사: 새로운 부분해 집합이 실행 가능한지 확인, 문제의 제약조건을 위반하지 않는지 검사\n",
    "3. 해 검사: 새로운 부분해 집합이 문제의 해가 되는지 확인, 아직 전체 문제의 해가 완성되지 않았다면 1의 해 선택부터 다시 시작"
   ]
  },
  {
   "cell_type": "code",
   "execution_count": null,
   "id": "b7d0dcf6-417a-4201-a864-60872dc1ab8e",
   "metadata": {},
   "outputs": [],
   "source": []
  },
  {
   "cell_type": "code",
   "execution_count": null,
   "id": "ce764072-c5c3-4a94-8b75-e07a69b6ffe2",
   "metadata": {},
   "outputs": [],
   "source": []
  },
  {
   "cell_type": "code",
   "execution_count": null,
   "id": "37fdd2b4-d6a0-46e8-895a-fc15c700a5d7",
   "metadata": {},
   "outputs": [],
   "source": []
  },
  {
   "cell_type": "code",
   "execution_count": null,
   "id": "2a8f554c-c508-49ce-b7b8-1b442b086a23",
   "metadata": {},
   "outputs": [],
   "source": []
  },
  {
   "cell_type": "code",
   "execution_count": null,
   "id": "c1e13bbf-feb7-4004-852b-404dd8cbdb82",
   "metadata": {},
   "outputs": [],
   "source": []
  },
  {
   "cell_type": "code",
   "execution_count": null,
   "id": "622b3f3d-4bb1-4aec-bad3-87309e2fd561",
   "metadata": {},
   "outputs": [],
   "source": []
  },
  {
   "cell_type": "code",
   "execution_count": null,
   "id": "ec721693-c169-411c-8b81-6ebe0c0e2a2d",
   "metadata": {},
   "outputs": [],
   "source": []
  },
  {
   "cell_type": "code",
   "execution_count": null,
   "id": "50cd2a23-8b7e-4f31-8124-dbbfebbd1b58",
   "metadata": {},
   "outputs": [],
   "source": []
  }
 ],
 "metadata": {
  "kernelspec": {
   "display_name": "Python 3 (ipykernel)",
   "language": "python",
   "name": "python3"
  },
  "language_info": {
   "codemirror_mode": {
    "name": "ipython",
    "version": 3
   },
   "file_extension": ".py",
   "mimetype": "text/x-python",
   "name": "python",
   "nbconvert_exporter": "python",
   "pygments_lexer": "ipython3",
   "version": "3.11.1"
  }
 },
 "nbformat": 4,
 "nbformat_minor": 5
}
