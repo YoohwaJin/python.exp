{
 "cells": [
  {
   "cell_type": "markdown",
   "id": "e9bf4830-9b3c-433d-804a-4839f248741f",
   "metadata": {},
   "source": [
    "# 외울만 한 코드"
   ]
  },
  {
   "cell_type": "code",
   "execution_count": 2,
   "id": "de3b6f93-f7f6-4d07-823c-682afb33047a",
   "metadata": {},
   "outputs": [],
   "source": [
    "class Pocketmon():\n",
    "    def __init__(self, name):\n",
    "        self.name = name\n",
    "        self.level = 10\n",
    "        self.hp = self.level * 5\n",
    "        self.exp = 0\n",
    "\n",
    "    def attack(self, opponent):\n",
    "        damege = self.level * 2\n",
    "        opponent.hp -= damege\n",
    "        if opponent.check_hp():\n",
    "            self.exp += 5\n",
    "\n",
    "    def check_hp(self):\n",
    "        return True if self.hp <= 0 else False\n",
    "\n",
    "    \n",
    "class WaterType():\n",
    "    type_name = 'water'\n",
    "\n",
    "class FireType():\n",
    "    type_name = 'fire'\n",
    "\n",
    "class WaterPocketmon(Pocketmon, WaterType):\n",
    "    def water_attack1(self, opponent):\n",
    "        if opponent.type_name == 'fire':\n",
    "            damege = self.level * 4\n",
    "        else:\n",
    "            damege = self.level * 2\n",
    "        opponent.hp -= damege\n",
    "        print(f'{self.name}은 {opponent.name}에게 {damege}의 공격을 했다.')\n",
    "\n",
    "    def water_attack2(self, opponent):\n",
    "        damege = random.randint(1, 5)\n",
    "        opponent.hp -= damege\n",
    "        print(f'{self.name}은 {opponent.name}에게 {damege}의 공격을 했다.')    \n",
    "\n",
    "class FirePocketmon(Pocketmon, FireType):\n",
    "    def fire_attack1(self, opponent):\n",
    "        damege = self.level * 2\n",
    "        opponent.hp -= damege\n",
    "        print(f'{self.name}은 {opponent.name}에게 {damege}의 공격을 했다.')\n",
    "\n",
    "    def fire_attack2(self, opponent):\n",
    "        damege = random.randint(1, 5)\n",
    "        opponent.hp -= damege\n",
    "        print(f'{self.name}은 {opponent.name}에게 {damege}의 공격을 했다.')"
   ]
  },
  {
   "cell_type": "code",
   "execution_count": 3,
   "id": "e93067c1-7b01-4cfe-8e53-d8a865bf9d45",
   "metadata": {},
   "outputs": [],
   "source": [
    "koboki = WaterPocketmon('꼬부기')\n",
    "pairi = FirePocketmon('파이리')"
   ]
  },
  {
   "cell_type": "code",
   "execution_count": 4,
   "id": "92b10e26-814c-4bcc-b0b7-5aad603ed959",
   "metadata": {},
   "outputs": [
    {
     "name": "stdout",
     "output_type": "stream",
     "text": [
      "꼬부기은 파이리에게 40의 공격을 했다.\n",
      "파이리은 꼬부기에게 20의 공격을 했다.\n",
      "꼬부기: 30\n",
      "파이리: 10\n",
      "꼬부기은 파이리에게 1의 공격을 했다.\n",
      "파이리은 꼬부기에게 20의 공격을 했다.\n",
      "꼬부기: 10\n",
      "파이리: 9\n",
      "꼬부기은 파이리에게 40의 공격을 했다.\n",
      "파이리 승리\n"
     ]
    }
   ],
   "source": [
    "import random \n",
    "\n",
    "while not koboki.check_hp() or not pairi.check_hp():\n",
    "    random_attack = random.randint(0, 1)\n",
    "    if random_attack:\n",
    "        koboki.water_attack1(pairi)\n",
    "    else:\n",
    "        koboki.water_attack2(pairi)\n",
    "    if pairi.check_hp():\n",
    "        print(f'{pairi.name} 승리')\n",
    "        break\n",
    "\n",
    "    random_attack = random.randint(0, 1)\n",
    "    if random_attack:\n",
    "        pairi.fire_attack1(koboki)\n",
    "    else:\n",
    "        pairi.fire_attack2(koboki)\n",
    "    if koboki.check_hp():\n",
    "        print(f'{koboki.name} 승리')\n",
    "\n",
    "    \n",
    "    print(f'{koboki.name}: {koboki.hp}')\n",
    "    print(f'{pairi.name}: {pairi.hp}')"
   ]
  },
  {
   "cell_type": "code",
   "execution_count": null,
   "id": "d4c86574-cc8d-4d91-900a-ddda769b8f23",
   "metadata": {},
   "outputs": [],
   "source": []
  },
  {
   "cell_type": "code",
   "execution_count": 3,
   "id": "fdaf1ccc-9d52-4683-b212-a2e4b8da4d5e",
   "metadata": {},
   "outputs": [
    {
     "name": "stdin",
     "output_type": "stream",
     "text": [
      "점수를 입력하세요. 88\n"
     ]
    },
    {
     "name": "stdout",
     "output_type": "stream",
     "text": [
      "B\n"
     ]
    }
   ],
   "source": [
    "# if, elif\n",
    "\n",
    "score = int(input('점수를 입력하세요.'))\n",
    "\n",
    "if score >= 90:\n",
    "    print('A')\n",
    "    if score >= 95:\n",
    "        print('참잘했어요')\n",
    "elif score >= 80:\n",
    "    print('B')\n",
    "elif score >= 70:\n",
    "    print('C')\n",
    "else:\n",
    "    print('F')"
   ]
  },
  {
   "cell_type": "code",
   "execution_count": 4,
   "id": "c22e67a5-952f-4bc2-8ad5-399352e74e86",
   "metadata": {},
   "outputs": [
    {
     "name": "stdout",
     "output_type": "stream",
     "text": [
      "[1, 3, 5, 7, 9, 11, 13, 15, 17, 19, 21, 23, 25, 27, 29]\n"
     ]
    }
   ],
   "source": [
    "# for\n",
    "\n",
    "# 1-30까지 숫자중에서 홀수만 담긴 리스트를 출력\n",
    "\n",
    "# 1-30 중 홀수만 프린트 후에 \n",
    "\n",
    "a = range(31)\n",
    "result = []\n",
    "for a in range(31):\n",
    "    if a % 2 == 1:\n",
    "        # print(a)\n",
    "        result.append(a)\n",
    "\n",
    "print(result)\n"
   ]
  },
  {
   "cell_type": "code",
   "execution_count": 14,
   "id": "380866d6-9a25-4dac-a24b-d67d29844388",
   "metadata": {},
   "outputs": [
    {
     "name": "stdout",
     "output_type": "stream",
     "text": [
      "name\n",
      "yoohwa\n",
      "surname\n",
      "jin\n",
      "location\n",
      "Yeoju\n"
     ]
    }
   ],
   "source": [
    "info = {\n",
    "    'name': 'yoohwa',\n",
    "    'surname': 'jin',\n",
    "    'location': 'Yeoju'\n",
    "}\n",
    "\n",
    "for i in info:\n",
    "    print(i)\n",
    "    print(info[i])"
   ]
  },
  {
   "cell_type": "code",
   "execution_count": null,
   "id": "d9abe242-953d-4893-a129-58c16f3c9e05",
   "metadata": {},
   "outputs": [],
   "source": []
  },
  {
   "cell_type": "code",
   "execution_count": null,
   "id": "aea0ac1c-24d5-4f2a-a170-8ec293b5331c",
   "metadata": {},
   "outputs": [],
   "source": []
  },
  {
   "cell_type": "code",
   "execution_count": null,
   "id": "4537dea2-91fd-4344-a76a-0d8bf45aafbe",
   "metadata": {},
   "outputs": [],
   "source": []
  },
  {
   "cell_type": "code",
   "execution_count": null,
   "id": "0bd60ea8-10e8-4890-aa7d-832e2e7bea6b",
   "metadata": {},
   "outputs": [],
   "source": []
  },
  {
   "cell_type": "code",
   "execution_count": null,
   "id": "96d38a90-660a-4845-90fa-51b7bf51a53e",
   "metadata": {},
   "outputs": [],
   "source": []
  },
  {
   "cell_type": "code",
   "execution_count": null,
   "id": "e1796185-8eff-496c-8dea-cedb1ef9d084",
   "metadata": {},
   "outputs": [],
   "source": []
  }
 ],
 "metadata": {
  "kernelspec": {
   "display_name": "Python 3 (ipykernel)",
   "language": "python",
   "name": "python3"
  },
  "language_info": {
   "codemirror_mode": {
    "name": "ipython",
    "version": 3
   },
   "file_extension": ".py",
   "mimetype": "text/x-python",
   "name": "python",
   "nbconvert_exporter": "python",
   "pygments_lexer": "ipython3",
   "version": "3.11.1"
  }
 },
 "nbformat": 4,
 "nbformat_minor": 5
}
