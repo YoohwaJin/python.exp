{
 "cells": [
  {
   "cell_type": "markdown",
   "id": "667bcd8f-88fc-4b41-b6ba-f2a4005f6555",
   "metadata": {},
   "source": [
    "# 1. 모듈"
   ]
  },
  {
   "cell_type": "code",
   "execution_count": 1,
   "id": "6843d1a8-6e06-4ae6-a9a9-88470e716795",
   "metadata": {},
   "outputs": [],
   "source": [
    "import fibo"
   ]
  },
  {
   "cell_type": "code",
   "execution_count": 2,
   "id": "0786e04f-f007-4ea9-a2ae-a184a7d55b47",
   "metadata": {},
   "outputs": [
    {
     "name": "stdout",
     "output_type": "stream",
     "text": [
      "<module 'fibo' from 'C:\\\\Users\\\\진유화\\\\Desktop\\\\Camp_29\\\\python\\\\.ipynb_checkpoints\\\\fibo.py'>\n"
     ]
    }
   ],
   "source": [
    "print(fibo)"
   ]
  },
  {
   "cell_type": "code",
   "execution_count": 3,
   "id": "a58057aa-d219-46c3-bac3-acbbc4b7ac23",
   "metadata": {},
   "outputs": [
    {
     "ename": "UnboundLocalError",
     "evalue": "cannot access local variable 'result' where it is not associated with a value",
     "output_type": "error",
     "traceback": [
      "\u001b[1;31m---------------------------------------------------------------------------\u001b[0m",
      "\u001b[1;31mUnboundLocalError\u001b[0m                         Traceback (most recent call last)",
      "Cell \u001b[1;32mIn[3], line 1\u001b[0m\n\u001b[1;32m----> 1\u001b[0m \u001b[43mfibo\u001b[49m\u001b[38;5;241;43m.\u001b[39;49m\u001b[43mfib_loop\u001b[49m\u001b[43m(\u001b[49m\u001b[38;5;241;43m4\u001b[39;49m\u001b[43m)\u001b[49m\n",
      "File \u001b[1;32m~\\Desktop\\Camp_29\\python\\.ipynb_checkpoints\\fibo.py:5\u001b[0m, in \u001b[0;36mfib_loop\u001b[1;34m(n)\u001b[0m\n\u001b[0;32m      2\u001b[0m result : [\u001b[38;5;241m1\u001b[39m, \u001b[38;5;241m1\u001b[39m]\n\u001b[0;32m      4\u001b[0m \u001b[38;5;28;01mfor\u001b[39;00m i \u001b[38;5;129;01min\u001b[39;00m \u001b[38;5;28mrange\u001b[39m(\u001b[38;5;241m1\u001b[39m, n):\n\u001b[1;32m----> 5\u001b[0m     end1 \u001b[38;5;241m=\u001b[39m \u001b[43mresult\u001b[49m[\u001b[38;5;241m-\u001b[39m\u001b[38;5;241m1\u001b[39m] \u001b[38;5;66;03m# 리스트의 뒤에서 1번째 숫자\u001b[39;00m\n\u001b[0;32m      6\u001b[0m     end2 \u001b[38;5;241m=\u001b[39m result[\u001b[38;5;28mlen\u001b[39m(result)\u001b[38;5;241m-\u001b[39m\u001b[38;5;241m2\u001b[39m] \u001b[38;5;66;03m# result의 길이를 알려줌, =result[-2]\u001b[39;00m\n\u001b[0;32m      7\u001b[0m     fib_num \u001b[38;5;241m=\u001b[39m end1 \u001b[38;5;241m+\u001b[39m end2\n",
      "\u001b[1;31mUnboundLocalError\u001b[0m: cannot access local variable 'result' where it is not associated with a value"
     ]
    }
   ],
   "source": [
    "fibo.fib_loop(4)"
   ]
  },
  {
   "cell_type": "code",
   "execution_count": 4,
   "id": "9fb548c2-5eab-4ad9-8c01-b1ecd1d8cc16",
   "metadata": {},
   "outputs": [
    {
     "data": {
      "text/plain": [
       "3"
      ]
     },
     "execution_count": 4,
     "metadata": {},
     "output_type": "execute_result"
    }
   ],
   "source": [
    "fibo.fib_rec(3)"
   ]
  },
  {
   "cell_type": "markdown",
   "id": "b76447ca-2ee6-461f-91cc-c04a0acae41c",
   "metadata": {},
   "source": [
    "# 2. 패키지\n",
    "- 함수들의 집합\n",
    "```\n",
    "myPackage/\n",
    "    __init__.py\n",
    "    math/\n",
    "        __init__.py\n",
    "        fibo.py\n",
    "        formula.py\n",
    "\n",
    "패키지 안에 `__init__.py`파일이 있어야 패키지로 인식"
   ]
  },
  {
   "cell_type": "code",
   "execution_count": 5,
   "id": "5ed4b7f1-9bc3-4b98-bb50-2cbe06f75421",
   "metadata": {},
   "outputs": [
    {
     "ename": "ModuleNotFoundError",
     "evalue": "No module named 'myPackage'",
     "output_type": "error",
     "traceback": [
      "\u001b[1;31m---------------------------------------------------------------------------\u001b[0m",
      "\u001b[1;31mModuleNotFoundError\u001b[0m                       Traceback (most recent call last)",
      "Cell \u001b[1;32mIn[5], line 1\u001b[0m\n\u001b[1;32m----> 1\u001b[0m \u001b[38;5;28;01mimport\u001b[39;00m \u001b[38;5;21;01mmyPackage\u001b[39;00m\n",
      "\u001b[1;31mModuleNotFoundError\u001b[0m: No module named 'myPackage'"
     ]
    }
   ],
   "source": [
    "#import myPackage"
   ]
  },
  {
   "cell_type": "code",
   "execution_count": null,
   "id": "b41fa61a-cf39-410b-9e9e-da431ac507e4",
   "metadata": {},
   "outputs": [],
   "source": [
    "#print(myPackage)"
   ]
  },
  {
   "cell_type": "code",
   "execution_count": null,
   "id": "47897be8-4b85-441d-a0b0-566ca547ba26",
   "metadata": {},
   "outputs": [],
   "source": [
    "#from myPackage.math"
   ]
  },
  {
   "cell_type": "code",
   "execution_count": 6,
   "id": "ec622681-6a0e-4f00-83b2-d2ccb5ffc4a5",
   "metadata": {},
   "outputs": [
    {
     "ename": "NameError",
     "evalue": "name 'formula' is not defined",
     "output_type": "error",
     "traceback": [
      "\u001b[1;31m---------------------------------------------------------------------------\u001b[0m",
      "\u001b[1;31mNameError\u001b[0m                                 Traceback (most recent call last)",
      "Cell \u001b[1;32mIn[6], line 1\u001b[0m\n\u001b[1;32m----> 1\u001b[0m \u001b[43mformula\u001b[49m\u001b[38;5;241m.\u001b[39mmy_max(\u001b[38;5;241m1\u001b[39m, \u001b[38;5;241m2\u001b[39m)\n",
      "\u001b[1;31mNameError\u001b[0m: name 'formula' is not defined"
     ]
    }
   ],
   "source": [
    "#formula.my_max(1, 2)"
   ]
  },
  {
   "cell_type": "code",
   "execution_count": null,
   "id": "71b6c152-f49a-4d08-bbfb-c22c116c3a53",
   "metadata": {},
   "outputs": [],
   "source": []
  },
  {
   "cell_type": "markdown",
   "id": "f04e15eb-fb5d-42aa-9a3b-9e786e8c92d8",
   "metadata": {},
   "source": [
    "## 3. 파이썬 내장 패키지"
   ]
  },
  {
   "cell_type": "markdown",
   "id": "00ed0467-67b9-4b09-aec0-ab2e3c91f807",
   "metadata": {},
   "source": [
    "### 3.1 math"
   ]
  },
  {
   "cell_type": "code",
   "execution_count": 8,
   "id": "26a67e75-dc5d-4d34-a845-f3d29f9d7f0e",
   "metadata": {},
   "outputs": [],
   "source": [
    "import math"
   ]
  },
  {
   "cell_type": "code",
   "execution_count": 9,
   "id": "82daf95f-de6c-41a3-bed3-e78306383d69",
   "metadata": {},
   "outputs": [
    {
     "data": {
      "text/plain": [
       "3.141592653589793"
      ]
     },
     "execution_count": 9,
     "metadata": {},
     "output_type": "execute_result"
    }
   ],
   "source": [
    "math.pi"
   ]
  },
  {
   "cell_type": "code",
   "execution_count": 11,
   "id": "171aa8f8-0f8e-4ab0-af02-83eec787feab",
   "metadata": {},
   "outputs": [
    {
     "data": {
      "text/plain": [
       "2.718281828459045"
      ]
     },
     "execution_count": 11,
     "metadata": {},
     "output_type": "execute_result"
    }
   ],
   "source": [
    "math.e"
   ]
  },
  {
   "cell_type": "code",
   "execution_count": 12,
   "id": "95f41a50-6ad5-49de-a28c-538e3f1bb57a",
   "metadata": {},
   "outputs": [],
   "source": [
    "pi = 3.141592"
   ]
  },
  {
   "cell_type": "code",
   "execution_count": 13,
   "id": "79d0dfc3-669b-4b4a-8028-0f0b1c4625ff",
   "metadata": {},
   "outputs": [
    {
     "data": {
      "text/plain": [
       "4"
      ]
     },
     "execution_count": 13,
     "metadata": {},
     "output_type": "execute_result"
    }
   ],
   "source": [
    "math.ceil(pi) #올림"
   ]
  },
  {
   "cell_type": "code",
   "execution_count": 14,
   "id": "d0f22a9a-496a-4eab-bc0e-a8d51b4c8ab7",
   "metadata": {},
   "outputs": [
    {
     "data": {
      "text/plain": [
       "3"
      ]
     },
     "execution_count": 14,
     "metadata": {},
     "output_type": "execute_result"
    }
   ],
   "source": [
    "math.floor(pi) #내림"
   ]
  },
  {
   "cell_type": "code",
   "execution_count": 16,
   "id": "283f509e-d8cd-43dc-b768-69eb39c17d06",
   "metadata": {},
   "outputs": [
    {
     "data": {
      "text/plain": [
       "3.0"
      ]
     },
     "execution_count": 16,
     "metadata": {},
     "output_type": "execute_result"
    }
   ],
   "source": [
    "math.sqrt(9) #제곱근"
   ]
  },
  {
   "cell_type": "markdown",
   "id": "5ef62bd3-43ea-414e-a51b-b9485a7ac5b6",
   "metadata": {},
   "source": [
    "### 3.2 random"
   ]
  },
  {
   "cell_type": "code",
   "execution_count": 18,
   "id": "c067db6b-c84d-4c79-891f-3a3f89e75bca",
   "metadata": {},
   "outputs": [],
   "source": [
    "import random"
   ]
  },
  {
   "cell_type": "code",
   "execution_count": 83,
   "id": "e0576c40-ac34-4c97-82d1-602ad56167f0",
   "metadata": {},
   "outputs": [
    {
     "data": {
      "text/plain": [
       "0.029040787574867943"
      ]
     },
     "execution_count": 83,
     "metadata": {},
     "output_type": "execute_result"
    }
   ],
   "source": [
    "random.random() #0과 1 사이의 랜덤한 숫자를 출력"
   ]
  },
  {
   "cell_type": "code",
   "execution_count": 51,
   "id": "80604797-b63f-43d1-a1aa-9f568e631394",
   "metadata": {},
   "outputs": [
    {
     "data": {
      "text/plain": [
       "2"
      ]
     },
     "execution_count": 51,
     "metadata": {},
     "output_type": "execute_result"
    }
   ],
   "source": [
    "random.randint(1, 10) # 1부터 10까지의 랜덤한 정수 출력"
   ]
  },
  {
   "cell_type": "code",
   "execution_count": 57,
   "id": "c7e3a036-ddcd-4dce-a0fa-e2c02382ac6a",
   "metadata": {},
   "outputs": [
    {
     "data": {
      "text/plain": [
       "0.13436424411240122"
      ]
     },
     "execution_count": 57,
     "metadata": {},
     "output_type": "execute_result"
    }
   ],
   "source": [
    "# seed(고정된 랜덤값)\n",
    "\n",
    "random.seed(1)\n",
    "random.random()"
   ]
  },
  {
   "cell_type": "code",
   "execution_count": 85,
   "id": "dd54afe9-4992-483a-a123-b27d48fc522b",
   "metadata": {},
   "outputs": [
    {
     "name": "stdout",
     "output_type": "stream",
     "text": [
      "[4, 1, 5, 2, 3]\n"
     ]
    }
   ],
   "source": [
    "# shuffle\n",
    "\n",
    "a = [1, 2, 3, 4, 5]\n",
    "random.shuffle(a)\n",
    "print(a)"
   ]
  },
  {
   "cell_type": "code",
   "execution_count": 96,
   "id": "22f82ffd-7932-4fd8-88c5-e64b2731e4dd",
   "metadata": {},
   "outputs": [
    {
     "name": "stdout",
     "output_type": "stream",
     "text": [
      "바위\n"
     ]
    }
   ],
   "source": [
    "# choice\n",
    "a = ['가위', '바위', '보']\n",
    "print(random.choice(a))"
   ]
  },
  {
   "cell_type": "code",
   "execution_count": 97,
   "id": "c8283a00-bbb0-4d05-a2c0-2556373c262a",
   "metadata": {},
   "outputs": [
    {
     "data": {
      "text/plain": [
       "[8, 22, 33, 28, 43, 13]"
      ]
     },
     "execution_count": 97,
     "metadata": {},
     "output_type": "execute_result"
    }
   ],
   "source": [
    "# sample\n",
    "a = range(1, 46)\n",
    "random.sample(a, 6)"
   ]
  },
  {
   "cell_type": "markdown",
   "id": "4ed3c908-aaba-4fc9-ab2b-3a6d14ff65a3",
   "metadata": {},
   "source": [
    "### 3.3 datetime"
   ]
  },
  {
   "cell_type": "code",
   "execution_count": 99,
   "id": "1a2fedc3-4008-4ecc-8ad4-311c8389bcf8",
   "metadata": {},
   "outputs": [],
   "source": [
    "from datetime import datetime"
   ]
  },
  {
   "cell_type": "code",
   "execution_count": 100,
   "id": "9b24919b-af0f-4406-9e4c-570ed9a65c49",
   "metadata": {},
   "outputs": [
    {
     "name": "stdout",
     "output_type": "stream",
     "text": [
      "2023-07-31 16:21:35.349427\n"
     ]
    }
   ],
   "source": [
    "now =  datetime.now()\n",
    "print(now)"
   ]
  },
  {
   "cell_type": "code",
   "execution_count": 101,
   "id": "077a8d7f-7a25-41d6-b16a-68af949d2c67",
   "metadata": {},
   "outputs": [
    {
     "name": "stdout",
     "output_type": "stream",
     "text": [
      "2023-07-31 07:23:33.242312\n"
     ]
    }
   ],
   "source": [
    "utc = datetime.utcnow()\n",
    "print(utc)"
   ]
  },
  {
   "cell_type": "code",
   "execution_count": 104,
   "id": "4da892ff-88b6-4a39-a81b-a2515dd33424",
   "metadata": {},
   "outputs": [
    {
     "data": {
      "text/plain": [
       "'2023년 07월 31일 입니다.'"
      ]
     },
     "execution_count": 104,
     "metadata": {},
     "output_type": "execute_result"
    }
   ],
   "source": [
    "now.strftime('%Y년 %m월 %d일 입니다.')"
   ]
  },
  {
   "cell_type": "code",
   "execution_count": 113,
   "id": "252e3dfa-1245-476f-ab30-53d6d0db23f9",
   "metadata": {},
   "outputs": [
    {
     "name": "stdout",
     "output_type": "stream",
     "text": [
      "2023-01-01 00:00:00\n"
     ]
    }
   ],
   "source": [
    "birth = datetime(2023, 1, 1)\n",
    "print(birth)"
   ]
  },
  {
   "cell_type": "code",
   "execution_count": 106,
   "id": "6b50a1ca-6e2a-48ef-a46b-c2fec3e8c87f",
   "metadata": {},
   "outputs": [],
   "source": [
    "from datetime import timedelta"
   ]
  },
  {
   "cell_type": "code",
   "execution_count": 114,
   "id": "0dc73dd8-a717-4867-beed-4d5255cae0ed",
   "metadata": {},
   "outputs": [
    {
     "name": "stdout",
     "output_type": "stream",
     "text": [
      "3 days, 0:00:00\n"
     ]
    }
   ],
   "source": [
    "future = timedelta(days=3)\n",
    "print(future)"
   ]
  },
  {
   "cell_type": "code",
   "execution_count": null,
   "id": "e7da974c-adfa-4866-8c10-0ec1c7a7c7ac",
   "metadata": {},
   "outputs": [],
   "source": []
  },
  {
   "cell_type": "code",
   "execution_count": 115,
   "id": "4e2277cc-288e-46f8-9f08-d2d83e9ad4d1",
   "metadata": {},
   "outputs": [
    {
     "data": {
      "text/plain": [
       "datetime.datetime(2023, 1, 4, 0, 0)"
      ]
     },
     "execution_count": 115,
     "metadata": {},
     "output_type": "execute_result"
    }
   ],
   "source": [
    "birth + future"
   ]
  },
  {
   "cell_type": "code",
   "execution_count": null,
   "id": "89c02978-7cca-4419-9956-58f0d7353e28",
   "metadata": {},
   "outputs": [],
   "source": []
  },
  {
   "cell_type": "code",
   "execution_count": null,
   "id": "699d1751-5ec2-415d-9137-de4abd317e7d",
   "metadata": {},
   "outputs": [],
   "source": []
  },
  {
   "cell_type": "code",
   "execution_count": null,
   "id": "ada38b89-8b52-4de3-b376-5df9b90673f4",
   "metadata": {},
   "outputs": [],
   "source": []
  },
  {
   "cell_type": "code",
   "execution_count": null,
   "id": "e88bd20d-47d7-465d-bc38-9bde62a9986a",
   "metadata": {},
   "outputs": [],
   "source": []
  },
  {
   "cell_type": "code",
   "execution_count": null,
   "id": "37f254c2-bc51-4cbc-b9b2-5ff7b3ba87d7",
   "metadata": {},
   "outputs": [],
   "source": []
  },
  {
   "cell_type": "code",
   "execution_count": null,
   "id": "ad9f8482-894f-4312-ae41-3abcf862bc0a",
   "metadata": {},
   "outputs": [],
   "source": []
  },
  {
   "cell_type": "code",
   "execution_count": null,
   "id": "80f74f77-b849-4e0c-946c-1de87b411910",
   "metadata": {},
   "outputs": [],
   "source": []
  },
  {
   "cell_type": "code",
   "execution_count": null,
   "id": "371df45a-6f46-47bc-b83c-4b46ce450b31",
   "metadata": {},
   "outputs": [],
   "source": []
  },
  {
   "cell_type": "code",
   "execution_count": null,
   "id": "fd8428af-cfe4-4bcb-b91d-8214e1c92b2c",
   "metadata": {},
   "outputs": [],
   "source": []
  },
  {
   "cell_type": "code",
   "execution_count": null,
   "id": "6d85d373-8c04-43ac-9429-a02922840b8a",
   "metadata": {},
   "outputs": [],
   "source": []
  },
  {
   "cell_type": "code",
   "execution_count": null,
   "id": "efd70c96-a806-449a-a498-a51aa7b6e63b",
   "metadata": {},
   "outputs": [],
   "source": []
  },
  {
   "cell_type": "code",
   "execution_count": null,
   "id": "c74d42c6-aaf0-49f9-96ba-def11ca9ad2e",
   "metadata": {},
   "outputs": [],
   "source": []
  },
  {
   "cell_type": "code",
   "execution_count": null,
   "id": "64d34e8f-c513-4af6-b25a-77ec3193d920",
   "metadata": {},
   "outputs": [],
   "source": []
  }
 ],
 "metadata": {
  "kernelspec": {
   "display_name": "Python 3 (ipykernel)",
   "language": "python",
   "name": "python3"
  },
  "language_info": {
   "codemirror_mode": {
    "name": "ipython",
    "version": 3
   },
   "file_extension": ".py",
   "mimetype": "text/x-python",
   "name": "python",
   "nbconvert_exporter": "python",
   "pygments_lexer": "ipython3",
   "version": "3.11.1"
  }
 },
 "nbformat": 4,
 "nbformat_minor": 5
}
