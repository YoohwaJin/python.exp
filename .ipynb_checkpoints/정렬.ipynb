{
 "cells": [
  {
   "cell_type": "markdown",
   "id": "b348d160-5620-4780-b971-f29794ab4f35",
   "metadata": {},
   "source": [
    "# [Algorithm] 정렬\n"
   ]
  },
  {
   "cell_type": "markdown",
   "id": "a1575bea-87ea-4aee-887a-2719cc17a151",
   "metadata": {},
   "source": [
    "\n",
    "## 버블정렬\n",
    "\n",
    "- 인접한 두개의 원소를 비교하면서 맨 뒷자리까지 이동(큰 원소는 뒤로 보내면 마지막엔 제일 큰 수가 뒤로 가게끔, 그 다음엔 맨 뒷자리 원소를 제외하고 같은 동작 반복"
   ]
  },
  {
   "cell_type": "code",
   "execution_count": 2,
   "id": "1fbe4d28-96fe-474f-9688-5af048aec7cf",
   "metadata": {},
   "outputs": [
    {
     "name": "stdout",
     "output_type": "stream",
     "text": [
      "[1, 2, 3, 4, 6, 7, 8]\n"
     ]
    }
   ],
   "source": [
    "# Bubble sort\n",
    "arr = [1, 2, 4, 6, 3, 8, 7]\n",
    "\n",
    "def BubbleSort(arr):\n",
    "    for i in range(len(arr)-1, 0, -1):\n",
    "        for j in range(0, i):\n",
    "            if arr[j] > arr[j+1]:\n",
    "                arr[j], arr[j+1] = arr[j+1], arr[j]\n",
    "\n",
    "    return arr\n",
    "\n",
    "print(BubbleSort(arr))"
   ]
  },
  {
   "cell_type": "markdown",
   "id": "442e00ac-1b55-4d79-8793-146eb8118822",
   "metadata": {},
   "source": [
    "## 카운팅정렬\n",
    "\n",
    "https://www.youtube.com/shorts/P1hPQegqOC4\n",
    "\n",
    "- 인자들의 순서를 결정하기 위해 각 인자가 몇 개씩 있는지 세는 작업 -> 리스트를 만들어서 최대값까지 박스를 하나씩 생성, 또다른 리스트에 할당"
   ]
  },
  {
   "cell_type": "code",
   "execution_count": 8,
   "id": "82a4f391-2311-44c3-8bf1-3246091263af",
   "metadata": {},
   "outputs": [
    {
     "data": {
      "text/plain": [
       "[1, 2, 3, 4, 6, 7, 8]"
      ]
     },
     "execution_count": 8,
     "metadata": {},
     "output_type": "execute_result"
    }
   ],
   "source": [
    "# Counting sort: \n",
    "a = [1, 2, 4, 6, 3, 8, 7]\n",
    "\n",
    "def CountingSort(arr):\n",
    "    k = max(arr)\n",
    "    cnt = [0] * (k+1)\n",
    "    result = [0] * len(arr)\n",
    "\n",
    "    for i in range(len(arr)):\n",
    "        cnt[arr[i]] += 1\n",
    "\n",
    "    for j in range(1, len(cnt)):\n",
    "        cnt[j] += cnt[j-1]\n",
    "\n",
    "    for l in range(len(arr)-1, -1, -1):\n",
    "        result[cnt[arr[l]]-1] = arr[l]\n",
    "\n",
    "    return result\n",
    "\n",
    "CountingSort(a)"
   ]
  },
  {
   "cell_type": "markdown",
   "id": "7b0ec3e3-bd6d-46ee-8ed2-d6bada36fb47",
   "metadata": {},
   "source": [
    "## 선택정렬\n",
    "\n",
    "- 주어진 자료들 중 가장 작은 값의 원소부터 차례대로 선택하여 위치를 교환하는 방식\n",
    "- 정렬 과정\n",
    "      - 주어진 리스트 중에서 최소값 찾기\n",
    "      - 그 값을 리스트의 맨 앞에 위치한 값과 교환\n",
    "      - 맨 처음 위치를 제외한 나머지 리스트를 대상으로 위의 과정을 반복\n",
    "- 비교&교환\n",
    "- 교환의 횟수가 버블, 삽입정렬보다 적음\n",
    "- O(n^2)\n"
   ]
  },
  {
   "cell_type": "code",
   "execution_count": 10,
   "id": "152976ca-3729-4da5-949b-d9aa87becc48",
   "metadata": {},
   "outputs": [
    {
     "data": {
      "text/plain": [
       "[1, 2, 3, 4, 6, 7, 8]"
      ]
     },
     "execution_count": 10,
     "metadata": {},
     "output_type": "execute_result"
    }
   ],
   "source": [
    "# Selection sort\n",
    "arr = [1, 2, 4, 6, 3, 8, 7]\n",
    "\n",
    "\n",
    "def SelectionSort(arr):\n",
    "    for i in range(len(arr)-1):\n",
    "        min_idx = i\n",
    "\n",
    "        for j in range(i, len(arr)):\n",
    "            if arr[j] < arr[min_idx]:\n",
    "                min_idx = j\n",
    "\n",
    "        arr[i], arr[min_idx] = arr[min_idx], arr[i]\n",
    "\n",
    "    return arr\n",
    "    \n",
    "SelectionSort(arr)"
   ]
  },
  {
   "cell_type": "markdown",
   "id": "e8d6b030-d8f2-48a4-b9e1-72d10caca771",
   "metadata": {},
   "source": [
    "## 삽입정렬\n",
    "-[codly](https://www.youtube.com/watch?v=fIe7gdgMvMU)"
   ]
  },
  {
   "cell_type": "code",
   "execution_count": null,
   "id": "bcf0e2b5-e178-4255-b665-cb34f6554cdb",
   "metadata": {},
   "outputs": [],
   "source": []
  },
  {
   "cell_type": "code",
   "execution_count": null,
   "id": "34be754c-a84b-4ddd-87de-7d168317c693",
   "metadata": {},
   "outputs": [],
   "source": []
  },
  {
   "cell_type": "code",
   "execution_count": null,
   "id": "dbc05958-87e9-47af-835c-bce6eef5ea2e",
   "metadata": {},
   "outputs": [],
   "source": []
  },
  {
   "cell_type": "code",
   "execution_count": null,
   "id": "0fe1a613-4c2d-4e31-8bb1-782567d7e89e",
   "metadata": {},
   "outputs": [],
   "source": []
  },
  {
   "cell_type": "code",
   "execution_count": null,
   "id": "64c72e06-13f7-472d-ba6c-1f2aee311a77",
   "metadata": {},
   "outputs": [],
   "source": []
  },
  {
   "cell_type": "code",
   "execution_count": null,
   "id": "5af9998c-d260-4aa5-9e5a-6e78ab9fa5f6",
   "metadata": {},
   "outputs": [],
   "source": []
  },
  {
   "cell_type": "code",
   "execution_count": null,
   "id": "028cd8bf-bc5f-4296-8d38-c02f96ca2653",
   "metadata": {},
   "outputs": [],
   "source": []
  },
  {
   "cell_type": "code",
   "execution_count": null,
   "id": "d55ff024-61b3-441e-a108-095c55c1f39f",
   "metadata": {},
   "outputs": [],
   "source": []
  },
  {
   "cell_type": "code",
   "execution_count": null,
   "id": "dceeb897-5606-41c2-b3de-c715861e4115",
   "metadata": {},
   "outputs": [],
   "source": []
  },
  {
   "cell_type": "code",
   "execution_count": null,
   "id": "3f793e06-d278-48c3-bebe-9220b3b4fb47",
   "metadata": {},
   "outputs": [],
   "source": []
  },
  {
   "cell_type": "code",
   "execution_count": null,
   "id": "4ab32604-be3e-4a1a-a996-bf2676ded310",
   "metadata": {},
   "outputs": [],
   "source": []
  }
 ],
 "metadata": {
  "kernelspec": {
   "display_name": "Python 3 (ipykernel)",
   "language": "python",
   "name": "python3"
  },
  "language_info": {
   "codemirror_mode": {
    "name": "ipython",
    "version": 3
   },
   "file_extension": ".py",
   "mimetype": "text/x-python",
   "name": "python",
   "nbconvert_exporter": "python",
   "pygments_lexer": "ipython3",
   "version": "3.11.1"
  }
 },
 "nbformat": 4,
 "nbformat_minor": 5
}
