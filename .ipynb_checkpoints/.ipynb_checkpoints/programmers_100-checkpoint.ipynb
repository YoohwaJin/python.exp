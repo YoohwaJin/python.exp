{
 "cells": [
  {
   "cell_type": "code",
   "execution_count": 1,
   "id": "ec5c176c-8c63-4e1c-8ed6-af959196d8c2",
   "metadata": {},
   "outputs": [
    {
     "name": "stdout",
     "output_type": "stream",
     "text": [
      "12\n",
      "513\n"
     ]
    }
   ],
   "source": [
    "#두 수의 곱\n",
    "\n",
    "def solution(num1, num2):\n",
    "    answer = num1 * num2\n",
    "    return answer\n",
    "\n",
    "\n",
    "print(solution(3, 4))\n",
    "print(solution(27, 19))\n"
   ]
  },
  {
   "cell_type": "code",
   "execution_count": 2,
   "id": "b3f85c2b-2567-4bd9-983f-786caf0916d4",
   "metadata": {},
   "outputs": [
    {
     "name": "stdout",
     "output_type": "stream",
     "text": [
      "-1\n",
      "98\n"
     ]
    }
   ],
   "source": [
    "#두 수의 차\n",
    "\n",
    "def solution(num1, num2):\n",
    "    answer = num1 - num2\n",
    "    return answer\n",
    "\n",
    "\n",
    "print(solution(2, 3)) # => -1\n",
    "print(solution(100, 2)) # => 98"
   ]
  },
  {
   "cell_type": "code",
   "execution_count": 6,
   "id": "f22eafef-35d5-4855-af28-b3d820666708",
   "metadata": {},
   "outputs": [
    {
     "name": "stdout",
     "output_type": "stream",
     "text": [
      "124000\n",
      "768000\n"
     ]
    }
   ],
   "source": [
    "# 양꼬치: 양꼬치 1인분 12,000원, 음료수 1개 2,000원 일때 양꼬치 10인분을 먹으면 음료수 1개 서비스일 때, 양꼬치 n인분, 음료수 k개를 먹을 때 계산값을 출력하도록\n",
    "\n",
    "def solution(n, k):\n",
    "    # n => 양꼬치 n인분\n",
    "    # k => 음료수 k개\n",
    "\n",
    "    answer = 0\n",
    "\n",
    "    service = n // 10\n",
    "\n",
    "    answer = (n * 12000) + (k - service) * 2000\n",
    "\n",
    "    return answer\n",
    "\n",
    "print(solution(10, 3))\n",
    "print(solution(64, 6))"
   ]
  },
  {
   "cell_type": "code",
   "execution_count": 12,
   "id": "cf004e4e-961d-4496-bb35-f59f5cb31396",
   "metadata": {},
   "outputs": [
    {
     "name": "stdout",
     "output_type": "stream",
     "text": [
      "30\n"
     ]
    }
   ],
   "source": [
    "# 짝수의 합: 정수 n이 주어질 때, n 이하의 짝수를 모두 더하도록\n",
    "\n",
    "\n",
    "def solution(n):\n",
    "    a = range(2, n+1, 2) # 2를 1로 바꾸면 홀수의 합\n",
    "    return sum(a)\n",
    "\n",
    "    # for i in range(n+1):\n",
    "    #     if i % 2 == 0:\n",
    "    #         answer.append(i)\n",
    "    \n",
    "    # for i in range(n+1):\n",
    "    #     if i % 2 == 0:\n",
    "    #         answer += i\n",
    "            \n",
    "    # for i in range(n+1):\n",
    "    #     print(i)\n",
    "\n",
    "# - range(n) : 0부터 n-1까지 범위, 총 n개의 숫자를 가짐\n",
    "# - range(n, m) : n부터 m-1까지 범위, m-1개의 숫자를 가짐\n",
    "# - range(n, m, s) : n부터 m-1까지 +s만큼 증가하는 범위\n",
    "\n",
    "print(solution(10))"
   ]
  },
  {
   "cell_type": "code",
   "execution_count": 19,
   "id": "5f3e0b08-f049-42b4-90da-2d9bd95eca8d",
   "metadata": {},
   "outputs": [
    {
     "name": "stdin",
     "output_type": "stream",
     "text": [
      "두개의 숫자를 입력하세요(띄어쓰기로 구분) 2 3\n"
     ]
    },
    {
     "data": {
      "text/plain": [
       "-1"
      ]
     },
     "execution_count": 19,
     "metadata": {},
     "output_type": "execute_result"
    }
   ],
   "source": [
    "# 숫자 비교하기: 입력된 두 숫자가 같으면 1, 다르면 -1을 출력하도록\n",
    "\n",
    "num1, num2 = input('두개의 숫자를 입력하세요(띄어쓰기로 구분)').split()\n",
    "\n",
    "def solution(num1, num2):\n",
    "    if num1 == num2:\n",
    "        return 1\n",
    "    else:\n",
    "        return -1\n",
    "\n",
    "solution(num1, num2)"
   ]
  },
  {
   "cell_type": "code",
   "execution_count": 20,
   "id": "27ff79da-643d-4dc3-b93a-581b8b892502",
   "metadata": {},
   "outputs": [
    {
     "data": {
      "text/plain": [
       "0.5"
      ]
     },
     "execution_count": 20,
     "metadata": {},
     "output_type": "execute_result"
    }
   ],
   "source": [
    "1 / 2"
   ]
  },
  {
   "cell_type": "code",
   "execution_count": 22,
   "id": "e8b7b4dd-f260-4736-bc7d-17c427f86a09",
   "metadata": {},
   "outputs": [],
   "source": [
    "# 분수의 합 실패\n",
    "\n",
    "# def lcm(a, b):\n",
    "#     for i in range(max(a, b), (a * b) + 1):\n",
    "#         if i % a == 0 and i % b == 0:\n",
    "#             return i\n",
    "\n",
    "# def solution(numer1, denom1, numer2, denom2):\n",
    "#     b = lcm(denom1, denom2)\n",
    "#     ((numer1 / denom1) * b) + ((numer2 / denom2) * b) = a\n",
    "#     answer = [a, b]\n",
    "#     return answer"
   ]
  },
  {
   "cell_type": "code",
   "execution_count": 23,
   "id": "5207b94a-f39a-46f0-8ec9-2e46738fda4f",
   "metadata": {},
   "outputs": [
    {
     "data": {
      "text/plain": [
       "30"
      ]
     },
     "execution_count": 23,
     "metadata": {},
     "output_type": "execute_result"
    }
   ],
   "source": [
    "# 편지: 글자, 공백, 기호 모두 각 2cm의 길이를 필요로하고, 편지는 가로로만 쓴다고 할 때, 편지지의 가로길이를 출력하도록\n",
    "\n",
    "def solution(a):\n",
    "        return(len(a) * 2)\n",
    "\n",
    "solution('happy birthday!')"
   ]
  },
  {
   "cell_type": "code",
   "execution_count": null,
   "id": "69ef9b4e-f550-437b-8d2d-86daec69f014",
   "metadata": {},
   "outputs": [],
   "source": [
    "# 정수 n이 주어질 때, 각 자리의 숫자를 모두 더하도록"
   ]
  },
  {
   "cell_type": "code",
   "execution_count": null,
   "id": "812dcada-dbc0-40e1-b74b-a360be1f55ec",
   "metadata": {},
   "outputs": [],
   "source": []
  },
  {
   "cell_type": "code",
   "execution_count": null,
   "id": "865fe9c3-64b2-49a1-8dd4-28578154431e",
   "metadata": {},
   "outputs": [],
   "source": []
  }
 ],
 "metadata": {
  "kernelspec": {
   "display_name": "Python 3 (ipykernel)",
   "language": "python",
   "name": "python3"
  },
  "language_info": {
   "codemirror_mode": {
    "name": "ipython",
    "version": 3
   },
   "file_extension": ".py",
   "mimetype": "text/x-python",
   "name": "python",
   "nbconvert_exporter": "python",
   "pygments_lexer": "ipython3",
   "version": "3.11.1"
  }
 },
 "nbformat": 4,
 "nbformat_minor": 5
}
