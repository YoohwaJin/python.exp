{
 "cells": [
  {
   "cell_type": "markdown",
   "id": "9069cda6-890d-442d-83ce-766aa2e761ab",
   "metadata": {},
   "source": [
    "# 객체지향 프로그래밍(Object-Oriented Programming)\n",
    "\n",
    "- 클래스(class) : 같은 종류의 집단에 속하는 속성(attribute)과 행위(method)를 **정의**한 것\n",
    "- 인스턴스(instance) : 클래스를 실제로 메모리상에 할당한 것\n",
    "- 속성(attribute) : 클래스/인스턴스가 가지고 있는 데이터/값\n",
    "- 행위(method) : 클래스/인스턴스가 가지고 있는 함수/기능"
   ]
  },
  {
   "cell_type": "code",
   "execution_count": 1,
   "id": "c90010a2-3d58-4d10-9c36-11b759354550",
   "metadata": {},
   "outputs": [
    {
     "name": "stdout",
     "output_type": "stream",
     "text": [
      "(1+2j)\n"
     ]
    }
   ],
   "source": [
    "number = 1 + 2j\n",
    "print(number)"
   ]
  },
  {
   "cell_type": "code",
   "execution_count": 5,
   "id": "ee5d4589-eb64-4a8d-bf06-068da6f5bde1",
   "metadata": {},
   "outputs": [
    {
     "name": "stdout",
     "output_type": "stream",
     "text": [
      "1.0\n",
      "2.0\n",
      "<class 'complex'>\n"
     ]
    }
   ],
   "source": [
    "print(number.real)\n",
    "print(number.imag)\n",
    "print(type(number))"
   ]
  },
  {
   "cell_type": "code",
   "execution_count": 6,
   "id": "eb24c5ca-43aa-4acd-bf39-b2271ad8eb43",
   "metadata": {},
   "outputs": [
    {
     "name": "stdout",
     "output_type": "stream",
     "text": [
      "<class 'list'>\n"
     ]
    }
   ],
   "source": [
    "my_list = [1, 2, 3, 4, 5]\n",
    "print(type(my_list))\n",
    "my_list.sort()"
   ]
  },
  {
   "cell_type": "code",
   "execution_count": 7,
   "id": "d7dfee16-13a2-4533-a64d-dcaf9c759833",
   "metadata": {},
   "outputs": [],
   "source": [
    "power = False\n",
    "number = '010-7248-4555'\n",
    "book = {\n",
    "    '범수': '010-3837-0789',\n",
    "    '채영': '010-3597-5540',\n",
    "}\n",
    "model = 'iPhone11_Pro'"
   ]
  },
  {
   "cell_type": "code",
   "execution_count": 8,
   "id": "c2063985-cd4f-4df3-8141-a874b3979cb7",
   "metadata": {},
   "outputs": [],
   "source": [
    "def on():\n",
    "    global power\n",
    "    if power ==  False:\n",
    "        power = True\n",
    "        print('핸드폰이 켜졌습니다.')"
   ]
  },
  {
   "cell_type": "code",
   "execution_count": 9,
   "id": "6dc07ee1-b2f4-455d-8349-dc8551d95999",
   "metadata": {},
   "outputs": [
    {
     "name": "stdout",
     "output_type": "stream",
     "text": [
      "핸드폰이 켜졌습니다.\n"
     ]
    }
   ],
   "source": [
    "on()"
   ]
  },
  {
   "cell_type": "markdown",
   "id": "c0ef0d5c-d959-4657-9794-b1c9bf27dd94",
   "metadata": {},
   "source": [
    "## Class\n",
    "- 클래스 선언\n",
    "```python\n",
    "class ClassName:\n",
    "    attribute = value\n",
    "\n",
    "    def method_name(self):\n",
    "        code\n",
    "```\n",
    "\n",
    "- 인스턴스화\n",
    "```python\n",
    "ClassName()\n",
    "```\n",
    "\n",
    "\n",
    "\n",
    "- 클래스 안의 단어는 모두 대문자로 시작하도록\n",
    "- 하나의 클래스엔 하나의"
   ]
  },
  {
   "cell_type": "code",
   "execution_count": 13,
   "id": "ce8176c2-b79d-41b4-93f5-b19e2b87aded",
   "metadata": {},
   "outputs": [],
   "source": [
    "# 선언\n",
    "class MyClass:\n",
    "    name = 'kim'\n",
    "\n",
    "    def hello(self):\n",
    "        return 'hello'"
   ]
  },
  {
   "cell_type": "code",
   "execution_count": 15,
   "id": "1239a829-87a8-45e2-9279-92569c537725",
   "metadata": {},
   "outputs": [
    {
     "name": "stdout",
     "output_type": "stream",
     "text": [
      "kim\n",
      "hello\n",
      "kim\n",
      "hello\n"
     ]
    }
   ],
   "source": [
    "#인스턴스회\n",
    "a = MyClass()\n",
    "print(a.name)\n",
    "print(a.hello())\n",
    "\n",
    "b = MyClass()\n",
    "print(b.name)\n",
    "print(b.hello())"
   ]
  },
  {
   "cell_type": "code",
   "execution_count": 27,
   "id": "277ca8c0-d0e8-4e4f-ba80-256836c9714f",
   "metadata": {},
   "outputs": [],
   "source": [
    "class Phone:\n",
    "    power = False\n",
    "    number = '010-0000-0000'\n",
    "    book = {}\n",
    "    model = ''\n",
    "\n",
    "    def on(self):\n",
    "        if self.power == False:\n",
    "            self.power = True\n",
    "            \n",
    "    def off(self):\n",
    "        if self.power == True:\n",
    "            self.power == False\n",
    "\n",
    "    def call(self, target):\n",
    "        if self.power == True:\n",
    "            print(f'내 번호는 (self.number)입니다.')\n",
    "            print(f'{target} 번호로 전화거는 중')\n",
    "        else:\n",
    "            print('핸드폰을 켜주세요')"
   ]
  },
  {
   "cell_type": "code",
   "execution_count": null,
   "id": "a5ec8523-adca-4b21-8c12-46ddbb442251",
   "metadata": {},
   "outputs": [],
   "source": []
  },
  {
   "cell_type": "code",
   "execution_count": 28,
   "id": "56090683-eab1-406d-8476-30caf87227db",
   "metadata": {},
   "outputs": [],
   "source": [
    "my_phone = Phone()\n",
    "Your_phone = Phone()"
   ]
  },
  {
   "cell_type": "code",
   "execution_count": 29,
   "id": "9f910126-0ce2-4c3b-9aca-a90852a0ede7",
   "metadata": {},
   "outputs": [
    {
     "name": "stdout",
     "output_type": "stream",
     "text": [
      "010-7248-4555\n"
     ]
    }
   ],
   "source": [
    "my_phone.number = '010-7248-4555'\n",
    "print(my_phone.number)"
   ]
  },
  {
   "cell_type": "code",
   "execution_count": 30,
   "id": "d97f1eaa-3fc7-43f1-996b-39cdee3bd2ac",
   "metadata": {},
   "outputs": [
    {
     "data": {
      "text/plain": [
       "'010-0000-0000'"
      ]
     },
     "execution_count": 30,
     "metadata": {},
     "output_type": "execute_result"
    }
   ],
   "source": [
    "Your_phone.number"
   ]
  },
  {
   "cell_type": "code",
   "execution_count": 31,
   "id": "00a007eb-cc46-4dc7-a928-f9a952b6e221",
   "metadata": {},
   "outputs": [
    {
     "data": {
      "text/plain": [
       "False"
      ]
     },
     "execution_count": 31,
     "metadata": {},
     "output_type": "execute_result"
    }
   ],
   "source": [
    "my_phone.power"
   ]
  },
  {
   "cell_type": "code",
   "execution_count": 32,
   "id": "d03fb085-132e-461a-9a6c-bd68f7e7a1c0",
   "metadata": {},
   "outputs": [],
   "source": [
    "my_phone.on()"
   ]
  },
  {
   "cell_type": "code",
   "execution_count": 33,
   "id": "11dc6059-cb03-4c42-8578-7eb8d6cbe3b5",
   "metadata": {},
   "outputs": [
    {
     "data": {
      "text/plain": [
       "True"
      ]
     },
     "execution_count": 33,
     "metadata": {},
     "output_type": "execute_result"
    }
   ],
   "source": [
    "my_phone.power"
   ]
  },
  {
   "cell_type": "code",
   "execution_count": 34,
   "id": "f2883ca1-a320-476b-a20b-1f31abec5352",
   "metadata": {},
   "outputs": [
    {
     "name": "stdout",
     "output_type": "stream",
     "text": [
      "내 번호는 (self.number)입니다.\n",
      "119 번호로 전화거는 중\n"
     ]
    }
   ],
   "source": [
    "my_phone.call('119')"
   ]
  },
  {
   "cell_type": "code",
   "execution_count": 99,
   "id": "414fce81-22e0-4bcd-9aa3-c77d747a459a",
   "metadata": {},
   "outputs": [],
   "source": [
    "# 연습\n",
    "class MyList:\n",
    "    data = []\n",
    "\n",
    "    def append(self, item):\n",
    "        self.data = self.data + [item]\n",
    "\n",
    "\n",
    "# data의 제일 마지막 요소를 삭제하고, 삭제된 요소를 리턴\n",
    "    def pop(self):\n",
    "        num = self.data[-1]\n",
    "        self.data = self.data[:-1]\n",
    "        return num"
   ]
  },
  {
   "cell_type": "code",
   "execution_count": 100,
   "id": "530c4243-e8d5-479e-a9fd-c4d83c73604b",
   "metadata": {},
   "outputs": [
    {
     "name": "stdout",
     "output_type": "stream",
     "text": [
      "[]\n",
      "[5, 1, 10]\n",
      "10\n",
      "[5, 1]\n"
     ]
    }
   ],
   "source": [
    "list_a = MyList()\n",
    "print(list_a.data)\n",
    "\n",
    "list_a.append(5)\n",
    "list_a.append(1)\n",
    "list_a.append(10)\n",
    "print(list_a.data)\n",
    "\n",
    "print(list_a.pop())\n",
    "print(list_a.data)"
   ]
  },
  {
   "cell_type": "code",
   "execution_count": 101,
   "id": "3c916276-90e6-4123-9bd5-3e6eab86871e",
   "metadata": {},
   "outputs": [
    {
     "name": "stdout",
     "output_type": "stream",
     "text": [
      "[]\n",
      "[5, 1]\n"
     ]
    }
   ],
   "source": [
    "list_b = MyList()\n",
    "print(list_b.data)\n",
    "\n",
    "list_b.append(2)\n",
    "list_b.append(4)\n",
    "list_b.append(6)\n",
    "print(list_a.data)"
   ]
  },
  {
   "cell_type": "code",
   "execution_count": null,
   "id": "4665431b-ddad-42f5-bbdd-6c675b824fdc",
   "metadata": {},
   "outputs": [],
   "source": [
    "# 정리\n",
    "class Person: # 클래스 정의(선언) : 클래스 객체 생성\n",
    "    name = 'kim' # 속성(attribute) : 변수/값/데이터\n",
    "\n",
    "    def hello(self): # 행동(method) : 함수/가능\n",
    "        return self.name\n",
    "\n",
    "p = Person() # 인스턴스화 / 인스턴스 객체를 생성\n",
    "p.name # 속성을 호출\n",
    "p.hello() # 메소드를 실행"
   ]
  },
  {
   "cell_type": "code",
   "execution_count": 53,
   "id": "d6dfe237-49e5-43e9-9005-26f43caf1bc3",
   "metadata": {},
   "outputs": [
    {
     "name": "stdout",
     "output_type": "stream",
     "text": [
      "현재 상태는 약풍\n",
      "None\n",
      "현재 상태는 중풍\n",
      "현재 상태는 강픙\n",
      "현재 상태는 꺼짐\n",
      "현재 상태는 약풍\n",
      "현재 상태는 중풍\n",
      "현재 상태는 강픙\n"
     ]
    }
   ],
   "source": [
    "class Fan:\n",
    "    power = ['꺼짐', '약풍', '중풍', '강픙']\n",
    "    status = 0\n",
    "\n",
    "    def button(self):\n",
    "        # self.status == 1\n",
    "        self.status = (self.status + 1) % 4\n",
    "        print(f'현재 상태는 {self.power[self.status]}')\n",
    "\n",
    "f = Fan()\n",
    "\n",
    "print(f.button()) # \n",
    "f.button()\n",
    "f.button()\n",
    "f.button()\n",
    "f.button()\n",
    "f.button()\n",
    "f.button()\n"
   ]
  },
  {
   "cell_type": "code",
   "execution_count": 102,
   "id": "50dd929f-b7f3-429b-91b1-e342a41913f9",
   "metadata": {},
   "outputs": [],
   "source": [
    "class Person:\n",
    "    name = ''\n",
    "\n",
    "    def hello(self):\n",
    "        print(f'나의 이름은 {self.name}입니다.')"
   ]
  },
  {
   "cell_type": "code",
   "execution_count": null,
   "id": "4571d5b8-f381-4795-9573-9944d8ccd0c1",
   "metadata": {},
   "outputs": [],
   "source": [
    "p = Person()\n",
    "print(p.name)\n",
    "p.hello()"
   ]
  },
  {
   "cell_type": "code",
   "execution_count": null,
   "id": "72d0f883-7295-4940-ab6f-69549f53ee9f",
   "metadata": {},
   "outputs": [],
   "source": [
    "# self : 인스턴스 객체 자기자신 (다른언어에서는 this)\n",
    "# - 특별한 상황을 제외하고는 무조건 메소드의 첫번째 인자로 설정한다.\n",
    "# - 인스턴스 메소드를 실행 할 때 자동으로 첫번째 인자에 인스턴스를 할당한다."
   ]
  },
  {
   "cell_type": "code",
   "execution_count": 103,
   "id": "5eb8587c-a4b7-429d-95d5-116fa57fc211",
   "metadata": {},
   "outputs": [
    {
     "name": "stdout",
     "output_type": "stream",
     "text": [
      "나의 이름은 입니다.\n",
      "나의 이름은 입니다.\n"
     ]
    }
   ],
   "source": [
    "p1 = Person()\n",
    "# self 매개변수 자리에 p1이라고하는 인스턴스 객체가 인자로 전달\n",
    "Person.hello(p1)\n",
    "# p1인스턴스 객체에서부터 메소드가 실행되기 때문에 self == p1 \n",
    "p1.hello()"
   ]
  },
  {
   "cell_type": "markdown",
   "id": "36e28b8c-2009-4f37-ae36-34d2e1e450d9",
   "metadata": {},
   "source": [
    "## 생성자, 소멸자\n",
    "\n",
    "```python\n",
    "class MyClass:\n",
    "    def __init__(self):\n",
    "        pass\n",
    "\n",
    "    def __del__(self):\n",
    "        pass\n",
    "\n",
    "```"
   ]
  },
  {
   "cell_type": "code",
   "execution_count": null,
   "id": "96f90d2b-a35b-467c-b0fe-10f28f29ec21",
   "metadata": {},
   "outputs": [],
   "source": []
  },
  {
   "cell_type": "code",
   "execution_count": 57,
   "id": "6da3e6f3-5e24-4972-9f81-e64b411bc1c4",
   "metadata": {},
   "outputs": [],
   "source": [
    "class Person:\n",
    "    name = 'noname'\n",
    "\n",
    "    def __init__(self, name='익명'):\n",
    "        print('생성됨')\n",
    "\n",
    "    def __del__(self):\n",
    "        print('소멸됨')"
   ]
  },
  {
   "cell_type": "code",
   "execution_count": 58,
   "id": "54feba37-b9e8-4707-b012-b36b0b20b586",
   "metadata": {},
   "outputs": [
    {
     "name": "stdout",
     "output_type": "stream",
     "text": [
      "생성됨\n",
      "소멸됨\n",
      "yoohwa\n"
     ]
    }
   ],
   "source": [
    "p1 = Person()\n",
    "p1.name = 'yoohwa'\n",
    "print(p1.name)"
   ]
  },
  {
   "cell_type": "code",
   "execution_count": 60,
   "id": "e38dd267-a409-4a37-abc1-461b809a4f8f",
   "metadata": {},
   "outputs": [
    {
     "name": "stdout",
     "output_type": "stream",
     "text": [
      "생성됨\n",
      "소멸됨\n",
      "kim\n"
     ]
    }
   ],
   "source": [
    "p2 = Person() # => Person.__init__(p2, 'kim')\n",
    "p1.name = 'kim'\n",
    "print(p1.name)"
   ]
  },
  {
   "cell_type": "code",
   "execution_count": 104,
   "id": "76858d55-1e99-4732-866f-de90fb049509",
   "metadata": {},
   "outputs": [],
   "source": [
    "# Circle 클래스\n",
    "\n",
    "class Circle:\n",
    "    pi = 3.14\n",
    "\n",
    "    def __init__(self, r, x_point=0, y_point=0):\n",
    "        self.r = r\n",
    "        self.x = x_point\n",
    "        self.y = y_point\n",
    "\n",
    "    def area(self):\n",
    "        return self.pi * self.r ** 2 \n",
    "\n",
    "    def move(self, x, y):\n",
    "        self.x = x\n",
    "        self.y = y\n",
    "        print(f'원의 중심이 {x},{y}로 이동했습니다.')\n",
    "\n",
    "    def center(self):\n",
    "        #원의 중심을 (x, y)로 반환\n",
    "        return (self.x, self.y)"
   ]
  },
  {
   "cell_type": "code",
   "execution_count": 105,
   "id": "5dd03697-d294-4e85-b4a2-c2fb34848ba9",
   "metadata": {},
   "outputs": [
    {
     "name": "stdout",
     "output_type": "stream",
     "text": [
      "5\n",
      "3\n",
      "28.26\n",
      "원의 중심이 -3,-3로 이동했습니다.\n",
      "(-3, -3)\n",
      "0\n",
      "10\n",
      "314.0\n",
      "원의 중심이 10,10로 이동했습니다.\n",
      "(10, 10)\n"
     ]
    }
   ],
   "source": [
    "c1 = Circle(3, 5, 5)\n",
    "print(c1.x)\n",
    "print(c1.r)\n",
    "print(c1.area())\n",
    "c1.move(-3, -3)\n",
    "print(c1.center())\n",
    "\n",
    "c2 = Circle(10)\n",
    "print(c2.x)\n",
    "print(c2.r)\n",
    "print(c2.area())\n",
    "c2.move(10, 10)\n",
    "print(c2.center())"
   ]
  },
  {
   "cell_type": "code",
   "execution_count": null,
   "id": "58fb83e0-6569-45a8-9b48-908b97d8a1f0",
   "metadata": {},
   "outputs": [],
   "source": []
  },
  {
   "cell_type": "markdown",
   "id": "a76218ae-efe2-458f-ac2b-d73c787de5b4",
   "metadata": {},
   "source": [
    "### 클래스변수\n",
    "\n",
    "- 클래스 선언 블록 최상단에 위치\n",
    "  (클래스 전체에 영향)\n",
    "\n",
    "### 인스턴스변수\n",
    "- 인스턴스 내부에서 생성한 변수(self.variable = )\n",
    "  (인스턴스 내부에서만 영향)\n",
    "\n",
    "```python\n",
    "class TestClass:\n",
    "    class_variable = '클래스변수'\n",
    "\n",
    "    def __init__(self, arg):\n",
    "        self.instance_variable = '인스턴스변수'\n",
    "\n",
    "    def status(self):\n",
    "        return self.instance_variable\n",
    "```\n"
   ]
  },
  {
   "cell_type": "code",
   "execution_count": 106,
   "id": "265cba4a-7f60-4962-8e82-4eaa7ff88017",
   "metadata": {},
   "outputs": [],
   "source": [
    "class Person:\n",
    "    name = '홍길동'\n",
    "    phone = '010-1234-1234'\n",
    "\n",
    "    def __init__(self, name):\n",
    "        self.name = name"
   ]
  },
  {
   "cell_type": "code",
   "execution_count": 107,
   "id": "46518369-2aad-4651-ad07-9d6fb610291b",
   "metadata": {},
   "outputs": [
    {
     "name": "stdout",
     "output_type": "stream",
     "text": [
      "오창희\n",
      "홍길동\n",
      "010-1234-1234\n"
     ]
    }
   ],
   "source": [
    "p = Person('오창희')\n",
    "print(p.name)\n",
    "print(Person.name)\n",
    "\n",
    "print(p.phone)\n",
    "# print(p.location)"
   ]
  },
  {
   "cell_type": "markdown",
   "id": "74b21727-ed3f-4297-bd60-cb179f7cf945",
   "metadata": {},
   "source": [
    "## 클래스, 인스턴스, 스태틱 메소드\n",
    "\n",
    "```python\n",
    "class MyClass:\n",
    "    def instance_method(self):\n",
    "        pass\n",
    "        \n",
    "    @classmethod\n",
    "    def class_method(cls):\n",
    "        pass\n",
    "\n",
    "    @staticmethod():\n",
    "    def static_method():\n",
    "        pass\n",
    "```"
   ]
  },
  {
   "cell_type": "code",
   "execution_count": 109,
   "id": "661f974e-387c-4f9d-bd40-0903ddb1db22",
   "metadata": {},
   "outputs": [],
   "source": [
    "class MyClass:\n",
    "    def instance_method(self):\n",
    "        return self\n",
    "\n",
    "    @classmethod\n",
    "    def class_method(cls):\n",
    "        return cls\n",
    "\n",
    "    @staticmethod\n",
    "    def static_method():\n",
    "        return 'hello'"
   ]
  },
  {
   "cell_type": "code",
   "execution_count": 110,
   "id": "8709343e-39ef-4401-b4a6-7c1bba781000",
   "metadata": {},
   "outputs": [
    {
     "name": "stdout",
     "output_type": "stream",
     "text": [
      "<__main__.MyClass object at 0x0000029EAB946510>\n",
      "<class '__main__.MyClass'>\n",
      "<class '__main__.MyClass'>\n",
      "hello\n"
     ]
    }
   ],
   "source": [
    "c1 = MyClass()\n",
    "\n",
    "print(c1.instance_method())\n",
    "print(MyClass.class_method())\n",
    "print(c1.class_method())\n",
    "print(c1.static_method())\n"
   ]
  },
  {
   "cell_type": "code",
   "execution_count": 111,
   "id": "c345fbb8-c033-4910-820c-256a3f86ab4f",
   "metadata": {},
   "outputs": [],
   "source": [
    "class Puppy:\n",
    "    num_of_puppy = 0\n",
    "\n",
    "    def __init__(self, name):\n",
    "        self.name = name\n",
    "        Puppy.num_of_puppy += 1\n",
    "\n",
    "    @classmethod\n",
    "    def get_status (cls):\n",
    "        return f'현재 강아지는 (cls.num_of_puppy)마리 입니다.'\n",
    "    @staticmethod\n",
    "    def bark(string='멍멍'):\n",
    "        return string\n",
    "        "
   ]
  },
  {
   "cell_type": "code",
   "execution_count": 113,
   "id": "9b6e3663-0f9a-477e-88ce-55c1d4ab7dc7",
   "metadata": {},
   "outputs": [
    {
     "name": "stdout",
     "output_type": "stream",
     "text": [
      "6\n",
      "6\n",
      "6\n",
      "6\n",
      "현재 강아지는 (cls.num_of_puppy)마리 입니다.\n",
      "멍멍\n",
      "그르릉\n"
     ]
    }
   ],
   "source": [
    "p1 = Puppy('또또')\n",
    "p2 = Puppy('몽이')\n",
    "p3 = Puppy('흰둥이')\n",
    "\n",
    "print(p1.num_of_puppy)\n",
    "print(p2.num_of_puppy)\n",
    "print(p3.num_of_puppy)\n",
    "\n",
    "print(Puppy.num_of_puppy)\n",
    "\n",
    "print(Puppy.get_status())\n",
    "\n",
    "print(p1.bark())\n",
    "print(p2.bark('그르릉'))"
   ]
  },
  {
   "cell_type": "markdown",
   "id": "65e7a131-61bc-474c-bdb4-59a18f39af46",
   "metadata": {},
   "source": [
    "## 정리\n",
    "```\n",
    "class\n",
    "    - attribute (variable, data)\n",
    "        - instance_variable\n",
    "        - class_variable\n",
    "    - method\n",
    "        - instance_method\n",
    "        - class_method\n",
    "        - static_method\n",
    "```"
   ]
  },
  {
   "cell_type": "markdown",
   "id": "1f7ac598-7a51-4688-8f78-0ed8f0712649",
   "metadata": {},
   "source": [
    "## 상속"
   ]
  },
  {
   "cell_type": "code",
   "execution_count": 114,
   "id": "e8098c24-7f2e-4bb4-8fcb-ff2c17ca9202",
   "metadata": {},
   "outputs": [],
   "source": [
    "class Person:\n",
    "\n",
    "    def __init__(self, name):\n",
    "        self.name = name\n",
    "\n",
    "    def greeting(self):\n",
    "        print(f'안녕하세요 {self.name}입니다.')"
   ]
  },
  {
   "cell_type": "code",
   "execution_count": 115,
   "id": "63784158-92ba-44be-bd18-46a4daa0f1a9",
   "metadata": {},
   "outputs": [
    {
     "name": "stdout",
     "output_type": "stream",
     "text": [
      "안녕하세요 홍길동입니다.\n"
     ]
    }
   ],
   "source": [
    "p1 = Person('홍길동')\n",
    "p2 = Person('이순신')\n",
    "\n",
    "p1.greeting()"
   ]
  },
  {
   "cell_type": "code",
   "execution_count": 116,
   "id": "f58406aa-d4ad-433c-8044-be9965ac2750",
   "metadata": {},
   "outputs": [],
   "source": [
    "class Student(Person):\n",
    "    # def __init__(self, name):\n",
    "    #     self.name = name\n",
    "\n",
    "    # def greeting(self):\n",
    "    #     print(f'안녕하세요 {self.name}입니다.')\n",
    "    \n",
    "    def __init__(self, name, student_id):\n",
    "        self.name = name\n",
    "        self.student_id = student_id"
   ]
  },
  {
   "cell_type": "code",
   "execution_count": 117,
   "id": "db18034c-3517-4a14-b74f-6d328e2e256f",
   "metadata": {},
   "outputs": [
    {
     "name": "stdout",
     "output_type": "stream",
     "text": [
      "안녕하세요 kim입니다.\n",
      "12345\n"
     ]
    }
   ],
   "source": [
    "s1 = Student('kim', 12345)\n",
    "s2 = Student('park', 98765)\n",
    "\n",
    "s1.greeting()\n",
    "print(s1.student_id)"
   ]
  },
  {
   "cell_type": "code",
   "execution_count": 118,
   "id": "c9de1545-674a-40f7-aec0-6147ac1cd5c3",
   "metadata": {},
   "outputs": [],
   "source": [
    "class Soldier(Person):\n",
    "\n",
    "    def greeting(self):\n",
    "        return f'충성! {self.name}입니다.'"
   ]
  },
  {
   "cell_type": "code",
   "execution_count": 119,
   "id": "430fc224-3fdc-4d19-84f5-f243bdcc9a6b",
   "metadata": {},
   "outputs": [
    {
     "data": {
      "text/plain": [
       "'충성! 국방이입니다.'"
      ]
     },
     "execution_count": 119,
     "metadata": {},
     "output_type": "execute_result"
    }
   ],
   "source": [
    "s1 = Soldier('국방이')\n",
    "s1.greeting()"
   ]
  },
  {
   "cell_type": "code",
   "execution_count": 121,
   "id": "269643c3-4bf3-4f62-88a5-ef8087d27620",
   "metadata": {},
   "outputs": [],
   "source": [
    "class Person:\n",
    "    def __init__(self, email, phone, location, name):\n",
    "        self.email = email\n",
    "        self.phone = phone\n",
    "        self.location = location\n",
    "        self.name = name\n",
    "\n",
    "class Student(Person):\n",
    "    def __init__(self, eamil, phone, location, name, student_id):\n",
    "        self.email = email\n",
    "        self.phone = phone\n",
    "        self.location = location\n",
    "        self.name = name\n",
    "        self.student_id = student_id\n",
    "\n",
    "class Soldier(Person):\n",
    "    def __init__(self, email, phone, location, name, soldier_id):\n",
    "        # super() => 부모클래스 (Person)\n",
    "        super().__init__(email, phone, location, name)\n",
    "        self.soldier_id = soldier_id"
   ]
  },
  {
   "cell_type": "code",
   "execution_count": 122,
   "id": "f6a4f3ff-2c9e-4585-8cb9-4a06bbe841df",
   "metadata": {},
   "outputs": [
    {
     "name": "stdout",
     "output_type": "stream",
     "text": [
      "kim\n",
      "12345\n"
     ]
    }
   ],
   "source": [
    "s1 = Soldier('email@eamil.com', '010-1234', 'seoul', 'kim', '12345')\n",
    "print(s1.name)\n",
    "print(s1.soldier_id)"
   ]
  },
  {
   "cell_type": "code",
   "execution_count": 123,
   "id": "b61059df-bc73-40b0-9f39-aad626cd6f5a",
   "metadata": {},
   "outputs": [],
   "source": [
    "class Person:\n",
    "    def __init__(self, name):\n",
    "        self.name = name\n",
    "\n",
    "    def breath(self):\n",
    "        print('후하')"
   ]
  },
  {
   "cell_type": "code",
   "execution_count": 124,
   "id": "5eabdb64-e8ce-4a56-ab3e-138dfa61c6e4",
   "metadata": {},
   "outputs": [],
   "source": [
    "class Mom(Person):\n",
    "    gene = 'xx'\n",
    "\n",
    "    def swim(self):\n",
    "        print('어푸어푸')"
   ]
  },
  {
   "cell_type": "code",
   "execution_count": 125,
   "id": "d54a6765-4a1d-406f-a402-00ba5b1336a0",
   "metadata": {},
   "outputs": [],
   "source": [
    "class Dad(Person):\n",
    "    gene = 'xy'\n",
    "\n",
    "    def run(self):\n",
    "        print('다다다')"
   ]
  },
  {
   "cell_type": "code",
   "execution_count": 126,
   "id": "17013222-39fe-499d-968f-9273f324c7f9",
   "metadata": {},
   "outputs": [],
   "source": [
    "class Baby(Dad, Mom):\n",
    "    pass"
   ]
  },
  {
   "cell_type": "code",
   "execution_count": 127,
   "id": "0339c8fd-4838-43e6-9dd3-db8958f168f5",
   "metadata": {},
   "outputs": [
    {
     "name": "stdout",
     "output_type": "stream",
     "text": [
      "후하\n",
      "어푸어푸\n",
      "다다다\n",
      "xy\n"
     ]
    }
   ],
   "source": [
    "b = Baby('금쪽이')\n",
    "b.breath()\n",
    "b.swim()\n",
    "b.run()\n",
    "# 다중상속을 한 경우 먼저 상속받은 데이터/메소드가 우선\n",
    "print(b.gene)"
   ]
  },
  {
   "cell_type": "code",
   "execution_count": null,
   "id": "0bc4f2f1-5685-4980-8bb8-501cf6af2a2f",
   "metadata": {},
   "outputs": [],
   "source": []
  },
  {
   "cell_type": "code",
   "execution_count": null,
   "id": "a3d5847b-d2db-4c24-bf88-389aed5490dc",
   "metadata": {},
   "outputs": [],
   "source": []
  },
  {
   "cell_type": "code",
   "execution_count": null,
   "id": "50021eec-83fc-46cd-9e4b-4d3ab949d83d",
   "metadata": {},
   "outputs": [],
   "source": [
    "# 상속 : class Student(Person) 괄호 안에 상위개념을 넣어주면 그 속성을 가져옴"
   ]
  },
  {
   "cell_type": "code",
   "execution_count": null,
   "id": "8338a482-184b-4eb6-866a-a49780705c62",
   "metadata": {},
   "outputs": [],
   "source": [
    "# 다중상속 : class Baby(Mom, Dad): 상위 개념 여러개를 하나의 클래스에 넣는 것\n",
    "\n",
    "# ** 먼저 상속받은 데이터, 메소드가 우선"
   ]
  },
  {
   "cell_type": "code",
   "execution_count": null,
   "id": "c1003adc-a43a-4e3f-a8ad-bb9a72ff4d57",
   "metadata": {},
   "outputs": [],
   "source": []
  },
  {
   "cell_type": "code",
   "execution_count": null,
   "id": "7db3bc96-594f-4cf4-95c4-ed83b3cdd953",
   "metadata": {},
   "outputs": [],
   "source": [
    "class Pocketmon:\n",
    "    def __init__(self, name, type, hp):\n",
    "        self.name = name\n",
    "        self.type = type\n",
    "        self.hp = hp\n",
    "\n",
    "class ElectricType():\n",
    "    type_name = 'Electric'\n",
    "\n",
    "class Pikachu(Pocketmon):\n",
    "    def __init__(self):\n",
    "        \n",
    "\n"
   ]
  },
  {
   "cell_type": "code",
   "execution_count": null,
   "id": "7ba1ba1f-baaa-4864-a3bb-2cb0ae17035e",
   "metadata": {},
   "outputs": [],
   "source": []
  },
  {
   "cell_type": "code",
   "execution_count": 130,
   "id": "69f71feb-c048-484b-8c7a-cd2feece8330",
   "metadata": {},
   "outputs": [],
   "source": [
    "class Pocketmon():\n",
    "    def __init__(self, name):\n",
    "        self.name = name\n",
    "        self.level = 10\n",
    "        self.hp = self.level * 5\n",
    "        self.exp = 0\n",
    "\n",
    "    def attack(self, opponent):\n",
    "        damege = self.level * 2\n",
    "        opponent.hp -= damege\n",
    "        if opponent.check_hp():\n",
    "            self.exp += 5\n",
    "\n",
    "    def check_hp(self):\n",
    "        return True if self.hp <= 0 else False\n",
    "\n",
    "    \n",
    "class WaterType():\n",
    "    type_name = 'water'\n",
    "\n",
    "class FireType():\n",
    "    type_name = 'fire'\n",
    "\n",
    "class WaterPocketmon(Pocketmon, WaterType):\n",
    "    def water_attack1(self, opponent):\n",
    "        if opponent.type_name == 'fire':\n",
    "            damege = self.level * 4\n",
    "        else:\n",
    "            damege = self.level * 2\n",
    "        opponent.hp -= damege\n",
    "        print(f'{self.name}은 {opponent.name}에게 {damege}의 공격을 했다.')\n",
    "\n",
    "    def water_attack2(self, opponent):\n",
    "        damege = random.randint(1, 5)\n",
    "        opponent.hp -= damege\n",
    "        print(f'{self.name}은 {opponent.name}에게 {damege}의 공격을 했다.')    \n",
    "\n",
    "class FirePocketmon(Pocketmon, FireType):\n",
    "    def fire_attack1(self, opponent):\n",
    "        damege = self.level * 2\n",
    "        opponent.hp -= damege\n",
    "        print(f'{self.name}은 {opponent.name}에게 {damege}의 공격을 했다.')\n",
    "\n",
    "    def fire_attack2(self, opponent):\n",
    "        damege = random.randint(1, 5)\n",
    "        opponent.hp -= damege\n",
    "        print(f'{self.name}은 {opponent.name}에게 {damege}의 공격을 했다.')"
   ]
  },
  {
   "cell_type": "code",
   "execution_count": 131,
   "id": "cbc6c705-56ff-423c-bff5-f03683b3d26a",
   "metadata": {},
   "outputs": [],
   "source": [
    "koboki = WaterPocketmon('꼬부기')\n",
    "pairi = FirePocketmon('파이리')"
   ]
  },
  {
   "cell_type": "code",
   "execution_count": 132,
   "id": "47f0dbd7-f137-478e-9161-751b389b7cf9",
   "metadata": {},
   "outputs": [
    {
     "name": "stdout",
     "output_type": "stream",
     "text": [
      "꼬부기은 파이리에게 2의 공격을 했다.\n",
      "파이리은 꼬부기에게 1의 공격을 했다.\n",
      "꼬부기: 49\n",
      "파이리: 48\n",
      "꼬부기은 파이리에게 40의 공격을 했다.\n",
      "파이리은 꼬부기에게 20의 공격을 했다.\n",
      "꼬부기: 29\n",
      "파이리: 8\n",
      "꼬부기은 파이리에게 40의 공격을 했다.\n",
      "파이리 승리\n"
     ]
    }
   ],
   "source": [
    "import random \n",
    "\n",
    "while not koboki.check_hp() or not pairi.check_hp():\n",
    "    random_attack = random.randint(0, 1)\n",
    "    if random_attack:\n",
    "        koboki.water_attack1(pairi)\n",
    "    else:\n",
    "        koboki.water_attack2(pairi)\n",
    "    if pairi.check_hp():\n",
    "        print(f'{pairi.name} 승리')\n",
    "        break\n",
    "\n",
    "    random_attack = random.randint(0, 1)\n",
    "    if random_attack:\n",
    "        pairi.fire_attack1(koboki)\n",
    "    else:\n",
    "        pairi.fire_attack2(koboki)\n",
    "    if koboki.check_hp():\n",
    "        print(f'{koboki.name} 승리')\n",
    "\n",
    "    \n",
    "    print(f'{koboki.name}: {koboki.hp}')\n",
    "    print(f'{pairi.name}: {pairi.hp}')"
   ]
  }
 ],
 "metadata": {
  "kernelspec": {
   "display_name": "Python 3 (ipykernel)",
   "language": "python",
   "name": "python3"
  },
  "language_info": {
   "codemirror_mode": {
    "name": "ipython",
    "version": 3
   },
   "file_extension": ".py",
   "mimetype": "text/x-python",
   "name": "python",
   "nbconvert_exporter": "python",
   "pygments_lexer": "ipython3",
   "version": "3.11.1"
  }
 },
 "nbformat": 4,
 "nbformat_minor": 5
}
