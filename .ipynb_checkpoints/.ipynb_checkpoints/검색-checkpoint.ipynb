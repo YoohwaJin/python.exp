{
 "cells": [
  {
   "cell_type": "markdown",
   "id": "0083476d-7408-461d-8ad2-ce846f01d7c0",
   "metadata": {},
   "source": [
    "# [Algorithm]검색/탐색\n",
    "\n",
    "- 저장된 자료 중에서 원하는 항목을 찾는 작업\n",
    "- 탐색 키(Search Key): 자료를 구별하여 인식할 수 있는 키\n",
    "\n",
    "- 완전검색\n",
    "- 순차검색\n",
    "- 이진검색\n"
   ]
  },
  {
   "cell_type": "markdown",
   "id": "8b3b0204-e58b-47a1-8bb7-88d1b40dad0a",
   "metadata": {},
   "source": [
    "## 완전탐색(Exaustive Search)\n",
    "\n",
    "- 문제의 해법으로 생각할 수 있는 **모든 경우의 수**를 나열해보고 확인하는 기법\n",
    "- 수행 속도는 느리지만 해답을 찾아내지 못할 확률이 적음\n",
    "- 경우의 수가 상대적으로 작을 경우 유용\n",
    "- 문제를 풀 때, 완전 검색으로 해답을 도출한 후에 성능 개선을 위해 다른 알고리즘을 사용하고 해답을 확인하는 것이 바람직\n",
    "```\n",
    "완전 검색 종류\n",
    "1. Brute-force: for문을 사용하여 처음부터 끝까지 탐색\n",
    "2. 비트 마스크: 비트 연산 사용(&, |, ^, ~, <<, >>)\n",
    "3. 백트래킹: 해를 찾아가는 도중 해가 될 가능성이 없는 경로라면 되돌아감\n",
    "4. 재귀함수: 함수 내에서 함수 자기 자신을 계속해서 호출\n",
    "5. 순열: 서로 다른 n개 중에서 r개를 뽑아서 한 줄로 나열\n",
    "    ex) nPr = n*(n-1)*(n-2)*...*(n-r+1) = n!/(n-r)!\n",
    "6. BFS(너비우선탐색)/ DFS(깊이 우선 탐색)\n",
    "```\n",
    "\n",
    "**프로그래머스 소수찾기**"
   ]
  },
  {
   "cell_type": "markdown",
   "id": "d8048091-0a70-4a75-a88e-8bbcd2c8a3b4",
   "metadata": {},
   "source": [
    "## 순차검색(Sequential Search)\n",
    "\n",
    "- 일렬로 되어있는 자료를 순서대로 검색하는 방법, 간단하고 직관적\n",
    "- 배열이나 연결리스트 등 순차구조로 구현된 자료구조에서 원하는 항목을 찾을 때 유용\n",
    "- 검색 대상이 많을 때는 수행시간 급격히 증가\n",
    "\n",
    "\n",
    "\n",
    "정렬되어 있는 경우\n",
    "1. 자료가 오름차순 정렬된 상태에서 검색을 실시할 경우, 자료를 순차적으로 검색하며 키 값을 비교하여 원소의 키 값이 검색 대상의 키 값보다 크면 찾는 원소가 없다는 것이므로 더 이상 검색하지 않고 검색 종료\n",
    "2. 찾고자하는 원소의 순서에 따라 비교 횟수가 결정됨\n",
    "   정렬이 되어있으므로 검색 실패를 반환하는 경우 평균 비교 횟수가 반으로 줄어듦"
   ]
  },
  {
   "cell_type": "markdown",
   "id": "878dd431-0c28-4293-9e0c-ac05fea0e309",
   "metadata": {},
   "source": [
    "정렬되어있지 않은 경우\n",
    "1. 첫 번째 원소부터 순서대로 검색 대상과 키 값이 같은 원소가 있는지 비교하며 찾음\n",
    "2. 키 값이 동일한 원소를 찾으면 그 원소의 인덱스 반환\n",
    "3. 자료구조의 마지막에 이를 때까지 검색 대상을 찾지 못하면 검색 실패\n",
    "4. 찾고자하는 원소의 순서에 따라 비교 횟수가 결정됨\n",
    "    - 첫 번째 원소를 찾으면 1번 비교, 두 번째 원소를 찾으면 2번 비교 ...\n",
    "    - 정렬되지 않은 자료에서의 순차 검색 평균 비교 횟수\n",
    "    - = (1/n)*(1+2+3+...+n) = (n+1)/2\n",
    "5. 시간 복잡도: O(n)"
   ]
  },
  {
   "cell_type": "markdown",
   "id": "b52b329a-2d6b-432b-841a-359ac269e31a",
   "metadata": {},
   "source": [
    "## 이진탐색(Binary Search)\n",
    "\n",
    "- 자료의 가운데에 있는 항목의 키 값과 비교하여 다음 검색의 위치를 결정하고 검색을 계속 진행하는 방법\n",
    "- 목적 키를 찾을 때까지 이진 검색 반복 수행함으로써 검색 범위를 반으로 줄여가며 보다 빠르게 검색을 수행\n",
    "- 이진 검색을 하기 위해서는 자료가 정렬된(오름/내림차순) 상태여야함\n",
    "- 검색과정(오름차순 정렬 기준)\n",
    "  1. 자료의 중앙에 있는 원소 고름\n",
    "  2. 중앙 원소의 값과 찾고자 하는 목표 값 비교\n",
    "  3. 목표 값이 중앙 원소의 값보다 작으면 자료의 왼쪽 반에 대해서 새로 검색을 수행\n",
    "  4. 목표 값이 중앙 원소의 값보다 크다면 자료의 오른족 반에 대해서 새로 검색을 수행\n",
    "  5. 찾고자하는 값을 찾을 때가지 1-3 반복\n",
    "- 구현\n",
    "  1. 검색 범위의 시작점과 종료점을 이용하여 검색을 반복 수행\n",
    "  2. 자료에 삽입이나 삭제가 발생했을 때, 배열의 상태를 항상 정렬 상태로 유지하는 추가 작업 필요"
   ]
  },
  {
   "cell_type": "markdown",
   "id": "b45bc270-91df-4fc5-9900-e1cb64b4c55d",
   "metadata": {},
   "source": [
    "## 그래프 탐색\n",
    "- 비선형구조인 그래프 구조는 그래프로 표현된 모든 자료를 빠짐없이 검색하는 것이 중요\n",
    "- 깊이우선탐색(DFS) / 너비우선탐색(BFS)\n"
   ]
  },
  {
   "cell_type": "markdown",
   "id": "3ec71ab3-890b-4ed6-a82d-6c419de8a1f1",
   "metadata": {},
   "source": [
    "### DFS(깊이우선탐색)\n",
    "- 시작 정점의 한 방향으로 갈 수 있는 경로가 있는 곳까지 깊이 탐색해 가다가 더이상 갈 곳이 없게 되면, 가장 마지막에 만났던 갈림길 간선이 있는 정점으로 되돌아와서 다른 방향의 정점으로 탐색을 계속 반복하여 결국 모든 정점을 방문하는 순회방법\n",
    "- 마지막에 만났던 갈림길의 정점으로 되돌아가서 깊이 우선 탐색을 반복해야하므로 후입 선출 구조의 스택 사용\n",
    "\n",
    "DFS 알고리즘\n",
    "- 시작 정점 V를 결정하여 반문\n",
    "- 정점 V에 인접한 정점 중에서\n",
    "  방문하지 않는 정점 W가 있으면 정점 V를 스택에 push하고 정점 W 방문, 그리고 W를 V로 하여 다시 반복"
   ]
  },
  {
   "cell_type": "code",
   "execution_count": null,
   "id": "5b8390c1-0636-4d19-95e2-380cdd106ca1",
   "metadata": {},
   "outputs": [],
   "source": []
  },
  {
   "cell_type": "code",
   "execution_count": null,
   "id": "a73409a4-2b60-46a0-aaed-c36a6d6f33a6",
   "metadata": {},
   "outputs": [],
   "source": []
  },
  {
   "cell_type": "code",
   "execution_count": null,
   "id": "9afc9a37-af26-4cfb-b217-b3afe7beeab7",
   "metadata": {},
   "outputs": [],
   "source": []
  },
  {
   "cell_type": "code",
   "execution_count": null,
   "id": "44e2b3b8-a8e3-4794-ae7e-f1898d151507",
   "metadata": {},
   "outputs": [],
   "source": []
  },
  {
   "cell_type": "code",
   "execution_count": null,
   "id": "a94e8a77-719a-4319-b32f-94f35bee7d38",
   "metadata": {},
   "outputs": [],
   "source": []
  },
  {
   "cell_type": "code",
   "execution_count": null,
   "id": "35d43585-b40a-42ad-9aa5-f81c8741b9b6",
   "metadata": {},
   "outputs": [],
   "source": []
  },
  {
   "cell_type": "code",
   "execution_count": null,
   "id": "666552b7-b306-425d-bde7-12c3e0edd0cf",
   "metadata": {},
   "outputs": [],
   "source": []
  },
  {
   "cell_type": "code",
   "execution_count": null,
   "id": "109aa12f-a897-4784-9735-c36154c9aa58",
   "metadata": {},
   "outputs": [],
   "source": []
  },
  {
   "cell_type": "code",
   "execution_count": null,
   "id": "f3de86aa-d797-44fb-8d26-0aa63c0cf387",
   "metadata": {},
   "outputs": [],
   "source": []
  },
  {
   "cell_type": "code",
   "execution_count": null,
   "id": "393a816a-d041-44b5-91c4-9d8c3875e3cf",
   "metadata": {},
   "outputs": [],
   "source": []
  },
  {
   "cell_type": "code",
   "execution_count": null,
   "id": "80bbb071-7e53-4c91-90ef-675c7a96fd57",
   "metadata": {},
   "outputs": [],
   "source": []
  },
  {
   "cell_type": "code",
   "execution_count": null,
   "id": "d6c9419f-84bc-4132-bb07-2a290f5ec970",
   "metadata": {},
   "outputs": [],
   "source": []
  },
  {
   "cell_type": "code",
   "execution_count": null,
   "id": "f249fc8a-60cd-4a9b-bd6a-27457f712d5b",
   "metadata": {},
   "outputs": [],
   "source": []
  },
  {
   "cell_type": "code",
   "execution_count": null,
   "id": "0bc28002-6fe2-4914-9d57-aff07055c7d5",
   "metadata": {},
   "outputs": [],
   "source": []
  },
  {
   "cell_type": "code",
   "execution_count": null,
   "id": "ed91dc33-b3cf-4ba5-b276-61bd5ea892e7",
   "metadata": {},
   "outputs": [],
   "source": []
  },
  {
   "cell_type": "code",
   "execution_count": null,
   "id": "5d867741-42fe-4215-b954-46410c5eeaa0",
   "metadata": {},
   "outputs": [],
   "source": []
  },
  {
   "cell_type": "code",
   "execution_count": null,
   "id": "5c0bc716-9972-4269-83bf-3f7712cf01c3",
   "metadata": {},
   "outputs": [],
   "source": []
  }
 ],
 "metadata": {
  "kernelspec": {
   "display_name": "Python 3 (ipykernel)",
   "language": "python",
   "name": "python3"
  },
  "language_info": {
   "codemirror_mode": {
    "name": "ipython",
    "version": 3
   },
   "file_extension": ".py",
   "mimetype": "text/x-python",
   "name": "python",
   "nbconvert_exporter": "python",
   "pygments_lexer": "ipython3",
   "version": "3.11.1"
  }
 },
 "nbformat": 4,
 "nbformat_minor": 5
}
