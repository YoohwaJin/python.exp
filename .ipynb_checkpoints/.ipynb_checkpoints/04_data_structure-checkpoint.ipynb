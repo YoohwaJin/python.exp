{
 "cells": [
  {
   "cell_type": "markdown",
   "id": "b69ea33b-d027-4ed8-be6b-aec4f2b41df9",
   "metadata": {},
   "source": [
    "# 1. 문자열 메소드"
   ]
  },
  {
   "cell_type": "markdown",
   "id": "dbfff9f8-32ae-4257-b45e-175c31762427",
   "metadata": {},
   "source": [
    "capitalize\n",
    "title\n",
    "upper\n",
    "lower\n",
    "join\n",
    "replace\n",
    "strip\n",
    "find\n",
    "index\n",
    "split ...etc"
   ]
  },
  {
   "cell_type": "code",
   "execution_count": 1,
   "id": "394fdbca-44b3-43bd-a21c-1b560c24c94b",
   "metadata": {},
   "outputs": [],
   "source": [
    "a = 'hello'"
   ]
  },
  {
   "cell_type": "code",
   "execution_count": 2,
   "id": "87e48546-81b5-4443-86f1-d2d9ea073bb7",
   "metadata": {},
   "outputs": [
    {
     "data": {
      "text/plain": [
       "'h'"
      ]
     },
     "execution_count": 2,
     "metadata": {},
     "output_type": "execute_result"
    }
   ],
   "source": [
    "a[0]"
   ]
  },
  {
   "cell_type": "code",
   "execution_count": 3,
   "id": "712e60f8-f7af-4916-89b9-9f5c117a8463",
   "metadata": {},
   "outputs": [
    {
     "ename": "TypeError",
     "evalue": "'str' object does not support item assignment",
     "output_type": "error",
     "traceback": [
      "\u001b[1;31m---------------------------------------------------------------------------\u001b[0m",
      "\u001b[1;31mTypeError\u001b[0m                                 Traceback (most recent call last)",
      "Cell \u001b[1;32mIn[3], line 1\u001b[0m\n\u001b[1;32m----> 1\u001b[0m \u001b[43ma\u001b[49m\u001b[43m[\u001b[49m\u001b[38;5;241;43m0\u001b[39;49m\u001b[43m]\u001b[49m \u001b[38;5;241m=\u001b[39m \u001b[38;5;124m'\u001b[39m\u001b[38;5;124mH\u001b[39m\u001b[38;5;124m'\u001b[39m\n",
      "\u001b[1;31mTypeError\u001b[0m: 'str' object does not support item assignment"
     ]
    }
   ],
   "source": [
    "a[0] = 'H'\n",
    "# immutable하기 때문"
   ]
  },
  {
   "cell_type": "code",
   "execution_count": 4,
   "id": "5e419fb4-8ed9-4136-9376-3ea9d084b870",
   "metadata": {},
   "outputs": [
    {
     "data": {
      "text/plain": [
       "'Hello'"
      ]
     },
     "execution_count": 4,
     "metadata": {},
     "output_type": "execute_result"
    }
   ],
   "source": [
    "a. capitalize()\n",
    "# 일회적 "
   ]
  },
  {
   "cell_type": "code",
   "execution_count": 8,
   "id": "17467f17-6f9e-4117-bb8e-c665f7fc0456",
   "metadata": {},
   "outputs": [
    {
     "name": "stdout",
     "output_type": "stream",
     "text": [
      "Hello\n"
     ]
    }
   ],
   "source": [
    "a = a. capitalize() #영구적\n",
    "print(a)"
   ]
  },
  {
   "cell_type": "code",
   "execution_count": 9,
   "id": "559abe5d-0934-4360-9643-50081bbf23a6",
   "metadata": {},
   "outputs": [],
   "source": [
    "a = 'hello my name is yoohwa'"
   ]
  },
  {
   "cell_type": "code",
   "execution_count": 14,
   "id": "fef9fe34-ae84-4703-a2cf-90e43b16c68f",
   "metadata": {},
   "outputs": [
    {
     "name": "stdout",
     "output_type": "stream",
     "text": [
      "Hello My Name Is Yoohwa\n"
     ]
    }
   ],
   "source": [
    "a = a.title() # 제목처럼 각 단어 대문자\n",
    "print(a)"
   ]
  },
  {
   "cell_type": "code",
   "execution_count": 11,
   "id": "a54a9888-7486-46fe-b680-5301e0f06759",
   "metadata": {},
   "outputs": [
    {
     "data": {
      "text/plain": [
       "'HELLO MY NAME IS YOOHWA'"
      ]
     },
     "execution_count": 11,
     "metadata": {},
     "output_type": "execute_result"
    }
   ],
   "source": [
    "a.upper()"
   ]
  },
  {
   "cell_type": "code",
   "execution_count": 12,
   "id": "46382fdc-47fa-4849-aa4c-b968dec0d8b5",
   "metadata": {},
   "outputs": [
    {
     "data": {
      "text/plain": [
       "'hello my name is yoohwa'"
      ]
     },
     "execution_count": 12,
     "metadata": {},
     "output_type": "execute_result"
    }
   ],
   "source": [
    "a.lower()"
   ]
  },
  {
   "cell_type": "code",
   "execution_count": 16,
   "id": "0aed07a3-505e-424a-b53f-bf25f4c8c216",
   "metadata": {},
   "outputs": [
    {
     "data": {
      "text/plain": [
       "'hi my name'"
      ]
     },
     "execution_count": 16,
     "metadata": {},
     "output_type": "execute_result"
    }
   ],
   "source": [
    "# ''.join(terable)\n",
    "my_list = ['hi', 'my', 'name']\n",
    "' '.join(my_list)"
   ]
  },
  {
   "cell_type": "code",
   "execution_count": 18,
   "id": "0a933b66-dc69-410d-aa9a-70e77f196cbb",
   "metadata": {},
   "outputs": [
    {
     "data": {
      "text/plain": [
       "'w!!!!!!!!!!!w'"
      ]
     },
     "execution_count": 18,
     "metadata": {},
     "output_type": "execute_result"
    }
   ],
   "source": [
    "# str.replace(old, new[, count]) #[]는 optional\n",
    "'wooooooooooow'.replace('o', '!')"
   ]
  },
  {
   "cell_type": "code",
   "execution_count": 19,
   "id": "bd59cdf4-a9c1-4fb2-8405-a03c806cc4b3",
   "metadata": {},
   "outputs": [
    {
     "data": {
      "text/plain": [
       "'w!!!oooooooow'"
      ]
     },
     "execution_count": 19,
     "metadata": {},
     "output_type": "execute_result"
    }
   ],
   "source": [
    "'wooooooooooow'.replace('o', '!', 3)"
   ]
  },
  {
   "cell_type": "code",
   "execution_count": 20,
   "id": "1103e616-ad2f-493f-aebb-522099732efd",
   "metadata": {},
   "outputs": [
    {
     "name": "stdout",
     "output_type": "stream",
     "text": [
      "       hello         \n",
      "hello\n"
     ]
    }
   ],
   "source": [
    "# .strip() = 비어있는 공백 혹은 지정한 글자를 없애줌, 주로 인터넷에서 가져온 데이터에서 공백이나 필요 없는 것을 지울 때\n",
    "my_string = '       hello         '\n",
    "print(my_string)\n",
    "print(my_string.strip())"
   ]
  },
  {
   "cell_type": "code",
   "execution_count": 28,
   "id": "19ed5cda-b8d6-4b54-beac-de0d2b7517c5",
   "metadata": {},
   "outputs": [
    {
     "name": "stdout",
     "output_type": "stream",
     "text": [
      "     hihellohi\n",
      "         \n",
      "hihellohi\n",
      "     hihellohi\n",
      "         \n"
     ]
    }
   ],
   "source": [
    "my_strick = '     hello\\n         ' #\\n은 공백 한줄 추가\n",
    "print(my_strick)\n",
    "print(my_strick.strip())"
   ]
  },
  {
   "cell_type": "code",
   "execution_count": 35,
   "id": "30091fe1-5d06-4a1b-b9b0-f196c41dd225",
   "metadata": {},
   "outputs": [
    {
     "name": "stdout",
     "output_type": "stream",
     "text": [
      "hihihihellohihihi\n",
      "ello\n"
     ]
    }
   ],
   "source": [
    "my_string2 = 'hihihihellohihihi'\n",
    "print(my_string2)\n",
    "print(my_string2.strip('hi'))"
   ]
  },
  {
   "cell_type": "code",
   "execution_count": null,
   "id": "d38a23c5-862d-4593-95b1-471afb5a8fb5",
   "metadata": {},
   "outputs": [],
   "source": []
  },
  {
   "cell_type": "code",
   "execution_count": null,
   "id": "1481f8c2-084e-409c-ae6a-a2779af4653a",
   "metadata": {},
   "outputs": [],
   "source": []
  },
  {
   "cell_type": "code",
   "execution_count": 39,
   "id": "595ba6c8-f261-4d0a-8ad8-47c03ee38961",
   "metadata": {},
   "outputs": [
    {
     "name": "stdout",
     "output_type": "stream",
     "text": [
      "1\n",
      "-1\n",
      "1\n"
     ]
    },
    {
     "ename": "ValueError",
     "evalue": "substring not found",
     "output_type": "error",
     "traceback": [
      "\u001b[1;31m---------------------------------------------------------------------------\u001b[0m",
      "\u001b[1;31mValueError\u001b[0m                                Traceback (most recent call last)",
      "Cell \u001b[1;32mIn[39], line 6\u001b[0m\n\u001b[0;32m      4\u001b[0m \u001b[38;5;28mprint\u001b[39m(a\u001b[38;5;241m.\u001b[39mfind(\u001b[38;5;124m'\u001b[39m\u001b[38;5;124mz\u001b[39m\u001b[38;5;124m'\u001b[39m))\n\u001b[0;32m      5\u001b[0m \u001b[38;5;28mprint\u001b[39m(a\u001b[38;5;241m.\u001b[39mindex(\u001b[38;5;124m'\u001b[39m\u001b[38;5;124mp\u001b[39m\u001b[38;5;124m'\u001b[39m))\n\u001b[1;32m----> 6\u001b[0m \u001b[38;5;28mprint\u001b[39m(\u001b[43ma\u001b[49m\u001b[38;5;241;43m.\u001b[39;49m\u001b[43mindex\u001b[49m\u001b[43m(\u001b[49m\u001b[38;5;124;43m'\u001b[39;49m\u001b[38;5;124;43mz\u001b[39;49m\u001b[38;5;124;43m'\u001b[39;49m\u001b[43m)\u001b[49m)\n",
      "\u001b[1;31mValueError\u001b[0m: substring not found"
     ]
    }
   ],
   "source": [
    "# .find(x)\n",
    "a = 'apple'\n",
    "print(a.find('p'))\n",
    "print(a.find('z'))\n",
    "print(a.index('p'))\n",
    "print(a.index('z'))"
   ]
  },
  {
   "cell_type": "code",
   "execution_count": 40,
   "id": "c0e7c8d7-e7ee-4d3b-867d-a161225841bb",
   "metadata": {},
   "outputs": [
    {
     "data": {
      "text/plain": [
       "['my', 'name', 'is', 'hong']"
      ]
     },
     "execution_count": 40,
     "metadata": {},
     "output_type": "execute_result"
    }
   ],
   "source": [
    "# .split(x)\n",
    "a = 'my name is hong'\n",
    "a.split(' ')"
   ]
  },
  {
   "cell_type": "code",
   "execution_count": 45,
   "id": "b7bd3178-8a89-48d1-b2e4-3528a495a854",
   "metadata": {},
   "outputs": [
    {
     "data": {
      "text/plain": [
       "['my', 'name', 'is', 'yoohwa']"
      ]
     },
     "execution_count": 45,
     "metadata": {},
     "output_type": "execute_result"
    }
   ],
   "source": [
    "b = 'my_name_is_yoohwa'\n",
    "b.split('_')\n"
   ]
  },
  {
   "cell_type": "code",
   "execution_count": null,
   "id": "cc289758-d793-4597-9f4e-1066291874f6",
   "metadata": {},
   "outputs": [],
   "source": [
    "# .isupper() 처럼 is가 앞에 오는 놈들은 return이 T/F이다."
   ]
  },
  {
   "cell_type": "code",
   "execution_count": null,
   "id": "07e6e01d-4ca3-47e1-8302-27314b1e5469",
   "metadata": {},
   "outputs": [],
   "source": []
  },
  {
   "cell_type": "markdown",
   "id": "433b73c6-bbe3-404e-8741-85376e9d6fc9",
   "metadata": {},
   "source": [
    "## 2.리스트 메소드"
   ]
  },
  {
   "cell_type": "code",
   "execution_count": 69,
   "id": "ecc264d5-5c83-418b-bf60-bdbb03a73818",
   "metadata": {},
   "outputs": [],
   "source": [
    "numbers = [1, 2, 2, 5, 2, 1, 6, 2, 4, 4]"
   ]
  },
  {
   "cell_type": "code",
   "execution_count": 50,
   "id": "f92b84ff-0383-4d2e-b9b0-a747ef884fa0",
   "metadata": {},
   "outputs": [
    {
     "name": "stdout",
     "output_type": "stream",
     "text": [
      "[1, 2, 2, 5, 2, 1, 6, 2, 4, 4, 10, 10, 10]\n"
     ]
    }
   ],
   "source": [
    "# .append(x) '리스트 뒤에 x를 추가'\n",
    "numbers.append(10) # 원본을 영구적으로 수정\n",
    "print(numbers)"
   ]
  },
  {
   "cell_type": "code",
   "execution_count": 52,
   "id": "23a4f5cd-ec6e-4a3b-9254-36f86734ff7c",
   "metadata": {},
   "outputs": [
    {
     "name": "stdout",
     "output_type": "stream",
     "text": [
      "[1, 2, 2, 5, 2, 1, 6, 2, 4, 4, 10, 10, 10, 99, 100]\n"
     ]
    }
   ],
   "source": [
    "# .extend(iterable) 같은 리스트에 들어가는 요소를 통합\n",
    "a = [99, 100]\n",
    "numbers.extend(a)\n",
    "print(numbers)"
   ]
  },
  {
   "cell_type": "code",
   "execution_count": 64,
   "id": "a69855b1-5ceb-4d24-8c11-39c2ba056749",
   "metadata": {},
   "outputs": [
    {
     "name": "stdout",
     "output_type": "stream",
     "text": [
      "[99, 10, 10, 3.5, 10, 6, 5, 4, 4, 2, 2, 2, 2, 1]\n"
     ]
    }
   ],
   "source": [
    "# .insert(idx, x) (자리, 값)\n",
    "numbers.insert(3, 3.5)\n",
    "print(numbers)"
   ]
  },
  {
   "cell_type": "code",
   "execution_count": 65,
   "id": "ba33f8b8-26fa-46f9-9232-69b8ab79638b",
   "metadata": {},
   "outputs": [
    {
     "name": "stdout",
     "output_type": "stream",
     "text": [
      "[99, 10, 10, 10, 6, 5, 4, 4, 2, 2, 2, 2, 1]\n"
     ]
    }
   ],
   "source": [
    "# .remove(x)\n",
    "numbers.remove(3.5)\n",
    "print(numbers)"
   ]
  },
  {
   "cell_type": "code",
   "execution_count": 67,
   "id": "a321fb78-58b5-47eb-8982-c74bac637ea9",
   "metadata": {},
   "outputs": [
    {
     "name": "stdout",
     "output_type": "stream",
     "text": [
      "[10, 10, 10, 6, 5, 4, 4, 2, 2, 2, 2, 1]\n"
     ]
    }
   ],
   "source": [
    "# .pop([idx]) (인덱스를 안 넣으면 맨 뒤의 값을 소거)\n",
    "numbers.pop(0)\n",
    "print(numbers)"
   ]
  },
  {
   "cell_type": "code",
   "execution_count": 62,
   "id": "f3f9e767-9a32-4654-aaf4-26098a11b4ee",
   "metadata": {},
   "outputs": [
    {
     "name": "stdout",
     "output_type": "stream",
     "text": [
      "[1, 2, 2, 2, 2, 4, 4, 5, 6, 10, 10, 10, 99]\n",
      "[99, 10, 10, 10, 6, 5, 4, 4, 2, 2, 2, 2, 1]\n"
     ]
    }
   ],
   "source": [
    "# .sort()\n",
    "numbers.sort()\n",
    "print(numbers)\n",
    "numbers.sort(reverse=True)\n",
    "print(numbers)"
   ]
  },
  {
   "cell_type": "code",
   "execution_count": 72,
   "id": "9c7149d2-ce7e-4e06-80f9-865c68ace63b",
   "metadata": {},
   "outputs": [
    {
     "name": "stdout",
     "output_type": "stream",
     "text": [
      "[4, 4, 2, 6, 1, 2, 5, 2, 2]\n",
      "[2, 2, 5, 2, 1, 6, 2, 4, 4]\n",
      "[4, 4, 2, 6, 1, 2, 5, 2, 2]\n"
     ]
    }
   ],
   "source": [
    "# .reverse()\n",
    "print(numbers)\n",
    "numbers.reverse()\n",
    "print(numbers)\n",
    "numbers = numbers[ : :-1]\n",
    "print(numbers)"
   ]
  },
  {
   "cell_type": "markdown",
   "id": "19172429-1e64-4f19-9e7b-2d05893b330e",
   "metadata": {},
   "source": [
    "### 2.1 List Copy"
   ]
  },
  {
   "cell_type": "code",
   "execution_count": 73,
   "id": "c76f3a90-c5dd-49d9-880e-039471d4fe7b",
   "metadata": {},
   "outputs": [
    {
     "name": "stdout",
     "output_type": "stream",
     "text": [
      "[1, 2, 3]\n"
     ]
    }
   ],
   "source": [
    "o_list = [1, 2, 3]\n",
    "c_list = o_list\n",
    "print(c_list)"
   ]
  },
  {
   "cell_type": "code",
   "execution_count": 74,
   "id": "e9a56a7b-3e97-43d4-bf94-915a75162452",
   "metadata": {},
   "outputs": [
    {
     "name": "stdout",
     "output_type": "stream",
     "text": [
      "[100, 2, 3]\n",
      "[100, 2, 3]\n"
     ]
    }
   ],
   "source": [
    "c_list[0] = 100 \n",
    "print(o_list)\n",
    "print(c_list)\n",
    "# 카피리스트는 당연히 변경되지만, 오리지널 리스트도 함깨 변경된"
   ]
  },
  {
   "cell_type": "code",
   "execution_count": 76,
   "id": "cca6f640-0ff5-40ac-88a1-a87582da4518",
   "metadata": {},
   "outputs": [
    {
     "name": "stdout",
     "output_type": "stream",
     "text": [
      "[1, 2, 3]\n",
      "[100, 2, 3]\n"
     ]
    }
   ],
   "source": [
    "a = [1, 2, 3]\n",
    "# b = a[:]\n",
    "b = list(a)\n",
    "\n",
    "b[0] = 100\n",
    "\n",
    "print(a)\n",
    "print(b)"
   ]
  },
  {
   "cell_type": "code",
   "execution_count": 78,
   "id": "8debfab7-3c0a-4aa0-bcf4-cee4bda25b43",
   "metadata": {},
   "outputs": [
    {
     "name": "stdout",
     "output_type": "stream",
     "text": [
      "[1, 2, [100, 4]]\n",
      "[1, 2, [100, 4]]\n"
     ]
    }
   ],
   "source": [
    "a = [1, 2, [3, 4]]\n",
    "b = a[:] #슬라이싱\n",
    "\n",
    "b[2][0] = 100\n",
    "\n",
    "print(a)\n",
    "print(b)"
   ]
  },
  {
   "cell_type": "code",
   "execution_count": 79,
   "id": "580e40cf-0a2c-4e9c-a4e1-34699d2a7831",
   "metadata": {},
   "outputs": [
    {
     "name": "stdout",
     "output_type": "stream",
     "text": [
      "[1, 2, [3, 4]]\n",
      "[1, 2, [100, 4]]\n"
     ]
    }
   ],
   "source": [
    "import copy\n",
    "a = [1, 2, [3, 4]]\n",
    "b = copy.deepcopy(a)\n",
    "\n",
    "b[2][0] = 100\n",
    "\n",
    "print(a)\n",
    "print(b)"
   ]
  },
  {
   "cell_type": "markdown",
   "id": "4f8ef324-e6da-4233-a2c5-eca120cb965a",
   "metadata": {},
   "source": [
    "### 2.2 List Comprehension"
   ]
  },
  {
   "cell_type": "code",
   "execution_count": 96,
   "id": "824a04ea-6b2e-4888-96e4-8f3600799f9c",
   "metadata": {},
   "outputs": [
    {
     "name": "stdout",
     "output_type": "stream",
     "text": [
      "[1, 2, 3, 4, 5, 6, 7, 8, 9, 10]\n"
     ]
    }
   ],
   "source": [
    "numbers = list(range(1, 11))\n",
    "print(numbers)"
   ]
  },
  {
   "cell_type": "code",
   "execution_count": 91,
   "id": "9369f006-9f6b-419a-a415-ee5177641fcf",
   "metadata": {},
   "outputs": [
    {
     "name": "stdout",
     "output_type": "stream",
     "text": [
      "[1, 8, 27, 64, 125, 216, 343, 512, 729, 1000]\n"
     ]
    }
   ],
   "source": [
    "result = []\n",
    "for number in numbers:\n",
    "    result.append(number ** 3)\n",
    "    \n",
    "print(result)"
   ]
  },
  {
   "cell_type": "code",
   "execution_count": 92,
   "id": "4186215c-05f7-47d2-8646-75788f44de50",
   "metadata": {},
   "outputs": [
    {
     "name": "stdout",
     "output_type": "stream",
     "text": [
      "[1, 8, 27, 64, 125, 216, 343, 512, 729, 1000]\n"
     ]
    }
   ],
   "source": [
    "result2 = [number ** 3 for number in numbers]\n",
    "print(result2)"
   ]
  },
  {
   "cell_type": "code",
   "execution_count": 94,
   "id": "3a0b1bd6-ce8a-47ce-8415-030b1ce94fc4",
   "metadata": {},
   "outputs": [
    {
     "name": "stdout",
     "output_type": "stream",
     "text": [
      "[2, 4, 6, 8, 10]\n"
     ]
    }
   ],
   "source": [
    "# 짝수만 고르기 (반복문)\n",
    "even_list = []\n",
    "for i in numbers:\n",
    "    if i % 2 == 0:\n",
    "        even_list.append(i)\n",
    "\n",
    "print(even_list)"
   ]
  },
  {
   "cell_type": "code",
   "execution_count": 98,
   "id": "70c100cd-51c2-40de-a358-2751e7a129b8",
   "metadata": {},
   "outputs": [
    {
     "name": "stdout",
     "output_type": "stream",
     "text": [
      "[2, 4, 6, 8, 10]\n"
     ]
    }
   ],
   "source": [
    "# 짝수만 고르기(list comprehension)\n",
    "\n",
    "even_list2 = [i for i in numbers if i % 2 == 0]\n",
    "print(even_list2)"
   ]
  },
  {
   "cell_type": "code",
   "execution_count": 103,
   "id": "a7226e81-25a9-41eb-a436-b82cbd792fd5",
   "metadata": {},
   "outputs": [],
   "source": [
    "words = 'my name is yoohwa'\n",
    "vowels = 'aeiou'\n",
    "\n",
    "# -> my nm s yhw"
   ]
  },
  {
   "cell_type": "code",
   "execution_count": 108,
   "id": "29ba3912-5b34-4297-b9e7-d5785cc386e2",
   "metadata": {},
   "outputs": [
    {
     "name": "stdout",
     "output_type": "stream",
     "text": [
      "['m', 'y', ' ', 'n', 'm', ' ', 's', ' ', 'y', 'h', 'w']\n"
     ]
    }
   ],
   "source": [
    "# 1. for문 버전\n",
    "\n",
    "result = []\n",
    "for char in words:\n",
    "    if char not in vowels:\n",
    "        result.append(char)\n",
    "\n",
    "print(result)\n",
    "\n",
    "\n",
    "\n",
    "\n",
    "# without_vowel = []\n",
    "# for i in words:\n",
    "#     words.strip(vowels)\n",
    "\n",
    "# print(without_vowel)"
   ]
  },
  {
   "cell_type": "code",
   "execution_count": 109,
   "id": "3baf8017-6068-489c-a3f3-838525aa95a2",
   "metadata": {},
   "outputs": [
    {
     "name": "stdout",
     "output_type": "stream",
     "text": [
      "my nm s yhw\n"
     ]
    }
   ],
   "source": [
    "print(''.join(result))"
   ]
  },
  {
   "cell_type": "code",
   "execution_count": 111,
   "id": "e8dcab1b-83c0-4bf3-8fd7-0984dd7dc140",
   "metadata": {},
   "outputs": [
    {
     "ename": "SyntaxError",
     "evalue": "closing parenthesis ')' does not match opening parenthesis '[' (2124252554.py, line 2)",
     "output_type": "error",
     "traceback": [
      "\u001b[1;36m  Cell \u001b[1;32mIn[111], line 2\u001b[1;36m\u001b[0m\n\u001b[1;33m    resilt2 = [char.upper() for char in words if char in vowels)\u001b[0m\n\u001b[1;37m                                                               ^\u001b[0m\n\u001b[1;31mSyntaxError\u001b[0m\u001b[1;31m:\u001b[0m closing parenthesis ')' does not match opening parenthesis '['\n"
     ]
    }
   ],
   "source": [
    "# 2. list comprehension\n",
    "resilt2 = [char.upper() for char in words if char in vowels)\n",
    "print(resul2)\n",
    "print*'', join(result2))"
   ]
  },
  {
   "cell_type": "code",
   "execution_count": null,
   "id": "fd522816-c9a6-4f9c-9c61-ad8e654301fc",
   "metadata": {},
   "outputs": [],
   "source": []
  },
  {
   "cell_type": "markdown",
   "id": "c4782858-504e-4b50-b11b-85d63fb22512",
   "metadata": {},
   "source": [
    "## 3. 딕셔너리 메소드"
   ]
  },
  {
   "cell_type": "code",
   "execution_count": 115,
   "id": "5768fd70-2d66-44fb-8d60-ec407a64a2df",
   "metadata": {},
   "outputs": [],
   "source": [
    "info = {\n",
    "    'name': 'yoohwa',\n",
    "    'location': 'yeoju',\n",
    "    }"
   ]
  },
  {
   "cell_type": "code",
   "execution_count": 116,
   "id": "edd7c479-a143-4854-86de-a99ad342403b",
   "metadata": {},
   "outputs": [
    {
     "name": "stdout",
     "output_type": "stream",
     "text": [
      "kim\n"
     ]
    }
   ],
   "source": [
    "info['name'] = 'kim'\n",
    "print(info['name'])"
   ]
  },
  {
   "cell_type": "code",
   "execution_count": 118,
   "id": "93b4ccb2-4836-4c59-9be0-c9129339f6b7",
   "metadata": {},
   "outputs": [
    {
     "name": "stdout",
     "output_type": "stream",
     "text": [
      "None\n",
      "{'name': 'kim'}\n"
     ]
    }
   ],
   "source": [
    "# .pop(key[, default]) 추출\n",
    "print(info.pop('location', None))\n",
    "print(info)"
   ]
  },
  {
   "cell_type": "code",
   "execution_count": 119,
   "id": "fdefa285-eb1f-4d3c-a642-edeec0df3848",
   "metadata": {},
   "outputs": [
    {
     "name": "stdout",
     "output_type": "stream",
     "text": [
      "{'name': 'yoohwa'}\n"
     ]
    }
   ],
   "source": [
    "# .update(key=value)\n",
    "info.update(name='yoohwa')\n",
    "print(info)"
   ]
  },
  {
   "cell_type": "code",
   "execution_count": 124,
   "id": "1f792512-0bef-44d1-a7c0-4f367a44162c",
   "metadata": {},
   "outputs": [
    {
     "name": "stdout",
     "output_type": "stream",
     "text": [
      "yoohwa\n",
      "None\n",
      "미작성\n"
     ]
    }
   ],
   "source": [
    "# .get(key=value)\n",
    "print(info.get('name'))\n",
    "print(info.get('school')) # 없을 경우 none\n",
    "print(info.get('school', '미작성')) # 없을 때 대체하는 문구 작성\n",
    "# print(info['school']) #없을 경우 에러"
   ]
  },
  {
   "cell_type": "markdown",
   "id": "19640858-060c-41e4-86f8-af442c5ff698",
   "metadata": {},
   "source": [
    "### 3.1 Dict copmrehension"
   ]
  },
  {
   "cell_type": "code",
   "execution_count": 127,
   "id": "509c7616-82da-410a-be66-a7b9c657ec9f",
   "metadata": {},
   "outputs": [
    {
     "name": "stdout",
     "output_type": "stream",
     "text": [
      "{1: 1, 2: 8, 3: 27}\n"
     ]
    }
   ],
   "source": [
    "# for\n",
    "cube_dict = {}\n",
    "for i in range(1, 4):\n",
    "    cube_dict[i] = i ** 3\n",
    "\n",
    "print(cube_dict)"
   ]
  },
  {
   "cell_type": "code",
   "execution_count": 128,
   "id": "82f01c44-6f31-4e91-8787-c8f457ace99b",
   "metadata": {},
   "outputs": [
    {
     "name": "stdout",
     "output_type": "stream",
     "text": [
      "{1: 1, 2: 8, 3: 27}\n"
     ]
    }
   ],
   "source": [
    "# comp\n",
    "cube_dict2 = {i: i**3 for i in range(1, 4)}\n",
    "print(cube_dict2)"
   ]
  },
  {
   "cell_type": "code",
   "execution_count": 131,
   "id": "fed99e2c-6992-45c8-9aa5-7ddb8ce9f42d",
   "metadata": {},
   "outputs": [],
   "source": [
    "# \n",
    "dust = {\n",
    "    '서울': 100,\n",
    "    '대구': 30,\n",
    "    '대전': 10,\n",
    "    '부산': 80,\n",
    "    '광주': 50,\n",
    "}\n",
    "\n",
    "# -> 결과: result = {'서울': 100, '부산': 80, '광주': 50}"
   ]
  },
  {
   "cell_type": "code",
   "execution_count": 141,
   "id": "be63d0d0-6b13-496c-a8de-7f1b087971bc",
   "metadata": {},
   "outputs": [
    {
     "name": "stdout",
     "output_type": "stream",
     "text": [
      "{'서울': 100, '부산': 80, '광주': 50}\n"
     ]
    }
   ],
   "source": [
    "# for \n",
    "\n",
    "#내가 한 것\n",
    "\n",
    "# result = []\n",
    "# for city in dust:\n",
    "#     if dust[city] >= 50:\n",
    "#         print(dust[city])\n",
    "\n",
    "#정답\n",
    "\n",
    "result = {}\n",
    "for k, v in dust.items():\n",
    "    if v >= 50:\n",
    "        result[k] = v\n",
    "\n",
    "print(result)\n"
   ]
  },
  {
   "cell_type": "code",
   "execution_count": 142,
   "id": "0d19de31-41cc-4ed1-8275-0120df20121a",
   "metadata": {},
   "outputs": [
    {
     "name": "stdout",
     "output_type": "stream",
     "text": [
      "{'서울': 100, '부산': 80, '광주': 50}\n"
     ]
    }
   ],
   "source": [
    "# comp\n",
    "result2 = {k: v for k, v in dust.items() if v >= 50}\n",
    "print(result2)"
   ]
  },
  {
   "cell_type": "code",
   "execution_count": 144,
   "id": "6b9c9c6a-b401-4f59-92f9-a68f0c632e4c",
   "metadata": {},
   "outputs": [
    {
     "name": "stdout",
     "output_type": "stream",
     "text": [
      "{'서울': '나쁨', '부산': '나쁨', '광주': '나쁨'}\n"
     ]
    }
   ],
   "source": [
    "result2 = {k: '나쁨' for k, v in dust.items() if v >= 50}\n",
    "print(result2)"
   ]
  },
  {
   "cell_type": "markdown",
   "id": "48a6e4d6-f382-404a-a941-ae1767f3228f",
   "metadata": {},
   "source": [
    "## 4. 세트 메소드\n",
    "\n",
    "- 순서가 없는 집합"
   ]
  },
  {
   "cell_type": "code",
   "execution_count": 155,
   "id": "665562b0-74ad-44ab-9d5b-9d2eeaa56531",
   "metadata": {},
   "outputs": [
    {
     "name": "stdout",
     "output_type": "stream",
     "text": [
      "['apple', 'banana', 'melon']\n"
     ]
    }
   ],
   "source": [
    "fruits = ['apple', 'banana', 'melon']\n",
    "print(fruits)"
   ]
  },
  {
   "cell_type": "code",
   "execution_count": 153,
   "id": "8bb75dc0-c944-44b6-ae84-f5916dd4fbac",
   "metadata": {},
   "outputs": [
    {
     "ename": "AttributeError",
     "evalue": "'list' object has no attribute 'add'",
     "output_type": "error",
     "traceback": [
      "\u001b[1;31m---------------------------------------------------------------------------\u001b[0m",
      "\u001b[1;31mAttributeError\u001b[0m                            Traceback (most recent call last)",
      "Cell \u001b[1;32mIn[153], line 2\u001b[0m\n\u001b[0;32m      1\u001b[0m \u001b[38;5;66;03m# .add(x)\u001b[39;00m\n\u001b[1;32m----> 2\u001b[0m \u001b[43mfruits\u001b[49m\u001b[38;5;241;43m.\u001b[39;49m\u001b[43madd\u001b[49m(\u001b[38;5;124m'\u001b[39m\u001b[38;5;124mwatermelon\u001b[39m\u001b[38;5;124m'\u001b[39m)\n\u001b[0;32m      3\u001b[0m \u001b[38;5;28mprint\u001b[39m(fruits)\n",
      "\u001b[1;31mAttributeError\u001b[0m: 'list' object has no attribute 'add'"
     ]
    }
   ],
   "source": [
    "# .add(x)\n",
    "fruits.add('watermelon')\n",
    "print(fruits)"
   ]
  },
  {
   "cell_type": "code",
   "execution_count": 154,
   "id": "ad5218ac-ef8d-47da-83d4-55f6e71a9a73",
   "metadata": {},
   "outputs": [
    {
     "ename": "AttributeError",
     "evalue": "'list' object has no attribute 'update'",
     "output_type": "error",
     "traceback": [
      "\u001b[1;31m---------------------------------------------------------------------------\u001b[0m",
      "\u001b[1;31mAttributeError\u001b[0m                            Traceback (most recent call last)",
      "Cell \u001b[1;32mIn[154], line 2\u001b[0m\n\u001b[0;32m      1\u001b[0m \u001b[38;5;66;03m# .update()\u001b[39;00m\n\u001b[1;32m----> 2\u001b[0m \u001b[43mfruits\u001b[49m\u001b[38;5;241;43m.\u001b[39;49m\u001b[43mupdate\u001b[49m(\u001b[38;5;124m'\u001b[39m\u001b[38;5;124mgrape\u001b[39m\u001b[38;5;124m'\u001b[39m)\n\u001b[0;32m      3\u001b[0m \u001b[38;5;28mprint\u001b[39m(fruits)\n",
      "\u001b[1;31mAttributeError\u001b[0m: 'list' object has no attribute 'update'"
     ]
    }
   ],
   "source": [
    "# .update()\n",
    "fruits.update('grape')\n",
    "print(fruits)"
   ]
  },
  {
   "cell_type": "code",
   "execution_count": null,
   "id": "e0b44a7a-2304-4aa4-8b28-76c75601364f",
   "metadata": {},
   "outputs": [],
   "source": [
    "# .pop()"
   ]
  },
  {
   "cell_type": "code",
   "execution_count": null,
   "id": "5a034a5c-3972-4ed3-bb92-2d4660890562",
   "metadata": {},
   "outputs": [],
   "source": []
  },
  {
   "cell_type": "markdown",
   "id": "5139454b-d1c7-4a40-b5cb-3f37d181404b",
   "metadata": {},
   "source": [
    "## 5. map(), zip(), filter()\n",
    "\n",
    "### 5.1 map() : 함수들의 반복을 처리하기 위해\n",
    "    - map(function, iterable)"
   ]
  },
  {
   "cell_type": "code",
   "execution_count": 156,
   "id": "bf31e1b4-2536-4f88-9e8c-3a2608f7bd3c",
   "metadata": {},
   "outputs": [
    {
     "name": "stdout",
     "output_type": "stream",
     "text": [
      "<map object at 0x00000194B9AB83D0>\n",
      "['1', '2', '3']\n"
     ]
    }
   ],
   "source": [
    "a = [1, 2, 3]\n",
    "\n",
    "number_str = map(str, a)\n",
    "print(number_str)\n",
    "print(list(number_str))"
   ]
  },
  {
   "cell_type": "code",
   "execution_count": 159,
   "id": "0bf8306d-6d1f-41be-bea6-8e89799a2adf",
   "metadata": {},
   "outputs": [],
   "source": [
    "def cube(x):\n",
    "    return x ** 3"
   ]
  },
  {
   "cell_type": "code",
   "execution_count": 160,
   "id": "1ab1e081-61ee-4107-8999-53d367ce5e21",
   "metadata": {},
   "outputs": [
    {
     "name": "stdout",
     "output_type": "stream",
     "text": [
      "[1, 8, 27]\n"
     ]
    }
   ],
   "source": [
    "# for문을 활용해 모든 item에 cube 함수 실행\n",
    "result = []\n",
    "for i in a:\n",
    "    result.append(cube(i))\n",
    "\n",
    "print(result)"
   ]
  },
  {
   "cell_type": "code",
   "execution_count": 161,
   "id": "ff0be09a-5534-4d94-a042-6727325808b6",
   "metadata": {},
   "outputs": [
    {
     "name": "stdout",
     "output_type": "stream",
     "text": [
      "[1, 8, 27]\n"
     ]
    }
   ],
   "source": [
    "result2 = map(cube, a)\n",
    "print(list(result2))"
   ]
  },
  {
   "cell_type": "code",
   "execution_count": 166,
   "id": "1723c7ce-3daf-4b6b-938c-74335dc9c0c5",
   "metadata": {},
   "outputs": [
    {
     "name": "stdin",
     "output_type": "stream",
     "text": [
      " 129 32 1239 122\n"
     ]
    },
    {
     "name": "stdout",
     "output_type": "stream",
     "text": [
      "[129, 32, 1239, 122]\n"
     ]
    }
   ],
   "source": [
    "numbers = list(map(int, input().split()))\n",
    "print(numbers)"
   ]
  },
  {
   "cell_type": "markdown",
   "id": "2173b046-a5e5-478a-8cbb-cfa195728b0f",
   "metadata": {},
   "source": [
    "### 5.2 zip\n",
    "- 2개의 리스트를 하나로 합쳐주는 역할"
   ]
  },
  {
   "cell_type": "code",
   "execution_count": 167,
   "id": "19bd35ed-a1cb-4f02-8a82-0891977c1a8c",
   "metadata": {},
   "outputs": [],
   "source": [
    "a = [1, 2, 3]\n",
    "b = [100, 200, 300]"
   ]
  },
  {
   "cell_type": "code",
   "execution_count": 168,
   "id": "6bdf9d64-3468-4c0c-adb1-5fefc84720ce",
   "metadata": {},
   "outputs": [
    {
     "name": "stdout",
     "output_type": "stream",
     "text": [
      "<zip object at 0x00000194BA03FFC0>\n",
      "[(1, 100), (2, 200), (3, 300)]\n"
     ]
    }
   ],
   "source": [
    "result = zip(a, b)\n",
    "print(result)\n",
    "print(list(result))"
   ]
  },
  {
   "cell_type": "markdown",
   "id": "c45c0f4a-ad56-4442-ba43-0980ca6bf4eb",
   "metadata": {},
   "source": [
    "### 5.3 filter()\n",
    "\n",
    "- filter(function, iterable)\n",
    "- filter에 들어가는 "
   ]
  },
  {
   "cell_type": "code",
   "execution_count": 171,
   "id": "e5b207eb-0ec1-4133-85c3-3ab7e03c7f60",
   "metadata": {},
   "outputs": [],
   "source": [
    "def is_odd(x):\n",
    "    # if x % 2 == 1:\n",
    "    #     return True\n",
    "    # else:\n",
    "    #     return False\n",
    "    return bool(x % 2)"
   ]
  },
  {
   "cell_type": "code",
   "execution_count": 172,
   "id": "e12068ff-50d6-49f2-aa2b-e9fd90db6d69",
   "metadata": {},
   "outputs": [
    {
     "name": "stdout",
     "output_type": "stream",
     "text": [
      "<filter object at 0x00000194B9AB8D60>\n",
      "[1, 3, 5]\n"
     ]
    }
   ],
   "source": [
    "numbers = [1, 2, 3, 4, 5]\n",
    "result = filter(is_odd, numbers)\n",
    "print(result)\n",
    "print(list(result))"
   ]
  },
  {
   "cell_type": "code",
   "execution_count": null,
   "id": "b4e69f87-cd0f-499f-8a8c-08c72725db00",
   "metadata": {},
   "outputs": [],
   "source": []
  },
  {
   "cell_type": "code",
   "execution_count": null,
   "id": "e73bd3c5-f14b-4e61-8a05-426e69d095dd",
   "metadata": {},
   "outputs": [],
   "source": []
  },
  {
   "cell_type": "code",
   "execution_count": null,
   "id": "63785ed4-d03c-4f12-9f20-a2e9e4359396",
   "metadata": {},
   "outputs": [],
   "source": []
  },
  {
   "cell_type": "code",
   "execution_count": null,
   "id": "8e1b13d3-f00d-4e0b-9095-269a8d4c4a5f",
   "metadata": {},
   "outputs": [],
   "source": []
  }
 ],
 "metadata": {
  "kernelspec": {
   "display_name": "Python 3 (ipykernel)",
   "language": "python",
   "name": "python3"
  },
  "language_info": {
   "codemirror_mode": {
    "name": "ipython",
    "version": 3
   },
   "file_extension": ".py",
   "mimetype": "text/x-python",
   "name": "python",
   "nbconvert_exporter": "python",
   "pygments_lexer": "ipython3",
   "version": "3.11.1"
  }
 },
 "nbformat": 4,
 "nbformat_minor": 5
}
