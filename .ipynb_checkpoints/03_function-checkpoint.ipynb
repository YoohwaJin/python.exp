{
 "cells": [
  {
   "cell_type": "markdown",
   "id": "b59e6de9-6ecc-4409-9576-7d76e6a5cd72",
   "metadata": {},
   "source": [
    "# 함수(function)"
   ]
  },
  {
   "cell_type": "code",
   "execution_count": 1,
   "id": "fa467247-20b2-4f1f-b5fe-7cfea113a8ed",
   "metadata": {},
   "outputs": [
    {
     "name": "stdout",
     "output_type": "stream",
     "text": [
      "직사각형의 둘레는 60, 면적은 200입니다.\n",
      "직사각형의 둘레는 260, 면적은 4000입니다.\n"
     ]
    }
   ],
   "source": [
    "height = 10\n",
    "width = 20\n",
    "\n",
    "height2 = 50\n",
    "width2 = 80\n",
    "# 직사각형의 둘레는 **, 면적은 **입니다.\n",
    "\n",
    "area = height * width\n",
    "perimeter = (height + width) * 2\n",
    "print(f'직사각형의 둘레는 {perimeter}, 면적은 {area}입니다.')\n",
    "\n",
    "area = height2 * width2\n",
    "perimeter = (height2 + width2) * 2\n",
    "print(f'직사각형의 둘레는 {perimeter}, 면적은 {area}입니다.')"
   ]
  },
  {
   "cell_type": "markdown",
   "id": "6c0274f8-9b90-4779-97dc-5d54fb0c8f01",
   "metadata": {},
   "source": [
    "## 함수의 선언과 호출\n",
    "\n",
    "```python\n",
    "def func_name(parameter1, parameter2...):\n",
    "    code1\n",
    "    code2\n",
    "    ...\n",
    "    return value\n",
    "\n",
    "- 함수의 호출(실행)\n",
    "\n",
    "func_name(parameter1, parameter2)"
   ]
  },
  {
   "cell_type": "code",
   "execution_count": 3,
   "id": "3ae83679-bae1-4cf6-9789-8782499f1d9d",
   "metadata": {},
   "outputs": [],
   "source": [
    "def rectangle(height, width):\n",
    "    area = height * width\n",
    "    perimeter = (height + width) * 2\n",
    "    print(f'직사각형의 둘레는 {perimeter}, 면적은 {area}입니다.')\n"
   ]
  },
  {
   "cell_type": "code",
   "execution_count": 4,
   "id": "466da0e2-b116-42ba-884c-9fa2fb2baa23",
   "metadata": {},
   "outputs": [
    {
     "name": "stdout",
     "output_type": "stream",
     "text": [
      "직사각형의 둘레는 106, 면적은 660입니다.\n"
     ]
    }
   ],
   "source": [
    "rectangle(33,20)"
   ]
  },
  {
   "cell_type": "code",
   "execution_count": null,
   "id": "86f1b4d3-0b7c-4704-ac66-01993705e6c0",
   "metadata": {},
   "outputs": [],
   "source": []
  },
  {
   "cell_type": "code",
   "execution_count": null,
   "id": "38726728-b0bf-4894-afac-dfd3b768de13",
   "metadata": {},
   "outputs": [],
   "source": []
  },
  {
   "cell_type": "code",
   "execution_count": 10,
   "id": "731eb224-5e6f-4ec0-a526-00cade670f3e",
   "metadata": {},
   "outputs": [
    {
     "data": {
      "text/plain": [
       "5"
      ]
     },
     "execution_count": 10,
     "metadata": {},
     "output_type": "execute_result"
    }
   ],
   "source": [
    "max(1,5)"
   ]
  },
  {
   "cell_type": "code",
   "execution_count": 17,
   "id": "51d747e3-734b-4bf9-a47e-ee1375691c71",
   "metadata": {},
   "outputs": [],
   "source": [
    "# 두개의 정수를 받아서 큰 수를 출력\n",
    "def my_max(a, b):\n",
    "    if a > b:\n",
    "        print(a)\n",
    "    elif a < b:\n",
    "        print(b)\n",
    "    else:\n",
    "        print('The numbers are same')"
   ]
  },
  {
   "cell_type": "code",
   "execution_count": 20,
   "id": "c1d85eef-62f8-416c-bc24-89800c18017a",
   "metadata": {},
   "outputs": [
    {
     "name": "stdout",
     "output_type": "stream",
     "text": [
      "6\n",
      "None\n"
     ]
    }
   ],
   "source": [
    "result = my_max(6,5)\n",
    "print(result)"
   ]
  },
  {
   "cell_type": "markdown",
   "id": "18ec6ecf-c184-421a-ad27-e10e04a03643",
   "metadata": {},
   "source": [
    "## 함수의 return\n",
    "\n",
    "- 함수가 return을 만나면 해당 값을 반환하고 함수를 종료\n",
    "- 만약 return이 없다면 None을 자동으로 반환\n",
    "- return은 오직 하나의 객체만 반환합니다."
   ]
  },
  {
   "cell_type": "code",
   "execution_count": 22,
   "id": "c8e2ad16-166e-410a-9471-a7d5d3f8c846",
   "metadata": {},
   "outputs": [],
   "source": [
    "# 두개의 정수를 받아서 큰 수를 반환\n",
    "def my_max2(a, b):\n",
    "    if a > b:\n",
    "        return a\n",
    "    elif a < b:\n",
    "        return b\n",
    "    else:\n",
    "        print('The numbers are same')"
   ]
  },
  {
   "cell_type": "code",
   "execution_count": 23,
   "id": "76025cd2-fff8-47a7-a666-8429376c8bfd",
   "metadata": {},
   "outputs": [
    {
     "name": "stdout",
     "output_type": "stream",
     "text": [
      "2가 더 큽니다.\n"
     ]
    }
   ],
   "source": [
    "result = my_max2(1, 2)\n",
    "print(f'{result}가 더 큽니다.')"
   ]
  },
  {
   "cell_type": "code",
   "execution_count": 25,
   "id": "662881b5-c870-459d-aa0c-817aef13fcdc",
   "metadata": {},
   "outputs": [],
   "source": [
    "def my_list_max(list_a, list_b):\n",
    "    if sum(list_a) > sum(list_b):\n",
    "        return list_a\n",
    "    else:\n",
    "        return list_b"
   ]
  },
  {
   "cell_type": "code",
   "execution_count": 26,
   "id": "ed5bc337-8109-4684-ba99-f627578d530f",
   "metadata": {},
   "outputs": [
    {
     "data": {
      "text/plain": [
       "{11, 12}"
      ]
     },
     "execution_count": 26,
     "metadata": {},
     "output_type": "execute_result"
    }
   ],
   "source": [
    "my_list_max({10,11}, {11,12})"
   ]
  },
  {
   "cell_type": "code",
   "execution_count": null,
   "id": "61a31b04-116e-4c2b-85cc-5955c0341b04",
   "metadata": {},
   "outputs": [],
   "source": []
  },
  {
   "cell_type": "markdown",
   "id": "89da9c18-d172-4799-95a5-3bb3d86627b0",
   "metadata": {},
   "source": [
    "## 함수의 인수\n",
    "\n",
    "### 위치 인수\n",
    "> 기본적으로 함수는 인수의 위치로 판단합니다."
   ]
  },
  {
   "cell_type": "code",
   "execution_count": 3,
   "id": "13eeb198-26ad-4f4e-b5f0-08b645462b03",
   "metadata": {},
   "outputs": [
    {
     "name": "stdout",
     "output_type": "stream",
     "text": [
      "1570.0\n",
      "785.0\n"
     ]
    }
   ],
   "source": [
    "def cylinder(r, h):\n",
    "    return 3.14 * r**2 * h\n",
    "\n",
    "print(cylinder(10, 5))\n",
    "print(cylinder(5, 10))"
   ]
  },
  {
   "cell_type": "markdown",
   "id": "344efa6b-2dec-4537-8e88-30b07bfd8afd",
   "metadata": {},
   "source": [
    "### 기본값\n",
    "```\n",
    "def func(p1=v1):\n",
    "    return v1\n",
    "```"
   ]
  },
  {
   "cell_type": "code",
   "execution_count": 6,
   "id": "69983fde-a2c7-4a6b-b3fa-0998b2b6c1c2",
   "metadata": {},
   "outputs": [
    {
     "name": "stdout",
     "output_type": "stream",
     "text": [
      "유화님 반갑습니다.\n",
      "익명님 반갑습니다.\n"
     ]
    }
   ],
   "source": [
    "def greeting(name='익명'):\n",
    "    return f'{name}님 반갑습니다.'\n",
    "\n",
    "print(greeting('유화'))\n",
    "print(greeting())\n",
    "\n",
    "## 함수의 값을 넣으면 그 값을, 함수에 아무 값도 넣지 않았을 때는 기본값을 출력"
   ]
  },
  {
   "cell_type": "code",
   "execution_count": 7,
   "id": "95ab5816-d563-4b58-ad1f-198512ecaf6b",
   "metadata": {},
   "outputs": [
    {
     "ename": "SyntaxError",
     "evalue": "non-default argument follows default argument (2710899941.py, line 1)",
     "output_type": "error",
     "traceback": [
      "\u001b[1;36m  Cell \u001b[1;32mIn[7], line 1\u001b[1;36m\u001b[0m\n\u001b[1;33m    def greeting(name='익명', age):\u001b[0m\n\u001b[1;37m                            ^\u001b[0m\n\u001b[1;31mSyntaxError\u001b[0m\u001b[1;31m:\u001b[0m non-default argument follows default argument\n"
     ]
    }
   ],
   "source": [
    "def greeting(name='익명', age):\n",
    "    return f'(name)님은 (age)입니다.'"
   ]
  },
  {
   "cell_type": "code",
   "execution_count": 9,
   "id": "03affbf1-3bce-4713-affc-8245756c12e1",
   "metadata": {},
   "outputs": [
    {
     "name": "stdout",
     "output_type": "stream",
     "text": [
      "홍길동님은 10살입니다.\n",
      "익명님은 10살입니다.\n"
     ]
    }
   ],
   "source": [
    "def greeting(age, name='익명'):\n",
    "    return f'{name}님은 {age}살입니다.'\n",
    "\n",
    "print(greeting(10, '홍길동'))\n",
    "print(greeting(10))"
   ]
  },
  {
   "cell_type": "markdown",
   "id": "cdb7f1e5-e213-4e13-b751-be327af02ddf",
   "metadata": {},
   "source": [
    "### 키워드 인자\n",
    "- 함수를 호출(실행)할 때 내가 원하는 위치에 직접적으로 특정 인자를 전달 가능\n"
   ]
  },
  {
   "cell_type": "code",
   "execution_count": 10,
   "id": "414c1175-beb6-40e7-95a6-bf3bd47344fd",
   "metadata": {},
   "outputs": [
    {
     "name": "stdout",
     "output_type": "stream",
     "text": [
      "홍길동님은 10살입니다.\n",
      "홍길동님은 10살입니다.\n"
     ]
    }
   ],
   "source": [
    "def greeting(age, name='익명'):\n",
    "    return f'{name}님은 {age}살입니다.'\n",
    "\n",
    "print(greeting(10, '홍길동'))\n",
    "print(greeting(name='홍길동', age=10))"
   ]
  },
  {
   "cell_type": "code",
   "execution_count": 13,
   "id": "f761dd20-8ce7-436d-b9e0-6a0a9a1764f8",
   "metadata": {},
   "outputs": [
    {
     "name": "stdout",
     "output_type": "stream",
     "text": [
      "안녕\n",
      "안녕!하세요?"
     ]
    }
   ],
   "source": [
    "print('안녕')\n",
    "print('안녕', '하세요', sep='!', end='?')"
   ]
  },
  {
   "cell_type": "markdown",
   "id": "ebde9a93-ad86-43a9-85bf-1c1de1bf2ead",
   "metadata": {},
   "source": [
    "### 가변 인자 리스트\n",
    "``` python\n",
    "    def func(*params):\n",
    "        pass\n",
    "```\n",
    "\n",
    "몇개가 들어올지 모르는 것을 튜플로 "
   ]
  },
  {
   "cell_type": "code",
   "execution_count": 15,
   "id": "9137807f-275a-478a-b130-606d408989d2",
   "metadata": {},
   "outputs": [
    {
     "name": "stdout",
     "output_type": "stream",
     "text": [
      "('hi', 'hello', '안녕', '하세요')\n",
      "<class 'tuple'>\n"
     ]
    }
   ],
   "source": [
    "def my_print(*words):\n",
    "    print(words)\n",
    "    print(type(words))\n",
    "\n",
    "my_print('hi', 'hello', '안녕', '하세요')"
   ]
  },
  {
   "cell_type": "code",
   "execution_count": 25,
   "id": "105f81b4-cd7b-4739-a5bc-0f0a53283899",
   "metadata": {},
   "outputs": [],
   "source": [
    "def my_max(*nums):\n",
    "    result = 0\n",
    "\n",
    "    for num in nums:\n",
    "        if result < num:\n",
    "            result = num\n",
    "\n",
    "    return result\n",
    "    \n"
   ]
  },
  {
   "cell_type": "code",
   "execution_count": 22,
   "id": "9e142c83-4a0f-4f23-9837-7beff1798790",
   "metadata": {},
   "outputs": [
    {
     "data": {
      "text/plain": [
       "5"
      ]
     },
     "execution_count": 22,
     "metadata": {},
     "output_type": "execute_result"
    }
   ],
   "source": [
    "my_max(1, 2, 3, 4, 5)"
   ]
  },
  {
   "cell_type": "code",
   "execution_count": 26,
   "id": "52660964-9961-4969-9eef-716a17ef93ca",
   "metadata": {},
   "outputs": [
    {
     "data": {
      "text/plain": [
       "0"
      ]
     },
     "execution_count": 26,
     "metadata": {},
     "output_type": "execute_result"
    }
   ],
   "source": [
    "my_max(-1, -2)"
   ]
  },
  {
   "cell_type": "code",
   "execution_count": 27,
   "id": "a3cee6c1-2f48-4f47-aa9a-65b5639627d8",
   "metadata": {},
   "outputs": [
    {
     "data": {
      "text/plain": [
       "-1"
      ]
     },
     "execution_count": 27,
     "metadata": {},
     "output_type": "execute_result"
    }
   ],
   "source": [
    "def my_max(*nums):\n",
    "    result = nums[0]\n",
    "\n",
    "    for num in nums:\n",
    "        if result < num:\n",
    "            result = num\n",
    "\n",
    "    return result\n",
    "\n",
    "my_max(-1, -2)"
   ]
  },
  {
   "cell_type": "markdown",
   "id": "1485f991-a8b3-43c9-b6d8-106ec67be127",
   "metadata": {},
   "source": [
    "### 정의되지 않은 키워드 인자 처리하기\n",
    "\n",
    "``` python\n",
    "def func(**kwangs):\n",
    "    pass\n",
    "```\n",
    "몇개의 데이터가 들어올지 모르는 딕셔너리가 들어오는 느낌\n",
    "\n"
   ]
  },
  {
   "cell_type": "code",
   "execution_count": 28,
   "id": "69538b37-dbed-4fda-850d-8e5d6433071f",
   "metadata": {},
   "outputs": [
    {
     "name": "stdout",
     "output_type": "stream",
     "text": [
      "{'name': 'hong', 'age': 20}\n"
     ]
    }
   ],
   "source": [
    "info = {\n",
    "    'name': 'hong',\n",
    "    'age': 20,\n",
    "}\n",
    "print(info)"
   ]
  },
  {
   "cell_type": "code",
   "execution_count": 29,
   "id": "8f7a4c71-aad7-4b87-954e-c91f075606f4",
   "metadata": {},
   "outputs": [
    {
     "name": "stdout",
     "output_type": "stream",
     "text": [
      "{'name': 'hong', 'age': 20, 'asdf': 1234}\n"
     ]
    }
   ],
   "source": [
    "info = dict(name='hong', age=20, asdf=1234)\n",
    "print(info)"
   ]
  },
  {
   "cell_type": "code",
   "execution_count": 34,
   "id": "29a58863-44b4-4df3-8cab-80f8202be658",
   "metadata": {},
   "outputs": [
    {
     "name": "stdout",
     "output_type": "stream",
     "text": [
      "{'korean': '안녕', 'english': 'hello'}\n",
      "<class 'dict'>\n"
     ]
    }
   ],
   "source": [
    "def fake_dict(**kwargs):\n",
    "    print(kwargs)\n",
    "    print(type(kwargs))\n",
    "\n",
    "fake_dict(korean = '안녕', english = 'hello')"
   ]
  },
  {
   "cell_type": "markdown",
   "id": "f9a1bc6b-6571-48e6-b9cc-63ca0d819cf1",
   "metadata": {},
   "source": [
    "### 딕셔너리를 인자로 넣기(unpacking)"
   ]
  },
  {
   "cell_type": "code",
   "execution_count": 33,
   "id": "bdf93deb-896c-49c2-b737-134fbea77c1a",
   "metadata": {},
   "outputs": [
    {
     "name": "stdout",
     "output_type": "stream",
     "text": [
      "aa님 회원가입이 완료되었습니다.\n"
     ]
    }
   ],
   "source": [
    "def sign_up(username, password, password_confirmation):\n",
    "    if password == password_confirmation:\n",
    "        print(f'{username}님 회원가입이 완료되었습니다.')\n",
    "    else:\n",
    "        print(f'비밀번호가 일치하지 않습니다.')\n",
    "\n",
    "sign_up('aa', '1234', '1234')"
   ]
  },
  {
   "cell_type": "markdown",
   "id": "26febb82-bcad-4f0c-b0b9-592845b1b4a2",
   "metadata": {},
   "source": [
    "### lambda 표현식\n",
    "\n",
    "``` python\n",
    "     lambda parameter: expression\n",
    "```"
   ]
  },
  {
   "cell_type": "code",
   "execution_count": 35,
   "id": "ecea05d6-6923-46cc-989e-4bb3ecf47d1c",
   "metadata": {},
   "outputs": [
    {
     "data": {
      "text/plain": [
       "3"
      ]
     },
     "execution_count": 35,
     "metadata": {},
     "output_type": "execute_result"
    }
   ],
   "source": [
    "(lambda a, b: a + b)(1, 2)"
   ]
  },
  {
   "cell_type": "code",
   "execution_count": 36,
   "id": "68faba47-58b3-4a3c-9fa0-2be2ab3b8171",
   "metadata": {},
   "outputs": [
    {
     "data": {
      "text/plain": [
       "3"
      ]
     },
     "execution_count": 36,
     "metadata": {},
     "output_type": "execute_result"
    }
   ],
   "source": [
    "def my_sum(a, b):\n",
    "    return a + b\n",
    "\n",
    "my_sum(1,2)"
   ]
  },
  {
   "cell_type": "markdown",
   "id": "120b9918-c0de-43f2-89d2-cad7dcd3bd9b",
   "metadata": {},
   "source": [
    "### 타입 힌트"
   ]
  },
  {
   "cell_type": "code",
   "execution_count": 37,
   "id": "55593287-2ae9-4392-9722-63010a021e41",
   "metadata": {},
   "outputs": [
    {
     "ename": "TypeError",
     "evalue": "can only concatenate str (not \"int\") to str",
     "output_type": "error",
     "traceback": [
      "\u001b[1;31m---------------------------------------------------------------------------\u001b[0m",
      "\u001b[1;31mTypeError\u001b[0m                                 Traceback (most recent call last)",
      "Cell \u001b[1;32mIn[37], line 5\u001b[0m\n\u001b[0;32m      2\u001b[0m     \u001b[38;5;28;01mreturn\u001b[39;00m num1 \u001b[38;5;241m+\u001b[39m num2\n\u001b[0;32m      4\u001b[0m my_sum(\u001b[38;5;241m1\u001b[39m, \u001b[38;5;241m2\u001b[39m)\n\u001b[1;32m----> 5\u001b[0m \u001b[43mmy_sum\u001b[49m\u001b[43m(\u001b[49m\u001b[38;5;124;43m'\u001b[39;49m\u001b[38;5;124;43m1\u001b[39;49m\u001b[38;5;124;43m'\u001b[39;49m\u001b[43m,\u001b[49m\u001b[43m \u001b[49m\u001b[38;5;241;43m2\u001b[39;49m\u001b[43m)\u001b[49m\n",
      "Cell \u001b[1;32mIn[37], line 2\u001b[0m, in \u001b[0;36mmy_sum\u001b[1;34m(num1, num2)\u001b[0m\n\u001b[0;32m      1\u001b[0m \u001b[38;5;28;01mdef\u001b[39;00m \u001b[38;5;21mmy_sum\u001b[39m(num1: \u001b[38;5;28mint\u001b[39m, num2: \u001b[38;5;28mint\u001b[39m) \u001b[38;5;241m-\u001b[39m\u001b[38;5;241m>\u001b[39m \u001b[38;5;28mint\u001b[39m:\n\u001b[1;32m----> 2\u001b[0m     \u001b[38;5;28;01mreturn\u001b[39;00m \u001b[43mnum1\u001b[49m\u001b[43m \u001b[49m\u001b[38;5;241;43m+\u001b[39;49m\u001b[43m \u001b[49m\u001b[43mnum2\u001b[49m\n",
      "\u001b[1;31mTypeError\u001b[0m: can only concatenate str (not \"int\") to str"
     ]
    }
   ],
   "source": [
    "def my_sum(num1: int, num2: int) -> int:\n",
    "    return num1 + num2\n",
    "\n",
    "my_sum(1, 2)\n",
    "my_sum('1', 2)"
   ]
  },
  {
   "cell_type": "markdown",
   "id": "fb805083-9bbb-40cf-bc5b-64435c9db68e",
   "metadata": {},
   "source": [
    "### 이름공간 (scope)\n",
    "\n",
    "- 파이썬에서 사양되는 이름들은 이름공간(namespace)에 저장되어있습니다.\n",
    "\n",
    "우선순위(LEGB)\n",
    "- L local scope : 정의된 함수 내부\n",
    "- E enclosed scope : 상위 함수\n",
    "- G glocal scope : 함수 밖의 변수 혹은 import된 모듈\n",
    "- B Built-in scope : 파이썬이 기본저긍로 가지고 있는 함수 혹은 변수"
   ]
  },
  {
   "cell_type": "code",
   "execution_count": 39,
   "id": "008624be-03ad-4b9c-8a72-62290436bcfb",
   "metadata": {},
   "outputs": [],
   "source": [
    "str = '123'"
   ]
  },
  {
   "cell_type": "code",
   "execution_count": 40,
   "id": "a0141c9f-4bac-4d42-ab36-87190a4042a9",
   "metadata": {},
   "outputs": [
    {
     "name": "stdout",
     "output_type": "stream",
     "text": [
      "123\n"
     ]
    }
   ],
   "source": [
    "print(str)"
   ]
  },
  {
   "cell_type": "code",
   "execution_count": 44,
   "id": "ca7d195b-18c5-4db7-b310-ae05bbf364cc",
   "metadata": {},
   "outputs": [
    {
     "data": {
      "text/plain": [
       "'789'"
      ]
     },
     "execution_count": 44,
     "metadata": {},
     "output_type": "execute_result"
    }
   ],
   "source": [
    "str(789)"
   ]
  },
  {
   "cell_type": "code",
   "execution_count": 42,
   "id": "1920153a-5ad0-4f04-98ce-fbe227b1f369",
   "metadata": {},
   "outputs": [],
   "source": [
    "del str"
   ]
  },
  {
   "cell_type": "code",
   "execution_count": 43,
   "id": "60ca027a-9eb1-4ec5-8a68-c5303f14ec94",
   "metadata": {},
   "outputs": [
    {
     "name": "stdout",
     "output_type": "stream",
     "text": [
      "5\n"
     ]
    }
   ],
   "source": [
    "a = 1\n",
    "def localscope(a):\n",
    "    print(a)\n",
    "\n",
    "localscope(5)\n",
    "\n",
    "# 밖에서 설정한 변수보다 local 안에 있는게 더 가깝기 때문에 5를 반환"
   ]
  },
  {
   "cell_type": "code",
   "execution_count": null,
   "id": "9b816eb1-d41d-4fc2-b7b7-d334510abbf3",
   "metadata": {},
   "outputs": [],
   "source": []
  },
  {
   "cell_type": "markdown",
   "id": "a110b260-5c24-46e5-8f63-3465348f6c59",
   "metadata": {},
   "source": [
    "### 재귀 (recursive)\n",
    "- 재귀함수는 함수 내부에서 자기 자신을 호출하는 함수를 의미한다.\n",
    "- 재귀는 꼭 끝나는 구간을 설정해줘야함\n",
    "- https://img1.daumcdn.net/thumb/R750x0/?scode=mtistory2&fname=https%3A%2F%2Fblog.kakaocdn.net%2Fdn%2FbFhCpd%2FbtrRY34V3iX%2F8RI6gAOCuqpBiguu74u2rK%2Fimg.jpg"
   ]
  },
  {
   "cell_type": "code",
   "execution_count": 49,
   "id": "a1a5551c-4195-442f-9c90-2c3981585baf",
   "metadata": {},
   "outputs": [
    {
     "data": {
      "text/plain": [
       "120"
      ]
     },
     "execution_count": 49,
     "metadata": {},
     "output_type": "execute_result"
    }
   ],
   "source": [
    "# 팩토리얼(1부터 n까지의 곱을 구하기)\n",
    "def fact(n):\n",
    "    result = 1\n",
    "    \n",
    "    while n > 1:\n",
    "        result = result * n\n",
    "        # result *= n\n",
    "        n = n - 1\n",
    "        # n -= 1\n",
    "\n",
    "    return result\n",
    "\n",
    "fact(5)"
   ]
  },
  {
   "cell_type": "code",
   "execution_count": 51,
   "id": "4ae2a35a-9aa2-4cf7-ae69-b5d7233633c0",
   "metadata": {},
   "outputs": [],
   "source": [
    "# 1! = 1\n",
    "# 2! = 1 * 2 = 2\n",
    "# 3! = 1 * 2 * 3 = 2! * 3"
   ]
  },
  {
   "cell_type": "code",
   "execution_count": 52,
   "id": "014816af-b454-45a5-9845-28dda04c5758",
   "metadata": {},
   "outputs": [],
   "source": [
    "def factorial(n):\n",
    "    if n<= 1:\n",
    "        pass\n",
    "    else:\n",
    "        return factorial(n-1) * n\n",
    "        # 10! = 9! * 10 = "
   ]
  },
  {
   "cell_type": "code",
   "execution_count": null,
   "id": "93a78e80-9935-4061-95d0-243f8c8230bf",
   "metadata": {},
   "outputs": [],
   "source": []
  },
  {
   "cell_type": "markdown",
   "id": "5cc1f11c-bb8a-4ef6-ac9b-2f57274f6767",
   "metadata": {},
   "source": [
    "### 피보나치 수열\n",
    "``` python\n",
    "    F(0) = F(1) = 1\n",
    "    F(n) = F(n-1) + F(n-2)\n",
    "```\n",
    "- [1, 1, 2, 3, 5, 8, 13 ...]\n",
    "    "
   ]
  },
  {
   "cell_type": "code",
   "execution_count": 62,
   "id": "c835200d-85fc-47f9-8a94-874b12e26662",
   "metadata": {},
   "outputs": [
    {
     "ename": "UnboundLocalError",
     "evalue": "cannot access local variable 'result' where it is not associated with a value",
     "output_type": "error",
     "traceback": [
      "\u001b[1;31m---------------------------------------------------------------------------\u001b[0m",
      "\u001b[1;31mUnboundLocalError\u001b[0m                         Traceback (most recent call last)",
      "Cell \u001b[1;32mIn[62], line 14\u001b[0m\n\u001b[0;32m     10\u001b[0m         result\u001b[38;5;241m.\u001b[39mappend(fib_num)\n\u001b[0;32m     12\u001b[0m     \u001b[38;5;28;01mreturn\u001b[39;00m result [\u001b[38;5;241m-\u001b[39m\u001b[38;5;241m1\u001b[39m]\n\u001b[1;32m---> 14\u001b[0m \u001b[43mfib_loop\u001b[49m\u001b[43m(\u001b[49m\u001b[38;5;241;43m5\u001b[39;49m\u001b[43m)\u001b[49m\n",
      "Cell \u001b[1;32mIn[62], line 6\u001b[0m, in \u001b[0;36mfib_loop\u001b[1;34m(n)\u001b[0m\n\u001b[0;32m      3\u001b[0m result : [\u001b[38;5;241m1\u001b[39m, \u001b[38;5;241m1\u001b[39m]\n\u001b[0;32m      5\u001b[0m \u001b[38;5;28;01mfor\u001b[39;00m i \u001b[38;5;129;01min\u001b[39;00m \u001b[38;5;28mrange\u001b[39m(\u001b[38;5;241m1\u001b[39m, n):\n\u001b[1;32m----> 6\u001b[0m     end1 \u001b[38;5;241m=\u001b[39m \u001b[43mresult\u001b[49m[\u001b[38;5;241m-\u001b[39m\u001b[38;5;241m1\u001b[39m] \u001b[38;5;66;03m# 리스트의 뒤에서 1번째 숫자\u001b[39;00m\n\u001b[0;32m      7\u001b[0m     end2 \u001b[38;5;241m=\u001b[39m result[\u001b[38;5;28mlen\u001b[39m(result)\u001b[38;5;241m-\u001b[39m\u001b[38;5;241m2\u001b[39m] \u001b[38;5;66;03m# result의 길이를 알려줌, =result[-2]\u001b[39;00m\n\u001b[0;32m      8\u001b[0m     fib_num \u001b[38;5;241m=\u001b[39m end1 \u001b[38;5;241m+\u001b[39m end2\n",
      "\u001b[1;31mUnboundLocalError\u001b[0m: cannot access local variable 'result' where it is not associated with a value"
     ]
    }
   ],
   "source": [
    "# 반복문\n",
    "def fib_loop(n):\n",
    "    result : [1, 1]\n",
    "    \n",
    "    for i in range(1, n):\n",
    "        end1 = result[-1] # 리스트의 뒤에서 1번째 숫자\n",
    "        end2 = result[len(result)-2] # result의 길이를 알려줌, =result[-2]\n",
    "        fib_num = end1 + end2\n",
    "\n",
    "        result.append(fib_num)\n",
    "\n",
    "    return result [-1]\n",
    "\n",
    "fib_loop(5)\n",
    "        "
   ]
  },
  {
   "cell_type": "code",
   "execution_count": 57,
   "id": "0bef9c7a-eda3-488b-a388-df3bb98f8212",
   "metadata": {},
   "outputs": [
    {
     "data": {
      "text/plain": [
       "377"
      ]
     },
     "execution_count": 57,
     "metadata": {},
     "output_type": "execute_result"
    }
   ],
   "source": [
    "# 재귀\n",
    "def fib_rec(n):\n",
    "    if n == 0 or n == 1:\n",
    "        return 1\n",
    "    else:\n",
    "        return fib_rec(n-1) + fib_rec(n-2)\n",
    "\n",
    "fib_rec(13)"
   ]
  },
  {
   "cell_type": "code",
   "execution_count": 58,
   "id": "44559430-bd0d-412d-b26d-26e146df84f8",
   "metadata": {},
   "outputs": [
    {
     "data": {
      "text/plain": [
       "2"
      ]
     },
     "execution_count": 58,
     "metadata": {},
     "output_type": "execute_result"
    }
   ],
   "source": [
    "a = [1, 2, 3, 4, 5]\n",
    "a[1]\n",
    "\n",
    "# a라는 리스트에서 인덱스 1은 2\n",
    "\n"
   ]
  },
  {
   "cell_type": "code",
   "execution_count": null,
   "id": "bcc850e9-b9d5-47ad-9979-5c484803473c",
   "metadata": {},
   "outputs": [],
   "source": []
  },
  {
   "cell_type": "code",
   "execution_count": null,
   "id": "f81a109d-2d1b-48bc-af02-0ec43afbd3f8",
   "metadata": {},
   "outputs": [],
   "source": []
  },
  {
   "cell_type": "code",
   "execution_count": null,
   "id": "0a1be26a-290e-4c58-a8db-6d9b7ef79cc8",
   "metadata": {},
   "outputs": [],
   "source": []
  },
  {
   "cell_type": "code",
   "execution_count": null,
   "id": "9d9c0679-0c02-4ed3-bd3b-0d6811929ff0",
   "metadata": {},
   "outputs": [],
   "source": []
  }
 ],
 "metadata": {
  "kernelspec": {
   "display_name": "Python 3 (ipykernel)",
   "language": "python",
   "name": "python3"
  },
  "language_info": {
   "codemirror_mode": {
    "name": "ipython",
    "version": 3
   },
   "file_extension": ".py",
   "mimetype": "text/x-python",
   "name": "python",
   "nbconvert_exporter": "python",
   "pygments_lexer": "ipython3",
   "version": "3.11.1"
  }
 },
 "nbformat": 4,
 "nbformat_minor": 5
}
