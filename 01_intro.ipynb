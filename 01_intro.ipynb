{
 "cells": [
  {
   "cell_type": "markdown",
   "id": "437d2226-f251-47e9-ab40-7643b07ba494",
   "metadata": {
    "jp-MarkdownHeadingCollapsed": true
   },
   "source": [
    "# 01. intro\n",
    "\n",
    "## 단축키\n",
    "\n",
    "- cntl + enter: 지금 셀 실행\n",
    "- shift + enter: 지금 셀 실행하면서 & 아래로 이동\n",
    "- alt + enter: 지금 셀 실행하면서 & 아래에 새로운 셀 추가\n",
    "\n",
    "## 주의사항\n",
    "\n",
    "1. Apple / apple 은 다르다 (대소문자 구분 잘 해!)\n",
    "2. git add . / git add. 은 다르다(띄어쓰기 잘 해!)\n",
    "3. message / massage 는 다르다(오탈자 주의!)"
   ]
  },
  {
   "cell_type": "code",
   "execution_count": 5,
   "id": "8860b684-269a-4b7b-a110-4004631c64ec",
   "metadata": {},
   "outputs": [],
   "source": [
    "# 주석을 나타냅니다"
   ]
  },
  {
   "cell_type": "markdown",
   "id": "73446a5b-7c27-4969-9a21-79c07b199a59",
   "metadata": {},
   "source": [
    "# 1. 변수\n",
    "\n",
    "변수이름 = 값\n",
    "(변수는 하나의 상자)\n",
    "- 변수 이름은 어떤 이름이든 상관 없음\n",
    "- 다만 영어, 숫자, _를 이용하여 선언\n",
    "- 키워드는 사용 불가"
   ]
  },
  {
   "cell_type": "code",
   "execution_count": 6,
   "id": "656523b3-5f66-4677-afb9-2a0ff1a96b6e",
   "metadata": {},
   "outputs": [],
   "source": [
    "a = 10"
   ]
  },
  {
   "cell_type": "code",
   "execution_count": 7,
   "id": "40ba1689-e977-4875-886e-f44dbebcceaf",
   "metadata": {},
   "outputs": [
    {
     "data": {
      "text/plain": [
       "10"
      ]
     },
     "execution_count": 7,
     "metadata": {},
     "output_type": "execute_result"
    }
   ],
   "source": [
    "a"
   ]
  },
  {
   "cell_type": "code",
   "execution_count": 9,
   "id": "b3f58db5-70c6-4478-bdde-d3bc5d9749c4",
   "metadata": {},
   "outputs": [
    {
     "data": {
      "text/plain": [
       "['False',\n",
       " 'None',\n",
       " 'True',\n",
       " 'and',\n",
       " 'as',\n",
       " 'assert',\n",
       " 'async',\n",
       " 'await',\n",
       " 'break',\n",
       " 'class',\n",
       " 'continue',\n",
       " 'def',\n",
       " 'del',\n",
       " 'elif',\n",
       " 'else',\n",
       " 'except',\n",
       " 'finally',\n",
       " 'for',\n",
       " 'from',\n",
       " 'global',\n",
       " 'if',\n",
       " 'import',\n",
       " 'in',\n",
       " 'is',\n",
       " 'lambda',\n",
       " 'nonlocal',\n",
       " 'not',\n",
       " 'or',\n",
       " 'pass',\n",
       " 'raise',\n",
       " 'return',\n",
       " 'try',\n",
       " 'while',\n",
       " 'with',\n",
       " 'yield']"
      ]
     },
     "execution_count": 9,
     "metadata": {},
     "output_type": "execute_result"
    }
   ],
   "source": [
    "import keyword\n",
    "keyword.kwlist"
   ]
  },
  {
   "cell_type": "markdown",
   "id": "75e6b786-accd-4c12-9f0b-82d6b43598db",
   "metadata": {},
   "source": [
    "## 1.1 number"
   ]
  },
  {
   "cell_type": "code",
   "execution_count": 10,
   "id": "4b2bb191-6430-4c42-93e3-059181d94af1",
   "metadata": {},
   "outputs": [],
   "source": [
    "a = 100000"
   ]
  },
  {
   "cell_type": "code",
   "execution_count": 11,
   "id": "2bf5a8db-99f0-4fa5-b494-db2a768c0aa2",
   "metadata": {},
   "outputs": [
    {
     "data": {
      "text/plain": [
       "100000"
      ]
     },
     "execution_count": 11,
     "metadata": {},
     "output_type": "execute_result"
    }
   ],
   "source": [
    "a"
   ]
  },
  {
   "cell_type": "code",
   "execution_count": 12,
   "id": "363bf9c0-d282-45d1-be75-a45b2b886e96",
   "metadata": {},
   "outputs": [
    {
     "data": {
      "text/plain": [
       "int"
      ]
     },
     "execution_count": 12,
     "metadata": {},
     "output_type": "execute_result"
    }
   ],
   "source": [
    "type(a)"
   ]
  },
  {
   "cell_type": "code",
   "execution_count": 13,
   "id": "cc414e66-89cb-4068-b628-4698c6fd26cc",
   "metadata": {},
   "outputs": [],
   "source": [
    "b = 1.1"
   ]
  },
  {
   "cell_type": "code",
   "execution_count": 14,
   "id": "253f5986-771b-41d7-970c-c010ca200763",
   "metadata": {},
   "outputs": [
    {
     "data": {
      "text/plain": [
       "1.1"
      ]
     },
     "execution_count": 14,
     "metadata": {},
     "output_type": "execute_result"
    }
   ],
   "source": [
    "b"
   ]
  },
  {
   "cell_type": "code",
   "execution_count": 15,
   "id": "2e4208f2-7bac-4e43-a247-54ca96ebaf56",
   "metadata": {},
   "outputs": [
    {
     "data": {
      "text/plain": [
       "float"
      ]
     },
     "execution_count": 15,
     "metadata": {},
     "output_type": "execute_result"
    }
   ],
   "source": [
    "type(b)"
   ]
  },
  {
   "cell_type": "code",
   "execution_count": 16,
   "id": "fa2c99d7-dfaa-4e96-8d99-a005532b08f4",
   "metadata": {},
   "outputs": [],
   "source": [
    "c = 1-4j"
   ]
  },
  {
   "cell_type": "code",
   "execution_count": 17,
   "id": "99baf014-0074-451f-8938-4e53d037b852",
   "metadata": {},
   "outputs": [
    {
     "data": {
      "text/plain": [
       "(1-4j)"
      ]
     },
     "execution_count": 17,
     "metadata": {},
     "output_type": "execute_result"
    }
   ],
   "source": [
    "c"
   ]
  },
  {
   "cell_type": "code",
   "execution_count": 18,
   "id": "5b69b57f-d6ec-4045-8315-acc500c8e3ce",
   "metadata": {},
   "outputs": [
    {
     "data": {
      "text/plain": [
       "complex"
      ]
     },
     "execution_count": 18,
     "metadata": {},
     "output_type": "execute_result"
    }
   ],
   "source": [
    "type(c)"
   ]
  },
  {
   "cell_type": "code",
   "execution_count": 19,
   "id": "f9599d28-912e-484a-96d3-095b430a5271",
   "metadata": {},
   "outputs": [
    {
     "data": {
      "text/plain": [
       "-4.0"
      ]
     },
     "execution_count": 19,
     "metadata": {},
     "output_type": "execute_result"
    }
   ],
   "source": [
    "c.imag"
   ]
  },
  {
   "cell_type": "code",
   "execution_count": 20,
   "id": "4048b769-2f72-4b46-ab66-f556257688fa",
   "metadata": {},
   "outputs": [
    {
     "data": {
      "text/plain": [
       "1.0"
      ]
     },
     "execution_count": 20,
     "metadata": {},
     "output_type": "execute_result"
    }
   ],
   "source": [
    "c.real"
   ]
  },
  {
   "cell_type": "markdown",
   "id": "67138013-3dbe-47a6-9276-5f5df438aebf",
   "metadata": {},
   "source": [
    "### 1.2 Boolean\n",
    "\n",
    "\n",
    "True, False로 이루어진 타입"
   ]
  },
  {
   "cell_type": "code",
   "execution_count": null,
   "id": "a0d7bb19-62b9-4bdf-858c-8129a4dafd3a",
   "metadata": {},
   "outputs": [],
   "source": []
  },
  {
   "cell_type": "code",
   "execution_count": 21,
   "id": "23e41371-ccb5-4de8-abdc-6d924e10af72",
   "metadata": {},
   "outputs": [],
   "source": [
    "a = True"
   ]
  },
  {
   "cell_type": "code",
   "execution_count": 22,
   "id": "d08f72e0-162c-43d0-8d93-0f1e756c2563",
   "metadata": {},
   "outputs": [
    {
     "data": {
      "text/plain": [
       "bool"
      ]
     },
     "execution_count": 22,
     "metadata": {},
     "output_type": "execute_result"
    }
   ],
   "source": [
    "type(a)"
   ]
  },
  {
   "cell_type": "code",
   "execution_count": 23,
   "id": "72fd85f0-5b08-451c-83b0-e282eef40764",
   "metadata": {},
   "outputs": [],
   "source": [
    "b = False"
   ]
  },
  {
   "cell_type": "code",
   "execution_count": 24,
   "id": "7c3fa8b0-3034-4c0e-9de9-bf1023399b6a",
   "metadata": {},
   "outputs": [
    {
     "data": {
      "text/plain": [
       "bool"
      ]
     },
     "execution_count": 24,
     "metadata": {},
     "output_type": "execute_result"
    }
   ],
   "source": [
    "type(b)"
   ]
  },
  {
   "cell_type": "code",
   "execution_count": 25,
   "id": "8bc52983-73bd-484e-b7ab-c1aea54a2b6a",
   "metadata": {},
   "outputs": [
    {
     "data": {
      "text/plain": [
       "False"
      ]
     },
     "execution_count": 25,
     "metadata": {},
     "output_type": "execute_result"
    }
   ],
   "source": [
    "bool(0)"
   ]
  },
  {
   "cell_type": "code",
   "execution_count": 26,
   "id": "e0fc2ee2-2733-4250-b320-5db9e6d1f125",
   "metadata": {},
   "outputs": [
    {
     "data": {
      "text/plain": [
       "True"
      ]
     },
     "execution_count": 26,
     "metadata": {},
     "output_type": "execute_result"
    }
   ],
   "source": [
    "bool(1)"
   ]
  },
  {
   "cell_type": "code",
   "execution_count": 28,
   "id": "3e92dcda-7a6c-4507-9543-159446242fb8",
   "metadata": {},
   "outputs": [
    {
     "data": {
      "text/plain": [
       "False"
      ]
     },
     "execution_count": 28,
     "metadata": {},
     "output_type": "execute_result"
    }
   ],
   "source": [
    "bool([])"
   ]
  },
  {
   "cell_type": "code",
   "execution_count": 29,
   "id": "d640201a-27d2-422b-9c97-6f5f84586107",
   "metadata": {},
   "outputs": [
    {
     "data": {
      "text/plain": [
       "True"
      ]
     },
     "execution_count": 29,
     "metadata": {},
     "output_type": "execute_result"
    }
   ],
   "source": [
    "bool([1])"
   ]
  },
  {
   "cell_type": "markdown",
   "id": "3ede1a78-02c1-4164-a288-c7ee652cf06b",
   "metadata": {},
   "source": [
    "### 1.3 None"
   ]
  },
  {
   "cell_type": "code",
   "execution_count": 30,
   "id": "4ae9c8a6-5ed9-4656-a901-8b17127b7748",
   "metadata": {},
   "outputs": [],
   "source": [
    "a = None"
   ]
  },
  {
   "cell_type": "code",
   "execution_count": 31,
   "id": "5c6e556a-4146-4742-bb7a-07db618f2729",
   "metadata": {},
   "outputs": [],
   "source": [
    "# 비어있다, 아무 값도 없다"
   ]
  },
  {
   "cell_type": "code",
   "execution_count": 32,
   "id": "9404487e-7549-4d98-8210-b1443761b7f6",
   "metadata": {},
   "outputs": [
    {
     "data": {
      "text/plain": [
       "NoneType"
      ]
     },
     "execution_count": 32,
     "metadata": {},
     "output_type": "execute_result"
    }
   ],
   "source": [
    "type(a)"
   ]
  },
  {
   "cell_type": "markdown",
   "id": "96139b13-a233-4fc9-9216-291d5f61e780",
   "metadata": {},
   "source": [
    "### 1.4 string\n",
    "\n",
    "- 문자열은 `'`, `\"`로 표현\n",
    "- 문자열을 홑따옴표, 쌍따옴표 하나로 통일해서 사용하는 것 권장\n",
    "- = 과 변수 사이에 띄어쓰기 안해도 무방하지만 pep가이드에 따라 띄어쓰는 것이 국룰"
   ]
  },
  {
   "cell_type": "code",
   "execution_count": 33,
   "id": "9257a03a-9b97-4b96-9d5e-3bbae6c2c657",
   "metadata": {},
   "outputs": [],
   "source": [
    "a = 'hello'"
   ]
  },
  {
   "cell_type": "code",
   "execution_count": 34,
   "id": "b9c99027-df43-425f-b552-bc888f4029d8",
   "metadata": {},
   "outputs": [
    {
     "data": {
      "text/plain": [
       "str"
      ]
     },
     "execution_count": 34,
     "metadata": {},
     "output_type": "execute_result"
    }
   ],
   "source": [
    "type(a)"
   ]
  },
  {
   "cell_type": "code",
   "execution_count": 35,
   "id": "2ea3399e-a344-4984-8908-996e5af95c23",
   "metadata": {},
   "outputs": [],
   "source": [
    "b = \"world\""
   ]
  },
  {
   "cell_type": "code",
   "execution_count": 36,
   "id": "b9ba5953-4ee4-4470-b539-28ebea08b628",
   "metadata": {},
   "outputs": [
    {
     "data": {
      "text/plain": [
       "str"
      ]
     },
     "execution_count": 36,
     "metadata": {},
     "output_type": "execute_result"
    }
   ],
   "source": [
    "type(b)"
   ]
  },
  {
   "cell_type": "code",
   "execution_count": 40,
   "id": "dfdf9269-d7a4-4930-9065-ccd768f5c760",
   "metadata": {},
   "outputs": [
    {
     "name": "stdin",
     "output_type": "stream",
     "text": [
      " 134\n"
     ]
    },
    {
     "name": "stdout",
     "output_type": "stream",
     "text": [
      "134\n",
      "<class 'str'>\n"
     ]
    }
   ],
   "source": [
    "age = input()\n",
    "print(age)\n",
    "print(type(age))"
   ]
  },
  {
   "cell_type": "code",
   "execution_count": null,
   "id": "a78e27fd-a823-43f0-8e23-6bb199847552",
   "metadata": {},
   "outputs": [],
   "source": []
  },
  {
   "cell_type": "code",
   "execution_count": 39,
   "id": "c56e2596-3530-4afd-b8e6-d87386556655",
   "metadata": {},
   "outputs": [],
   "source": [
    "# input 데이터는 입력값을 받아서 코드 실행"
   ]
  },
  {
   "cell_type": "code",
   "execution_count": 41,
   "id": "28dbf760-ba67-41bb-9f25-36f7085a5c95",
   "metadata": {},
   "outputs": [
    {
     "ename": "SyntaxError",
     "evalue": "invalid syntax. Perhaps you forgot a comma? (2071357687.py, line 1)",
     "output_type": "error",
     "traceback": [
      "\u001b[1;36m  Cell \u001b[1;32mIn[41], line 1\u001b[1;36m\u001b[0m\n\u001b[1;33m    print('안녕하세요>'진유화'입니다.')\u001b[0m\n\u001b[1;37m          ^\u001b[0m\n\u001b[1;31mSyntaxError\u001b[0m\u001b[1;31m:\u001b[0m invalid syntax. Perhaps you forgot a comma?\n"
     ]
    }
   ],
   "source": [
    "print('안녕하세요>'진유화'입니다.')"
   ]
  },
  {
   "cell_type": "code",
   "execution_count": 42,
   "id": "be03b888-4f3d-4ba2-9123-a1cb30ea180e",
   "metadata": {},
   "outputs": [
    {
     "name": "stdout",
     "output_type": "stream",
     "text": [
      "안녕하세요?'진유화'입니다.\n"
     ]
    }
   ],
   "source": [
    "print(\"안녕하세요?'진유화'입니다.\")"
   ]
  },
  {
   "cell_type": "code",
   "execution_count": 44,
   "id": "e0b4c4d6-840e-48b8-8d1e-922a63838068",
   "metadata": {},
   "outputs": [
    {
     "name": "stdout",
     "output_type": "stream",
     "text": [
      "안녕하세요?'진유화'입니다.\n"
     ]
    }
   ],
   "source": [
    "print('안녕하세요?\\'진유화\\'입니다.')"
   ]
  },
  {
   "cell_type": "code",
   "execution_count": 45,
   "id": "0ef3a54c-d9a7-4c9e-9c75-24c553cad281",
   "metadata": {},
   "outputs": [],
   "source": [
    "#escape 문자열"
   ]
  },
  {
   "cell_type": "code",
   "execution_count": 46,
   "id": "45194c8e-bd85-4c8f-bd26-fa3d35e51761",
   "metadata": {},
   "outputs": [],
   "source": [
    "a = '''\n",
    "여기는 문자열 입니다.\n",
    "엔터를 쳐서 여러줄을 작성할 수 있습니다.\n",
    "'''"
   ]
  },
  {
   "cell_type": "code",
   "execution_count": 47,
   "id": "c822eb69-d1dd-4859-b850-1e0bd641d159",
   "metadata": {},
   "outputs": [
    {
     "name": "stdout",
     "output_type": "stream",
     "text": [
      "\n",
      "여기는 문자열 입니다.\n",
      "엔터를 쳐서 여러줄을 작성할 수 있습니다.\n",
      "\n"
     ]
    }
   ],
   "source": [
    "print(a)"
   ]
  },
  {
   "cell_type": "code",
   "execution_count": 50,
   "id": "5417b2df-07bb-446e-b6b6-9e4f21056ab9",
   "metadata": {},
   "outputs": [
    {
     "name": "stdout",
     "output_type": "stream",
     "text": [
      "엔터를 입력해봐요\n",
      "다음줄입니다.\t 들여쓰기도 가능합니다\n"
     ]
    }
   ],
   "source": [
    "print('엔터를 입력해봐요\\n다음줄입니다.\\t 들여쓰기도 가능합니다')"
   ]
  },
  {
   "cell_type": "code",
   "execution_count": null,
   "id": "41b875c4-6956-4c67-8a8c-b5a7e68d0dda",
   "metadata": {},
   "outputs": [],
   "source": []
  },
  {
   "cell_type": "code",
   "execution_count": 49,
   "id": "2ffcd10d-4fc8-4ac8-a3e7-d7983b5c4d8c",
   "metadata": {},
   "outputs": [],
   "source": [
    "# \\n(백슬래시 엔터)는 줄바꿈\n",
    "# \\t(백슬래시 탭)는 들여쓰기"
   ]
  },
  {
   "cell_type": "code",
   "execution_count": 57,
   "id": "01c2cd2a-3177-417c-9f18-94224e29f02c",
   "metadata": {},
   "outputs": [
    {
     "name": "stdout",
     "output_type": "stream",
     "text": [
      "하나!둘!셋\n"
     ]
    }
   ],
   "source": [
    "print('하나' , '둘' , '셋', sep='!')"
   ]
  },
  {
   "cell_type": "code",
   "execution_count": 60,
   "id": "bbee6afa-c936-4df3-b297-1182965fbd0c",
   "metadata": {},
   "outputs": [
    {
     "name": "stdout",
     "output_type": "stream",
     "text": [
      "하나\t둘\t셋\n"
     ]
    }
   ],
   "source": [
    "print('하나', '둘' , '셋', sep='\\t')"
   ]
  },
  {
   "cell_type": "markdown",
   "id": "876378c7-4c99-4c33-a4b6-12e6e2dc5b91",
   "metadata": {},
   "source": [
    "### string interpolation\n",
    "\n",
    "1. %-formating\n",
    "2. str.format()\n",
    "3. f-string\n",
    "\n",
    ">주로 3번째것만 씀(1,2는 오래된 문법)"
   ]
  },
  {
   "cell_type": "code",
   "execution_count": null,
   "id": "43fec834-cb9c-4dbc-ad31-4314c1611d7c",
   "metadata": {},
   "outputs": [],
   "source": []
  },
  {
   "cell_type": "code",
   "execution_count": 59,
   "id": "cb25d9ab-4df4-4ec8-a0a7-eeb3354e96bc",
   "metadata": {},
   "outputs": [],
   "source": [
    "age = 20"
   ]
  },
  {
   "cell_type": "code",
   "execution_count": 64,
   "id": "5c16faa6-3d57-4591-9b6d-98aa3fa51fe0",
   "metadata": {},
   "outputs": [
    {
     "name": "stdout",
     "output_type": "stream",
     "text": [
      "홍길동은 20살입니다\n",
      "홍길동은 20살입니다\n",
      "홍길동은 20살입니다\n",
      "홍길동은 20살입니다\n",
      "홍길동은 20살입니다\n",
      "홍길동은 20살입니다\n",
      "홍길동은 20살입니다\n"
     ]
    }
   ],
   "source": [
    "print('홍길동은 20살입니다')\n",
    "print('홍길동은 20살입니다')\n",
    "print('홍길동은 20살입니다')\n",
    "print('홍길동은 20살입니다')\n",
    "print('홍길동은 20살입니다')\n",
    "print('홍길동은 20살입니다')\n",
    "print('홍길동은 20살입니다')"
   ]
  },
  {
   "cell_type": "code",
   "execution_count": 65,
   "id": "c9d602c6-7326-48c9-a89e-46a8c8302a2e",
   "metadata": {},
   "outputs": [
    {
     "name": "stdout",
     "output_type": "stream",
     "text": [
      "홍길동은 20 살입니다.\n"
     ]
    }
   ],
   "source": [
    "print('홍길동은 %s 살입니다.' %age)"
   ]
  },
  {
   "cell_type": "code",
   "execution_count": null,
   "id": "6a6fc0d1-22a0-4e24-8da0-08daab251454",
   "metadata": {},
   "outputs": [],
   "source": []
  },
  {
   "cell_type": "code",
   "execution_count": 61,
   "id": "878b8254-86bc-498a-bb70-9a331fdde8ce",
   "metadata": {},
   "outputs": [
    {
     "name": "stdout",
     "output_type": "stream",
     "text": [
      "홍길동은 20살입니다.\n"
     ]
    }
   ],
   "source": [
    "print('홍길동은 {}살입니다.' .format(age))"
   ]
  },
  {
   "cell_type": "code",
   "execution_count": 62,
   "id": "d3a66725-d123-465d-8cc7-0cfaa61ad883",
   "metadata": {},
   "outputs": [
    {
     "name": "stdout",
     "output_type": "stream",
     "text": [
      "홍길동은 20살입니다.\n"
     ]
    }
   ],
   "source": [
    "print(f'홍길동은 {age}살입니다.')"
   ]
  },
  {
   "cell_type": "code",
   "execution_count": 63,
   "id": "f8d07d82-cfb4-47fa-8c19-6f64c35ed618",
   "metadata": {},
   "outputs": [],
   "source": [
    "#이걸 젤 많이 씀, 위에 2개는 읽을 줄만 알도록"
   ]
  },
  {
   "cell_type": "code",
   "execution_count": null,
   "id": "f60cf4d0-fb0f-4791-9b8a-2577f1f26b77",
   "metadata": {},
   "outputs": [],
   "source": []
  },
  {
   "cell_type": "markdown",
   "id": "85e0221d-160c-4101-a029-6f9e490bfc7d",
   "metadata": {},
   "source": [
    "## 2.연산자\n",
    "\n",
    "### 2.1산술 연산자"
   ]
  },
  {
   "cell_type": "code",
   "execution_count": 66,
   "id": "cf38db65-625c-47c0-a738-c76fca853bbd",
   "metadata": {},
   "outputs": [],
   "source": [
    "a = 1\n",
    "b = 2"
   ]
  },
  {
   "cell_type": "code",
   "execution_count": 67,
   "id": "4a7a1a81-0b85-4560-b077-2ba482339d4e",
   "metadata": {},
   "outputs": [
    {
     "name": "stdout",
     "output_type": "stream",
     "text": [
      "3\n",
      "-1\n",
      "2\n",
      "0.5\n",
      "1\n"
     ]
    }
   ],
   "source": [
    "print(a + b)\n",
    "print(a - b)\n",
    "print(a * b)\n",
    "print(a / b)\n",
    "print(a ** b)"
   ]
  },
  {
   "cell_type": "code",
   "execution_count": 68,
   "id": "3cd43c03-8ecd-4c5b-817e-7e6d7f2aa646",
   "metadata": {},
   "outputs": [
    {
     "name": "stdout",
     "output_type": "stream",
     "text": [
      "0\n",
      "1\n",
      "(0, 1)\n"
     ]
    }
   ],
   "source": [
    "print(a // b)\n",
    "# a를 b로 나눈 몫을 출력\n",
    "print(a % b)\n",
    "# a를 b로 나눈 나머지\n",
    "print(divmod(a,b))\n",
    "# a를 b로 나눈 몫, 나머지 출력"
   ]
  },
  {
   "cell_type": "markdown",
   "id": "b7fac112-90c3-4892-b0c4-67dde84cbc8f",
   "metadata": {},
   "source": [
    "### 2.2 비교연산자"
   ]
  },
  {
   "cell_type": "code",
   "execution_count": 69,
   "id": "2edeedaf-20a7-46e0-9f7d-2939114b5f92",
   "metadata": {},
   "outputs": [],
   "source": [
    "a = 5\n",
    "b = 10"
   ]
  },
  {
   "cell_type": "code",
   "execution_count": 71,
   "id": "078e7fa3-fc17-4f2d-be09-43039158bc44",
   "metadata": {},
   "outputs": [
    {
     "name": "stdout",
     "output_type": "stream",
     "text": [
      "False\n",
      "True\n",
      "False\n",
      "True\n"
     ]
    }
   ],
   "source": [
    "print(a > b)\n",
    "print(a < b)\n",
    "print(a >= b)\n",
    "print(a <= b)"
   ]
  },
  {
   "cell_type": "code",
   "execution_count": 72,
   "id": "6cd9ab18-d770-4686-9694-412d46dac809",
   "metadata": {},
   "outputs": [
    {
     "name": "stdout",
     "output_type": "stream",
     "text": [
      "False\n",
      "True\n"
     ]
    }
   ],
   "source": [
    "print(a == b)\n",
    "print(a != b)"
   ]
  },
  {
   "cell_type": "code",
   "execution_count": 73,
   "id": "76e916fa-ee6f-42d3-bf55-bd50907fe971",
   "metadata": {},
   "outputs": [
    {
     "name": "stdout",
     "output_type": "stream",
     "text": [
      "True\n"
     ]
    }
   ],
   "source": [
    "print('hi' == 'hi')"
   ]
  },
  {
   "cell_type": "code",
   "execution_count": 74,
   "id": "aa022a70-ab4f-4402-aba0-b2d629947857",
   "metadata": {},
   "outputs": [
    {
     "name": "stdout",
     "output_type": "stream",
     "text": [
      "False\n"
     ]
    }
   ],
   "source": [
    "print('HI' == 'hi')"
   ]
  },
  {
   "cell_type": "markdown",
   "id": "77cea023-6f49-4190-b393-ca20b382c041",
   "metadata": {},
   "source": [
    "### 2.3 논리연산자\n",
    "\n",
    "- and : 앞 뒤 모두 True일 때, True를 반환\n",
    "하나라도 False라면 False를 반환\n",
    "- or : 양 쪽 모두 False일 때 False를 반환\n",
    "하나라도 True라면 True를 반환\n",
    "- not : "
   ]
  },
  {
   "cell_type": "code",
   "execution_count": 76,
   "id": "475dec5a-b714-475e-b134-64f753d93b65",
   "metadata": {},
   "outputs": [
    {
     "name": "stdout",
     "output_type": "stream",
     "text": [
      "True\n",
      "False\n",
      "False\n"
     ]
    }
   ],
   "source": [
    "print(True and True)\n",
    "print(True and False)\n",
    "print(False and False)"
   ]
  },
  {
   "cell_type": "code",
   "execution_count": 77,
   "id": "63587f08-41db-4561-bf82-905c43908260",
   "metadata": {},
   "outputs": [
    {
     "name": "stdout",
     "output_type": "stream",
     "text": [
      "True\n",
      "True\n",
      "False\n"
     ]
    }
   ],
   "source": [
    "print(True or True)\n",
    "print(True or False)\n",
    "print(False or False)"
   ]
  },
  {
   "cell_type": "code",
   "execution_count": 78,
   "id": "5f9a9c99-819c-433e-aaa1-ca7baf6eff8c",
   "metadata": {},
   "outputs": [
    {
     "name": "stdout",
     "output_type": "stream",
     "text": [
      "True\n",
      "False\n"
     ]
    }
   ],
   "source": [
    "print(True)\n",
    "print(not True)"
   ]
  },
  {
   "cell_type": "code",
   "execution_count": 79,
   "id": "bac25795-fd29-416e-be76-19e2dc6eaf3a",
   "metadata": {},
   "outputs": [
    {
     "name": "stdout",
     "output_type": "stream",
     "text": [
      "5\n",
      "0\n",
      "0\n",
      "0\n"
     ]
    }
   ],
   "source": [
    "# 단축평가\n",
    "print(3 and 5)\n",
    "print(3 and 0)\n",
    "print(0 and 5)\n",
    "print(0 and 0)"
   ]
  },
  {
   "cell_type": "code",
   "execution_count": 80,
   "id": "96793782-c474-4d46-b102-da8da4970b51",
   "metadata": {},
   "outputs": [],
   "source": [
    "# and일 때, 앞에가 True면 그 뒤의 값이 뭐든지 중요하지 않음(그 자체를 출력)\n",
    "# 1 이상의 정수는 True\n",
    "# 앞에가 0(False)이면 뒤의 값이 뭐든간에 0"
   ]
  },
  {
   "cell_type": "code",
   "execution_count": 81,
   "id": "c72dee6e-2118-410b-bd2d-b5edc4d3c116",
   "metadata": {},
   "outputs": [
    {
     "name": "stdout",
     "output_type": "stream",
     "text": [
      "3\n",
      "3\n",
      "5\n",
      "0\n"
     ]
    }
   ],
   "source": [
    "# 단축평가\n",
    "print(3 or 5)\n",
    "print(3 or 0)\n",
    "print(0 or 5)\n",
    "print(0 or 0)"
   ]
  },
  {
   "cell_type": "code",
   "execution_count": null,
   "id": "b175dbb4-de64-4b3b-a074-a7bf147c0a4f",
   "metadata": {},
   "outputs": [],
   "source": [
    "# "
   ]
  },
  {
   "cell_type": "markdown",
   "id": "dada9d60-2b9b-400c-a68b-5299ce1ca30a",
   "metadata": {},
   "source": [
    "### 복합연산자"
   ]
  },
  {
   "cell_type": "code",
   "execution_count": 82,
   "id": "7e938956-5e64-4990-995c-9847ed0924f1",
   "metadata": {},
   "outputs": [],
   "source": [
    "a = 1"
   ]
  },
  {
   "cell_type": "code",
   "execution_count": 83,
   "id": "7111f67c-eeca-44b8-b527-5bba4330a0cd",
   "metadata": {},
   "outputs": [],
   "source": [
    "a = a + 1"
   ]
  },
  {
   "cell_type": "code",
   "execution_count": 84,
   "id": "856e27cf-1823-4b88-b94a-7f0d66b8fc26",
   "metadata": {},
   "outputs": [
    {
     "data": {
      "text/plain": [
       "2"
      ]
     },
     "execution_count": 84,
     "metadata": {},
     "output_type": "execute_result"
    }
   ],
   "source": [
    "a"
   ]
  },
  {
   "cell_type": "code",
   "execution_count": 85,
   "id": "cb137f3d-0f4c-46f4-becf-4cc99e8cdff5",
   "metadata": {},
   "outputs": [
    {
     "data": {
      "text/plain": [
       "2"
      ]
     },
     "execution_count": 85,
     "metadata": {},
     "output_type": "execute_result"
    }
   ],
   "source": [
    "a"
   ]
  },
  {
   "cell_type": "code",
   "execution_count": 86,
   "id": "bf882d67-3791-4270-a5fd-b761171dcd74",
   "metadata": {},
   "outputs": [
    {
     "data": {
      "text/plain": [
       "2"
      ]
     },
     "execution_count": 86,
     "metadata": {},
     "output_type": "execute_result"
    }
   ],
   "source": [
    "a"
   ]
  },
  {
   "cell_type": "code",
   "execution_count": 87,
   "id": "13b03841-82c8-4ac7-b97f-f2c53d04cfa7",
   "metadata": {},
   "outputs": [],
   "source": [
    "a += 1\n",
    "\n",
    "# a에 1을 더하고 다시 할당해주세요"
   ]
  },
  {
   "cell_type": "code",
   "execution_count": 88,
   "id": "73a3c154-6d2c-4161-873f-dcc19391b748",
   "metadata": {},
   "outputs": [
    {
     "data": {
      "text/plain": [
       "3"
      ]
     },
     "execution_count": 88,
     "metadata": {},
     "output_type": "execute_result"
    }
   ],
   "source": [
    "a"
   ]
  },
  {
   "cell_type": "code",
   "execution_count": 89,
   "id": "baa66e57-2ee8-4072-a32e-399be60a3f42",
   "metadata": {},
   "outputs": [],
   "source": [
    "a = 1\n",
    "b = 2"
   ]
  },
  {
   "cell_type": "code",
   "execution_count": 90,
   "id": "f932086a-8adf-4c4c-b2b7-3f00e412f050",
   "metadata": {},
   "outputs": [],
   "source": [
    "a = a + b\n",
    "a = a - b\n",
    "a = a * b\n",
    "a = a / b\n",
    "a = a // b"
   ]
  },
  {
   "cell_type": "code",
   "execution_count": 92,
   "id": "2ca2c969-518c-42bc-aa78-94f8a1509681",
   "metadata": {},
   "outputs": [],
   "source": [
    "a += b\n",
    "a -= b\n",
    "a *=  b\n",
    "a /= b\n",
    "a //= b"
   ]
  },
  {
   "cell_type": "markdown",
   "id": "7ee6b5b7-ae75-43ba-b496-4afe58bc0851",
   "metadata": {},
   "source": [
    "### 2.4 기타연산자"
   ]
  },
  {
   "cell_type": "code",
   "execution_count": 93,
   "id": "b7b9a359-0f2e-49f6-832d-949382541ad1",
   "metadata": {},
   "outputs": [],
   "source": [
    "a = 'hi'\n",
    "b = 'hello'"
   ]
  },
  {
   "cell_type": "code",
   "execution_count": 94,
   "id": "f5a56763-a4fb-42ae-a35e-4933e5b3cc18",
   "metadata": {},
   "outputs": [
    {
     "data": {
      "text/plain": [
       "'hihello'"
      ]
     },
     "execution_count": 94,
     "metadata": {},
     "output_type": "execute_result"
    }
   ],
   "source": [
    "# concatenantion\n",
    "a + b"
   ]
  },
  {
   "cell_type": "code",
   "execution_count": 95,
   "id": "979a6e87-3134-4fc9-b2c5-733bd7b945ec",
   "metadata": {},
   "outputs": [],
   "source": [
    "a = [1, 2, 3]\n",
    "b = [4, 5, 6]"
   ]
  },
  {
   "cell_type": "code",
   "execution_count": 96,
   "id": "a3366013-d12b-4ec4-a45c-324ccff6abf7",
   "metadata": {},
   "outputs": [
    {
     "data": {
      "text/plain": [
       "[1, 2, 3, 4, 5, 6]"
      ]
     },
     "execution_count": 96,
     "metadata": {},
     "output_type": "execute_result"
    }
   ],
   "source": [
    "# concatenantion\n",
    "a + b"
   ]
  },
  {
   "cell_type": "code",
   "execution_count": 97,
   "id": "075ad360-0216-43e3-b406-9c633981ab9c",
   "metadata": {},
   "outputs": [
    {
     "name": "stdout",
     "output_type": "stream",
     "text": [
      "True\n",
      "False\n"
     ]
    }
   ],
   "source": [
    "# concatenant\n",
    "print('a' in 'apple')\n",
    "print('z' in 'apple')"
   ]
  },
  {
   "cell_type": "code",
   "execution_count": 98,
   "id": "ab57ac43-cf84-45d5-8998-e7433f44ba52",
   "metadata": {},
   "outputs": [
    {
     "name": "stdout",
     "output_type": "stream",
     "text": [
      "True\n",
      "False\n"
     ]
    }
   ],
   "source": [
    "print(1 in [1, 2, 3])\n",
    "print(1 in [4, 5, 6])"
   ]
  },
  {
   "cell_type": "code",
   "execution_count": 101,
   "id": "dbfe5d2b-ee2b-496e-abf2-c66c949274b7",
   "metadata": {},
   "outputs": [
    {
     "name": "stdout",
     "output_type": "stream",
     "text": [
      "True\n",
      "140705684972328\n",
      "140705684972328\n"
     ]
    }
   ],
   "source": [
    "# identity is\n",
    "a = 1\n",
    "b = 1\n",
    "print(a is b)\n",
    "print(id(a))\n",
    "print(id(b))"
   ]
  },
  {
   "cell_type": "code",
   "execution_count": null,
   "id": "5dadfaab-fb4e-4d5d-a9b9-0665a04a8161",
   "metadata": {},
   "outputs": [],
   "source": [
    "# -5부터 256까지는 램에 자리 및 주소가 할당이 되어있음"
   ]
  },
  {
   "cell_type": "code",
   "execution_count": 102,
   "id": "6db8f1a4-132f-4f41-bc05-f53dd30c4fa1",
   "metadata": {},
   "outputs": [
    {
     "name": "stdout",
     "output_type": "stream",
     "text": [
      "False\n",
      "1490114918768\n",
      "1490114916400\n"
     ]
    }
   ],
   "source": [
    "# identity\n",
    "a = 123123\n",
    "b = 123123\n",
    "print(a is b)\n",
    "print(id(a))\n",
    "print(id(b))"
   ]
  },
  {
   "cell_type": "code",
   "execution_count": null,
   "id": "3d58ec00-805b-4284-82d8-71d37b32e86e",
   "metadata": {},
   "outputs": [],
   "source": [
    "# 곧 is는 완벽하게 동일한가에 대한 확인"
   ]
  },
  {
   "cell_type": "markdown",
   "id": "678f96e1-38ef-4342-aa0c-0933d0478dde",
   "metadata": {},
   "source": [
    "### 우선순위\n",
    "\n",
    "0. ()를 통해 그룹화된 것\n",
    "1. ** (제곱)\n",
    "2. 산술연산자(*, /)\n",
    "3. 산술연산자(+, -)\n",
    "4. 비교연산자, in, is\n",
    "5. not\n",
    "6. and\n",
    "7. or"
   ]
  },
  {
   "cell_type": "code",
   "execution_count": 105,
   "id": "89318b2a-6830-438b-b66b-cb33c1f638dc",
   "metadata": {},
   "outputs": [
    {
     "name": "stdout",
     "output_type": "stream",
     "text": [
      "-81\n",
      "81\n"
     ]
    }
   ],
   "source": [
    "print(-3 ** 4)\n",
    "print((-3) ** 4)"
   ]
  },
  {
   "cell_type": "markdown",
   "id": "24a48f5c-8a5e-4995-80ea-a600c79158af",
   "metadata": {},
   "source": [
    "## 3. 형변환\n",
    "### 3.1 암시적 형변환(자동으로 모양을 변환해주는 것)\n"
   ]
  },
  {
   "cell_type": "code",
   "execution_count": 108,
   "id": "ae595857-46e0-42f4-a6d2-0b78843191b7",
   "metadata": {},
   "outputs": [],
   "source": [
    "a = True\n",
    "b = 1"
   ]
  },
  {
   "cell_type": "code",
   "execution_count": 109,
   "id": "44deae73-5855-43cc-ba2d-438a7c97d8fd",
   "metadata": {},
   "outputs": [
    {
     "data": {
      "text/plain": [
       "2"
      ]
     },
     "execution_count": 109,
     "metadata": {},
     "output_type": "execute_result"
    }
   ],
   "source": [
    "a + b"
   ]
  },
  {
   "cell_type": "code",
   "execution_count": 110,
   "id": "49016001-c592-4c88-87e2-d737ed79f379",
   "metadata": {},
   "outputs": [],
   "source": [
    "a = True\n",
    "b = False\n",
    "c = 1"
   ]
  },
  {
   "cell_type": "code",
   "execution_count": 111,
   "id": "10c3d2fb-b6f0-4901-97d6-33549db52fcd",
   "metadata": {},
   "outputs": [
    {
     "name": "stdout",
     "output_type": "stream",
     "text": [
      "2\n",
      "1\n"
     ]
    }
   ],
   "source": [
    "print(a + c)\n",
    "print(b + c)"
   ]
  },
  {
   "cell_type": "code",
   "execution_count": 112,
   "id": "0fb9f9e9-ace0-41c1-a2b4-61efb9d09130",
   "metadata": {},
   "outputs": [],
   "source": [
    "int_num = 3\n",
    "float_num = 3.3\n",
    "complex_num = 1 + 3j"
   ]
  },
  {
   "cell_type": "code",
   "execution_count": 113,
   "id": "527f5f7b-c4e1-4110-a6be-55a46c8c0594",
   "metadata": {},
   "outputs": [
    {
     "name": "stdout",
     "output_type": "stream",
     "text": [
      "6.3\n",
      "(4+3j)\n"
     ]
    }
   ],
   "source": [
    "print(int_num + float_num)\n",
    "print(int_num + complex_num)"
   ]
  },
  {
   "cell_type": "markdown",
   "id": "a19a3ebf-d3c3-4de0-a38d-f3ed815a7ac2",
   "metadata": {},
   "source": [
    "### 3.2 명시적 형변환\n",
    "\n",
    "- int() : string, float를 int로 변환\n",
    "- float() : string, int를 float로 변환\n",
    "- str() : int, float를 str으로 변환\n",
    "- bool() : int, list 등을 boolean으로 변환"
   ]
  },
  {
   "cell_type": "code",
   "execution_count": 114,
   "id": "3128718a-544a-4483-9060-6b944e303574",
   "metadata": {},
   "outputs": [],
   "source": [
    "a = 1\n",
    "b = '번'"
   ]
  },
  {
   "cell_type": "code",
   "execution_count": 115,
   "id": "1052e4de-c72a-4d55-994c-4c4b46e786e3",
   "metadata": {},
   "outputs": [
    {
     "ename": "TypeError",
     "evalue": "unsupported operand type(s) for +: 'int' and 'str'",
     "output_type": "error",
     "traceback": [
      "\u001b[1;31m---------------------------------------------------------------------------\u001b[0m",
      "\u001b[1;31mTypeError\u001b[0m                                 Traceback (most recent call last)",
      "Cell \u001b[1;32mIn[115], line 1\u001b[0m\n\u001b[1;32m----> 1\u001b[0m \u001b[38;5;28mprint\u001b[39m(\u001b[43ma\u001b[49m\u001b[43m \u001b[49m\u001b[38;5;241;43m+\u001b[39;49m\u001b[43m \u001b[49m\u001b[43mb\u001b[49m)\n",
      "\u001b[1;31mTypeError\u001b[0m: unsupported operand type(s) for +: 'int' and 'str'"
     ]
    }
   ],
   "source": [
    "print(a + b)"
   ]
  },
  {
   "cell_type": "code",
   "execution_count": 116,
   "id": "8815f7bf-581a-4512-94d7-99bc2c799536",
   "metadata": {},
   "outputs": [
    {
     "name": "stdout",
     "output_type": "stream",
     "text": [
      "1번\n"
     ]
    }
   ],
   "source": [
    "print(str(a) + b)"
   ]
  },
  {
   "cell_type": "code",
   "execution_count": 117,
   "id": "db0cfb74-4fdc-43fb-8ae8-481dc6e8caf9",
   "metadata": {},
   "outputs": [],
   "source": [
    "a = '3'"
   ]
  },
  {
   "cell_type": "code",
   "execution_count": 118,
   "id": "c8de7b85-aea4-4d26-854a-aa8a5c0c13b2",
   "metadata": {},
   "outputs": [
    {
     "data": {
      "text/plain": [
       "3"
      ]
     },
     "execution_count": 118,
     "metadata": {},
     "output_type": "execute_result"
    }
   ],
   "source": [
    "int(a)"
   ]
  },
  {
   "cell_type": "code",
   "execution_count": 119,
   "id": "1c033e8a-16ef-44ad-b4d3-33d2b4a97288",
   "metadata": {},
   "outputs": [
    {
     "data": {
      "text/plain": [
       "int"
      ]
     },
     "execution_count": 119,
     "metadata": {},
     "output_type": "execute_result"
    }
   ],
   "source": [
    "type(int(a))"
   ]
  },
  {
   "cell_type": "code",
   "execution_count": 120,
   "id": "3ac5da97-f0c5-4e57-b436-453051521e1d",
   "metadata": {},
   "outputs": [],
   "source": [
    "b = '3.3'"
   ]
  },
  {
   "cell_type": "code",
   "execution_count": 121,
   "id": "b844508f-4892-4b87-8031-2cba7a2aafae",
   "metadata": {},
   "outputs": [
    {
     "data": {
      "text/plain": [
       "3.3"
      ]
     },
     "execution_count": 121,
     "metadata": {},
     "output_type": "execute_result"
    }
   ],
   "source": [
    "float(b)"
   ]
  },
  {
   "cell_type": "code",
   "execution_count": 122,
   "id": "fb50f18a-eded-4eb8-bf76-4720c50907d0",
   "metadata": {},
   "outputs": [],
   "source": [
    "a = 1\n",
    "b = 0"
   ]
  },
  {
   "cell_type": "code",
   "execution_count": 124,
   "id": "c6b553fd-056a-4b7f-95e8-a4c64cdd8452",
   "metadata": {},
   "outputs": [
    {
     "name": "stdout",
     "output_type": "stream",
     "text": [
      "True\n",
      "False\n"
     ]
    }
   ],
   "source": [
    "print(bool(a))\n",
    "print(bool(b))"
   ]
  },
  {
   "cell_type": "markdown",
   "id": "a0cde764-e5da-4236-93e3-f5ff273d8d26",
   "metadata": {},
   "source": [
    "## 4. 시퀀스(sequence) 자료형]\n",
    "\n",
    "> 시퀀스는 데이터의 순서대로 나열된 자료구조(순서대로 나열되었다는 것은, 정렬된 것과 다르다)\n",
    ">\n",
    "1. list\n",
    "2. tuple\n",
    "3. range\n",
    "4. string\n",
    "\n",
    "### 4.1 List\n",
    "\n",
    "- 선언 : 변수이름 = [value1, value2, value3 ...]\n",
    "- 접근 : 변수이름[index]"
   ]
  },
  {
   "cell_type": "code",
   "execution_count": null,
   "id": "8cccd71b-64d1-4236-8e4d-d99abaf70add",
   "metadata": {},
   "outputs": [],
   "source": []
  },
  {
   "cell_type": "code",
   "execution_count": 125,
   "id": "dc371f3c-2268-47cd-a191-82add89a2575",
   "metadata": {},
   "outputs": [
    {
     "name": "stdout",
     "output_type": "stream",
     "text": [
      "[]\n",
      "<class 'list'>\n"
     ]
    }
   ],
   "source": [
    "l = []\n",
    "print(l)\n",
    "print(type(l))"
   ]
  },
  {
   "cell_type": "code",
   "execution_count": 126,
   "id": "c78eb962-f165-433c-92c2-f9f2422239fb",
   "metadata": {},
   "outputs": [
    {
     "name": "stdout",
     "output_type": "stream",
     "text": [
      "['서울', '대구', '대전']\n",
      "서울\n"
     ]
    }
   ],
   "source": [
    "location = ['서울', '대구', '대전']\n",
    "print(location)\n",
    "print(location[0])"
   ]
  },
  {
   "cell_type": "markdown",
   "id": "846c1f1e-6c5a-4622-b07c-8a74585b7bd7",
   "metadata": {},
   "source": [
    "### 4.2 Tuple\n",
    "- 선언 : 변수이름 = (value1, value2, value3 ...)\n",
    "- 접근 : 변수이름[index]\n",
    "\n",
    "> list와 유사하지만 수정이 불가능하다(immutable)"
   ]
  },
  {
   "cell_type": "code",
   "execution_count": null,
   "id": "423a9ff3-24a1-46e8-97e3-e20b4e47ccb0",
   "metadata": {},
   "outputs": [],
   "source": []
  },
  {
   "cell_type": "code",
   "execution_count": 129,
   "id": "293dea17-0ac1-43b8-b26c-861117346b1b",
   "metadata": {},
   "outputs": [
    {
     "name": "stdout",
     "output_type": "stream",
     "text": [
      "(1, 2, 3)\n",
      "<class 'tuple'>\n",
      "3\n"
     ]
    }
   ],
   "source": [
    "t = (1, 2, 3)\n",
    "print(t)\n",
    "print(type(t))\n",
    "print(t[2])"
   ]
  },
  {
   "cell_type": "code",
   "execution_count": 130,
   "id": "9c418c87-4ad3-4e02-8467-f63080e80935",
   "metadata": {},
   "outputs": [
    {
     "ename": "TypeError",
     "evalue": "'tuple' object does not support item assignment",
     "output_type": "error",
     "traceback": [
      "\u001b[1;31m---------------------------------------------------------------------------\u001b[0m",
      "\u001b[1;31mTypeError\u001b[0m                                 Traceback (most recent call last)",
      "Cell \u001b[1;32mIn[130], line 1\u001b[0m\n\u001b[1;32m----> 1\u001b[0m \u001b[43mt\u001b[49m\u001b[43m[\u001b[49m\u001b[38;5;241;43m2\u001b[39;49m\u001b[43m]\u001b[49m \u001b[38;5;241m=\u001b[39m \u001b[38;5;241m5\u001b[39m\n",
      "\u001b[1;31mTypeError\u001b[0m: 'tuple' object does not support item assignment"
     ]
    }
   ],
   "source": [
    "t[2] = 5"
   ]
  },
  {
   "cell_type": "code",
   "execution_count": 131,
   "id": "59715bf5-df7f-404c-8734-aa27f339a6ca",
   "metadata": {},
   "outputs": [
    {
     "name": "stdout",
     "output_type": "stream",
     "text": [
      "1 2\n",
      "2 1\n"
     ]
    }
   ],
   "source": [
    "x, y = (1, 2)\n",
    "print(x, y)\n",
    "\n",
    "x, y = y, x\n",
    "print(x, y)"
   ]
  },
  {
   "cell_type": "markdown",
   "id": "82d938e2-0380-4dd9-b7dc-894ae1d50cdf",
   "metadata": {},
   "source": [
    "### 4.3 rnage\n",
    "- range(n) : 0부터 n-1까지 범위, 총 n개의 숫자를 가짐\n",
    "- range(n, m) : n부터 m-1까지 범위, m-1개의 숫자를 가짐\n",
    "- range(n, m, s) : n부터 m-1까지 +s만큼 증가하는 범위"
   ]
  },
  {
   "cell_type": "code",
   "execution_count": null,
   "id": "d1765a2e-e0d3-4f50-a911-098e467f7407",
   "metadata": {},
   "outputs": [],
   "source": []
  },
  {
   "cell_type": "code",
   "execution_count": 132,
   "id": "c87a843a-955e-4d4e-9cd6-85eb96912cc6",
   "metadata": {},
   "outputs": [
    {
     "name": "stdout",
     "output_type": "stream",
     "text": [
      "<class 'range'>\n"
     ]
    }
   ],
   "source": [
    "a = range(1)\n",
    "print(type(a))"
   ]
  },
  {
   "cell_type": "code",
   "execution_count": 134,
   "id": "e86507d0-8c11-488a-b2ef-56dea86f8151",
   "metadata": {},
   "outputs": [
    {
     "name": "stdout",
     "output_type": "stream",
     "text": [
      "range(0, 10)\n",
      "[0, 1, 2, 3, 4, 5, 6, 7, 8, 9]\n"
     ]
    }
   ],
   "source": [
    "a = range(10)\n",
    "print(a)\n",
    "print(list(a))"
   ]
  },
  {
   "cell_type": "code",
   "execution_count": 135,
   "id": "9a82d230-b5da-4984-9688-d2f4e19d5e17",
   "metadata": {},
   "outputs": [
    {
     "name": "stdout",
     "output_type": "stream",
     "text": [
      "[5, 6, 7, 8, 9, 10, 11, 12, 13, 14]\n"
     ]
    }
   ],
   "source": [
    "a = range(5, 15)\n",
    "print(list(a))"
   ]
  },
  {
   "cell_type": "code",
   "execution_count": 136,
   "id": "0fbb5eb5-e3dc-44bc-98d5-8787e2efaca1",
   "metadata": {},
   "outputs": [
    {
     "name": "stdout",
     "output_type": "stream",
     "text": [
      "[1, 3, 5, 7, 9]\n"
     ]
    }
   ],
   "source": [
    "a = range(1, 10, 2)\n",
    "print(list(a))"
   ]
  },
  {
   "cell_type": "code",
   "execution_count": 137,
   "id": "283aedc6-2e3d-4cbc-b543-58aebf5bf199",
   "metadata": {},
   "outputs": [
    {
     "name": "stdout",
     "output_type": "stream",
     "text": [
      "[-1, -2, -3, -4, -5, -6, -7, -8, -9]\n"
     ]
    }
   ],
   "source": [
    "a = range(-1, -10, -1)\n",
    "print(list(a))"
   ]
  },
  {
   "cell_type": "markdown",
   "id": "5f47c4ee-9bc9-466f-a96a-6e20af12dbaf",
   "metadata": {},
   "source": [
    "### 4.4 String\n",
    "> 기본 데이터 구조 참고"
   ]
  },
  {
   "cell_type": "markdown",
   "id": "781500a7-15e8-4cb7-9017-bb7dc2c3470a",
   "metadata": {},
   "source": [
    "### 4.5 시퀀스에서 활용 가능한 연산/함수"
   ]
  },
  {
   "cell_type": "code",
   "execution_count": 141,
   "id": "6c2160a2-1888-4da7-8b15-ad1d7eb5a3f2",
   "metadata": {},
   "outputs": [],
   "source": [
    "my_list = [1, 2, 3, 4, 5]\n",
    "my_tuple = (1, 2, 3, 4, 5)\n",
    "my_range = range(1, 100)\n",
    "my_string = '12345'"
   ]
  },
  {
   "cell_type": "code",
   "execution_count": 139,
   "id": "ad5a1a67-ebf9-477a-a523-af56a77950d9",
   "metadata": {},
   "outputs": [
    {
     "name": "stdout",
     "output_type": "stream",
     "text": [
      "2\n",
      "2\n",
      "2\n",
      "2\n"
     ]
    }
   ],
   "source": [
    "print(my_list[1])\n",
    "print(my_tuple[1])\n",
    "print(my_range[1])\n",
    "print(my_string[1])"
   ]
  },
  {
   "cell_type": "code",
   "execution_count": 140,
   "id": "6ceb6469-795f-4892-9297-d4e4052cbae2",
   "metadata": {},
   "outputs": [
    {
     "name": "stdout",
     "output_type": "stream",
     "text": [
      "[2, 3]\n",
      "(2, 3)\n",
      "range(2, 4)\n",
      "23\n"
     ]
    }
   ],
   "source": [
    "#slicing\n",
    "print(my_list[1:3])\n",
    "print(my_tuple[1:3])\n",
    "print(my_range[1:3])\n",
    "print(my_string[1:3])"
   ]
  },
  {
   "cell_type": "code",
   "execution_count": 144,
   "id": "9d9e4b63-f844-43d4-b0ab-3872cd33886a",
   "metadata": {},
   "outputs": [
    {
     "data": {
      "text/plain": [
       "range(3, 51, 2)"
      ]
     },
     "execution_count": 144,
     "metadata": {},
     "output_type": "execute_result"
    }
   ],
   "source": [
    "#slicing (k간격으로)\n",
    "my_range[2:50:2]\n"
   ]
  },
  {
   "cell_type": "code",
   "execution_count": 145,
   "id": "744c621d-22fb-4106-9a3e-cc50ffa61445",
   "metadata": {},
   "outputs": [
    {
     "data": {
      "text/plain": [
       "[3, 5]"
      ]
     },
     "execution_count": 145,
     "metadata": {},
     "output_type": "execute_result"
    }
   ],
   "source": [
    "list(my_range[2:6:2])"
   ]
  },
  {
   "cell_type": "code",
   "execution_count": 146,
   "id": "8bae864c-1cbd-4938-87ef-27d94a74d5b0",
   "metadata": {},
   "outputs": [
    {
     "name": "stdout",
     "output_type": "stream",
     "text": [
      "True\n",
      "True\n",
      "True\n",
      "True\n"
     ]
    }
   ],
   "source": [
    "print(1 in my_list)\n",
    "print(1 in my_tuple)\n",
    "print(1 in my_range)\n",
    "print('1' in my_string)"
   ]
  },
  {
   "cell_type": "code",
   "execution_count": 147,
   "id": "8e2ff96f-c721-437d-9621-d4a07514de7d",
   "metadata": {},
   "outputs": [
    {
     "name": "stdout",
     "output_type": "stream",
     "text": [
      "False\n",
      "False\n",
      "False\n",
      "False\n"
     ]
    }
   ],
   "source": [
    "print(1 not in my_list)\n",
    "print(1 not in my_tuple)\n",
    "print(1 not in my_range)\n",
    "print('1' not in my_string)"
   ]
  },
  {
   "cell_type": "code",
   "execution_count": 148,
   "id": "9ad0d238-94d1-4ecf-baf0-5a92c523d214",
   "metadata": {},
   "outputs": [
    {
     "name": "stdout",
     "output_type": "stream",
     "text": [
      "[1, 2, 3, 4, 5, 1, 2, 3]\n"
     ]
    }
   ],
   "source": [
    "# concatenation\n",
    "print(my_list + [1, 2, 3])"
   ]
  },
  {
   "cell_type": "code",
   "execution_count": 149,
   "id": "05ff23c9-b901-4e81-ac81-5ac87f4f1cad",
   "metadata": {},
   "outputs": [
    {
     "name": "stdout",
     "output_type": "stream",
     "text": [
      "[0, 0, 0, 0, 0, 0, 0, 0, 0, 0]\n",
      "[[0, 0, 0, 0, 0, 0, 0, 0, 0, 0], [0, 0, 0, 0, 0, 0, 0, 0, 0, 0], [0, 0, 0, 0, 0, 0, 0, 0, 0, 0], [0, 0, 0, 0, 0, 0, 0, 0, 0, 0], [0, 0, 0, 0, 0, 0, 0, 0, 0, 0], [0, 0, 0, 0, 0, 0, 0, 0, 0, 0], [0, 0, 0, 0, 0, 0, 0, 0, 0, 0], [0, 0, 0, 0, 0, 0, 0, 0, 0, 0], [0, 0, 0, 0, 0, 0, 0, 0, 0, 0], [0, 0, 0, 0, 0, 0, 0, 0, 0, 0]]\n"
     ]
    }
   ],
   "source": [
    "# *\n",
    "print([0] * 10)\n",
    "print([[0] *10] * 10)"
   ]
  },
  {
   "cell_type": "code",
   "execution_count": 152,
   "id": "33029fc8-feb8-429c-9983-833cd9d1e1b5",
   "metadata": {},
   "outputs": [
    {
     "name": "stdout",
     "output_type": "stream",
     "text": [
      "5\n",
      "1\n",
      "5\n"
     ]
    }
   ],
   "source": [
    "print(len(my_list))\n",
    "print(min(my_list))\n",
    "print(max(my_list))"
   ]
  },
  {
   "cell_type": "code",
   "execution_count": 153,
   "id": "dd4986f7-b239-4293-a767-00fabd939162",
   "metadata": {},
   "outputs": [
    {
     "data": {
      "text/plain": [
       "1"
      ]
     },
     "execution_count": 153,
     "metadata": {},
     "output_type": "execute_result"
    }
   ],
   "source": [
    "my_list.count(1)"
   ]
  },
  {
   "cell_type": "markdown",
   "id": "5cd19136-b37b-49e1-8b01-2b23acb526d1",
   "metadata": {},
   "source": [
    "## 5.시퀀스 데이터가 아닌 자료구조\n",
    "\n",
    "### 5.1 set\n",
    "> 수학에서 사용하는 집합과 동일하게 처리 (중복된 값이 없음)\n",
    "- 선언 : 변수이름 = {value1, value2, value3 ...}\n",
    "- \n"
   ]
  },
  {
   "cell_type": "code",
   "execution_count": null,
   "id": "b233611b-aedf-44f8-b40b-90badec78527",
   "metadata": {},
   "outputs": [],
   "source": []
  },
  {
   "cell_type": "code",
   "execution_count": 154,
   "id": "402f6927-6db6-47cd-a3fb-0d7ef6433314",
   "metadata": {},
   "outputs": [],
   "source": [
    "my_set_a = {1, 2, 3, 4, 5}\n",
    "my_set_b = {3, 4, 5, 6, 7}"
   ]
  },
  {
   "cell_type": "code",
   "execution_count": 155,
   "id": "fe0adba4-f54b-4595-8371-f1c139ee7696",
   "metadata": {},
   "outputs": [
    {
     "name": "stdout",
     "output_type": "stream",
     "text": [
      "{1, 2}\n",
      "{1, 2, 3, 4, 5, 6, 7}\n",
      "{3, 4, 5}\n"
     ]
    }
   ],
   "source": [
    "print(my_set_a - my_set_b)\n",
    "print(my_set_a | my_set_b)\n",
    "print(my_set_a & my_set_b)"
   ]
  },
  {
   "cell_type": "code",
   "execution_count": 158,
   "id": "689aa9b4-a11b-4537-8fad-b542641dc0f3",
   "metadata": {},
   "outputs": [
    {
     "name": "stdout",
     "output_type": "stream",
     "text": [
      "{1, 2, 3, 4, 5}\n",
      "[1, 2, 3, 4, 5]\n"
     ]
    }
   ],
   "source": [
    "my_list = [1, 1, 1, 1, 1, 1, 2, 2, 2, 4, 5, 3, 3]\n",
    "print(set(my_list))\n",
    "print(list(set(my_list)))"
   ]
  },
  {
   "cell_type": "markdown",
   "id": "7207e45d-ce74-4e3e-bc4e-68a636b26868",
   "metadata": {},
   "source": [
    "### 5.2 Dictionary\n",
    "- dictionary는 key와 value가 쌍으로 이루어져있다\n",
    "- key에는 immutable한 모든 것을 사용 가능(불변값: string, integer ...등등)\n",
    "- value에는 모든 데이터 가능(list, dictionary도 가능)\n",
    "- 선언 : 변수이름 = {key1: value1, key2: value2, ...}\n",
    "- 접근 : 변수이름[key]\n",
    "  > 주의** key1과 콜론(:)은 붙이고, value와는 띄움"
   ]
  },
  {
   "cell_type": "code",
   "execution_count": 163,
   "id": "00b894aa-bc40-4d7f-b00b-20fc233abc0b",
   "metadata": {},
   "outputs": [
    {
     "name": "stdout",
     "output_type": "stream",
     "text": [
      "{'서울': '02', '경기': '031'}\n"
     ]
    }
   ],
   "source": [
    "my_dict = {'서울': '02','경기': '031'}\n",
    "print(my_dict)"
   ]
  },
  {
   "cell_type": "code",
   "execution_count": null,
   "id": "e7286c23-88aa-4287-8e75-5bcb7e4b8c08",
   "metadata": {},
   "outputs": [],
   "source": [
    "dict_a"
   ]
  },
  {
   "cell_type": "code",
   "execution_count": null,
   "id": "8873bcc5-53f0-4070-84e7-bc56e36004e7",
   "metadata": {},
   "outputs": [],
   "source": []
  },
  {
   "cell_type": "markdown",
   "id": "372cf81b-bb8c-430d-b3f8-ce312610c00b",
   "metadata": {},
   "source": [
    "# 총 정리\n",
    "\n",
    "## 데이터 타입\n",
    "  1. Number\n",
    "  2. Boolean\n",
    "  3. String\n",
    " \n",
    "## 자료구조\n",
    "- 시퀀스 자료형\n",
    "  1. [List] : mutable\n",
    "  2. (Tuple) : immutable\n",
    "  3. range() : immutable\n",
    "  4. 'string' : immutable\n",
    " \n",
    "- 시퀀스가 아닌 자료형\n",
    "  1. {Set} : mutable\n",
    "  2. {Dictionary}: mutable"
   ]
  },
  {
   "cell_type": "code",
   "execution_count": null,
   "id": "5d7fcabf-b700-4776-9713-07894aa9c169",
   "metadata": {},
   "outputs": [],
   "source": []
  },
  {
   "cell_type": "code",
   "execution_count": null,
   "id": "d881e645-547d-4d66-bf23-7230d7331981",
   "metadata": {},
   "outputs": [],
   "source": []
  },
  {
   "cell_type": "code",
   "execution_count": null,
   "id": "a0d1fbdf-1a6e-4cef-9ca2-0287996d1fac",
   "metadata": {},
   "outputs": [],
   "source": []
  },
  {
   "cell_type": "code",
   "execution_count": null,
   "id": "f5620c82-0903-4ee0-a406-1ded8d86a306",
   "metadata": {},
   "outputs": [],
   "source": []
  },
  {
   "cell_type": "code",
   "execution_count": null,
   "id": "fbecedce-0a02-443d-a111-3880c02cfb12",
   "metadata": {},
   "outputs": [],
   "source": []
  },
  {
   "cell_type": "code",
   "execution_count": null,
   "id": "904e349b-c941-4019-8d42-e77c5e1e1320",
   "metadata": {},
   "outputs": [],
   "source": []
  },
  {
   "cell_type": "code",
   "execution_count": null,
   "id": "2a9af5ce-129d-416a-b533-59036825cf28",
   "metadata": {},
   "outputs": [],
   "source": []
  },
  {
   "cell_type": "code",
   "execution_count": null,
   "id": "a91afff4-ccc0-4e36-bd8d-ee32ad0e6b7d",
   "metadata": {},
   "outputs": [],
   "source": []
  },
  {
   "cell_type": "code",
   "execution_count": null,
   "id": "1feefe32-e2f9-467a-a556-a249493ded16",
   "metadata": {},
   "outputs": [],
   "source": []
  },
  {
   "cell_type": "code",
   "execution_count": null,
   "id": "352e949b-a9a8-4d33-8c0f-70ea94fe9d07",
   "metadata": {},
   "outputs": [],
   "source": []
  },
  {
   "cell_type": "code",
   "execution_count": null,
   "id": "2d181447-9d69-4624-8843-901521693670",
   "metadata": {},
   "outputs": [],
   "source": []
  }
 ],
 "metadata": {
  "kernelspec": {
   "display_name": "Python 3 (ipykernel)",
   "language": "python",
   "name": "python3"
  },
  "language_info": {
   "codemirror_mode": {
    "name": "ipython",
    "version": 3
   },
   "file_extension": ".py",
   "mimetype": "text/x-python",
   "name": "python",
   "nbconvert_exporter": "python",
   "pygments_lexer": "ipython3",
   "version": "3.11.1"
  }
 },
 "nbformat": 4,
 "nbformat_minor": 5
}
