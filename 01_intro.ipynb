{
 "cells": [
  {
   "cell_type": "markdown",
   "id": "437d2226-f251-47e9-ab40-7643b07ba494",
   "metadata": {
    "jp-MarkdownHeadingCollapsed": true
   },
   "source": [
    "# 01. intro\n",
    "\n",
    "## 단축키\n",
    "\n",
    "- cntl + enter: 지금 셀 실행\n",
    "- shift + enter: 지금 셀 실행하면서 & 아래로 이동\n",
    "- alt + enter: 지금 셀 실행하면서 & 아래에 새로운 셀 추가\n",
    "\n",
    "## 주의사항\n",
    "\n",
    "1. Apple / apple 은 다르다 (대소문자 구분 잘 해!)\n",
    "2. git add . / git add. 은 다르다(띄어쓰기 잘 해!)\n",
    "3. message / massage 는 다르다(오탈자 주의!)"
   ]
  },
  {
   "cell_type": "code",
   "execution_count": 5,
   "id": "8860b684-269a-4b7b-a110-4004631c64ec",
   "metadata": {},
   "outputs": [],
   "source": [
    "# 주석을 나타냅니다"
   ]
  },
  {
   "cell_type": "markdown",
   "id": "73446a5b-7c27-4969-9a21-79c07b199a59",
   "metadata": {},
   "source": [
    "# 1. 변수\n",
    "\n",
    "변수이름 = 값\n",
    "(변수는 하나의 상자)\n",
    "- 변수 이름은 어떤 이름이든 상관 없음\n",
    "- 다만 영어, 숫자, _를 이용하여 선언\n",
    "- 키워드는 사용 불가"
   ]
  },
  {
   "cell_type": "code",
   "execution_count": 6,
   "id": "656523b3-5f66-4677-afb9-2a0ff1a96b6e",
   "metadata": {},
   "outputs": [],
   "source": [
    "a = 10"
   ]
  },
  {
   "cell_type": "code",
   "execution_count": 7,
   "id": "40ba1689-e977-4875-886e-f44dbebcceaf",
   "metadata": {},
   "outputs": [
    {
     "data": {
      "text/plain": [
       "10"
      ]
     },
     "execution_count": 7,
     "metadata": {},
     "output_type": "execute_result"
    }
   ],
   "source": [
    "a"
   ]
  },
  {
   "cell_type": "code",
   "execution_count": 9,
   "id": "b3f58db5-70c6-4478-bdde-d3bc5d9749c4",
   "metadata": {},
   "outputs": [
    {
     "data": {
      "text/plain": [
       "['False',\n",
       " 'None',\n",
       " 'True',\n",
       " 'and',\n",
       " 'as',\n",
       " 'assert',\n",
       " 'async',\n",
       " 'await',\n",
       " 'break',\n",
       " 'class',\n",
       " 'continue',\n",
       " 'def',\n",
       " 'del',\n",
       " 'elif',\n",
       " 'else',\n",
       " 'except',\n",
       " 'finally',\n",
       " 'for',\n",
       " 'from',\n",
       " 'global',\n",
       " 'if',\n",
       " 'import',\n",
       " 'in',\n",
       " 'is',\n",
       " 'lambda',\n",
       " 'nonlocal',\n",
       " 'not',\n",
       " 'or',\n",
       " 'pass',\n",
       " 'raise',\n",
       " 'return',\n",
       " 'try',\n",
       " 'while',\n",
       " 'with',\n",
       " 'yield']"
      ]
     },
     "execution_count": 9,
     "metadata": {},
     "output_type": "execute_result"
    }
   ],
   "source": [
    "import keyword\n",
    "keyword.kwlist"
   ]
  },
  {
   "cell_type": "markdown",
   "id": "75e6b786-accd-4c12-9f0b-82d6b43598db",
   "metadata": {},
   "source": [
    "## 1.1 number"
   ]
  },
  {
   "cell_type": "code",
   "execution_count": 10,
   "id": "4b2bb191-6430-4c42-93e3-059181d94af1",
   "metadata": {},
   "outputs": [],
   "source": [
    "a = 100000"
   ]
  },
  {
   "cell_type": "code",
   "execution_count": 11,
   "id": "2bf5a8db-99f0-4fa5-b494-db2a768c0aa2",
   "metadata": {},
   "outputs": [
    {
     "data": {
      "text/plain": [
       "100000"
      ]
     },
     "execution_count": 11,
     "metadata": {},
     "output_type": "execute_result"
    }
   ],
   "source": [
    "a"
   ]
  },
  {
   "cell_type": "code",
   "execution_count": 12,
   "id": "363bf9c0-d282-45d1-be75-a45b2b886e96",
   "metadata": {},
   "outputs": [
    {
     "data": {
      "text/plain": [
       "int"
      ]
     },
     "execution_count": 12,
     "metadata": {},
     "output_type": "execute_result"
    }
   ],
   "source": [
    "type(a)"
   ]
  },
  {
   "cell_type": "code",
   "execution_count": 13,
   "id": "cc414e66-89cb-4068-b628-4698c6fd26cc",
   "metadata": {},
   "outputs": [],
   "source": [
    "b = 1.1"
   ]
  },
  {
   "cell_type": "code",
   "execution_count": 14,
   "id": "253f5986-771b-41d7-970c-c010ca200763",
   "metadata": {},
   "outputs": [
    {
     "data": {
      "text/plain": [
       "1.1"
      ]
     },
     "execution_count": 14,
     "metadata": {},
     "output_type": "execute_result"
    }
   ],
   "source": [
    "b"
   ]
  },
  {
   "cell_type": "code",
   "execution_count": 15,
   "id": "2e4208f2-7bac-4e43-a247-54ca96ebaf56",
   "metadata": {},
   "outputs": [
    {
     "data": {
      "text/plain": [
       "float"
      ]
     },
     "execution_count": 15,
     "metadata": {},
     "output_type": "execute_result"
    }
   ],
   "source": [
    "type(b)"
   ]
  },
  {
   "cell_type": "code",
   "execution_count": 16,
   "id": "fa2c99d7-dfaa-4e96-8d99-a005532b08f4",
   "metadata": {},
   "outputs": [],
   "source": [
    "c = 1-4j"
   ]
  },
  {
   "cell_type": "code",
   "execution_count": 17,
   "id": "99baf014-0074-451f-8938-4e53d037b852",
   "metadata": {},
   "outputs": [
    {
     "data": {
      "text/plain": [
       "(1-4j)"
      ]
     },
     "execution_count": 17,
     "metadata": {},
     "output_type": "execute_result"
    }
   ],
   "source": [
    "c"
   ]
  },
  {
   "cell_type": "code",
   "execution_count": 18,
   "id": "5b69b57f-d6ec-4045-8315-acc500c8e3ce",
   "metadata": {},
   "outputs": [
    {
     "data": {
      "text/plain": [
       "complex"
      ]
     },
     "execution_count": 18,
     "metadata": {},
     "output_type": "execute_result"
    }
   ],
   "source": [
    "type(c)"
   ]
  },
  {
   "cell_type": "code",
   "execution_count": 19,
   "id": "f9599d28-912e-484a-96d3-095b430a5271",
   "metadata": {},
   "outputs": [
    {
     "data": {
      "text/plain": [
       "-4.0"
      ]
     },
     "execution_count": 19,
     "metadata": {},
     "output_type": "execute_result"
    }
   ],
   "source": [
    "c.imag"
   ]
  },
  {
   "cell_type": "code",
   "execution_count": 20,
   "id": "4048b769-2f72-4b46-ab66-f556257688fa",
   "metadata": {},
   "outputs": [
    {
     "data": {
      "text/plain": [
       "1.0"
      ]
     },
     "execution_count": 20,
     "metadata": {},
     "output_type": "execute_result"
    }
   ],
   "source": [
    "c.real"
   ]
  },
  {
   "cell_type": "markdown",
   "id": "67138013-3dbe-47a6-9276-5f5df438aebf",
   "metadata": {},
   "source": [
    "### 1.2 Boolean\n",
    "\n",
    "\n",
    "True, False로 이루어진 타입"
   ]
  },
  {
   "cell_type": "code",
   "execution_count": null,
   "id": "a0d7bb19-62b9-4bdf-858c-8129a4dafd3a",
   "metadata": {},
   "outputs": [],
   "source": []
  },
  {
   "cell_type": "code",
   "execution_count": 21,
   "id": "23e41371-ccb5-4de8-abdc-6d924e10af72",
   "metadata": {},
   "outputs": [],
   "source": [
    "a = True"
   ]
  },
  {
   "cell_type": "code",
   "execution_count": 22,
   "id": "d08f72e0-162c-43d0-8d93-0f1e756c2563",
   "metadata": {},
   "outputs": [
    {
     "data": {
      "text/plain": [
       "bool"
      ]
     },
     "execution_count": 22,
     "metadata": {},
     "output_type": "execute_result"
    }
   ],
   "source": [
    "type(a)"
   ]
  },
  {
   "cell_type": "code",
   "execution_count": 23,
   "id": "72fd85f0-5b08-451c-83b0-e282eef40764",
   "metadata": {},
   "outputs": [],
   "source": [
    "b = False"
   ]
  },
  {
   "cell_type": "code",
   "execution_count": 24,
   "id": "7c3fa8b0-3034-4c0e-9de9-bf1023399b6a",
   "metadata": {},
   "outputs": [
    {
     "data": {
      "text/plain": [
       "bool"
      ]
     },
     "execution_count": 24,
     "metadata": {},
     "output_type": "execute_result"
    }
   ],
   "source": [
    "type(b)"
   ]
  },
  {
   "cell_type": "code",
   "execution_count": 25,
   "id": "8bc52983-73bd-484e-b7ab-c1aea54a2b6a",
   "metadata": {},
   "outputs": [
    {
     "data": {
      "text/plain": [
       "False"
      ]
     },
     "execution_count": 25,
     "metadata": {},
     "output_type": "execute_result"
    }
   ],
   "source": [
    "bool(0)"
   ]
  },
  {
   "cell_type": "code",
   "execution_count": 26,
   "id": "e0fc2ee2-2733-4250-b320-5db9e6d1f125",
   "metadata": {},
   "outputs": [
    {
     "data": {
      "text/plain": [
       "True"
      ]
     },
     "execution_count": 26,
     "metadata": {},
     "output_type": "execute_result"
    }
   ],
   "source": [
    "bool(1)"
   ]
  },
  {
   "cell_type": "code",
   "execution_count": 28,
   "id": "3e92dcda-7a6c-4507-9543-159446242fb8",
   "metadata": {},
   "outputs": [
    {
     "data": {
      "text/plain": [
       "False"
      ]
     },
     "execution_count": 28,
     "metadata": {},
     "output_type": "execute_result"
    }
   ],
   "source": [
    "bool([])"
   ]
  },
  {
   "cell_type": "code",
   "execution_count": 29,
   "id": "d640201a-27d2-422b-9c97-6f5f84586107",
   "metadata": {},
   "outputs": [
    {
     "data": {
      "text/plain": [
       "True"
      ]
     },
     "execution_count": 29,
     "metadata": {},
     "output_type": "execute_result"
    }
   ],
   "source": [
    "bool([1])"
   ]
  },
  {
   "cell_type": "markdown",
   "id": "3ede1a78-02c1-4164-a288-c7ee652cf06b",
   "metadata": {},
   "source": [
    "### 1.3 None"
   ]
  },
  {
   "cell_type": "code",
   "execution_count": 30,
   "id": "4ae9c8a6-5ed9-4656-a901-8b17127b7748",
   "metadata": {},
   "outputs": [],
   "source": [
    "a = None"
   ]
  },
  {
   "cell_type": "code",
   "execution_count": 31,
   "id": "5c6e556a-4146-4742-bb7a-07db618f2729",
   "metadata": {},
   "outputs": [],
   "source": [
    "# 비어있다, 아무 값도 없다"
   ]
  },
  {
   "cell_type": "code",
   "execution_count": 32,
   "id": "9404487e-7549-4d98-8210-b1443761b7f6",
   "metadata": {},
   "outputs": [
    {
     "data": {
      "text/plain": [
       "NoneType"
      ]
     },
     "execution_count": 32,
     "metadata": {},
     "output_type": "execute_result"
    }
   ],
   "source": [
    "type(a)"
   ]
  },
  {
   "cell_type": "markdown",
   "id": "96139b13-a233-4fc9-9216-291d5f61e780",
   "metadata": {},
   "source": [
    "### 1.4 string\n",
    "\n",
    "- 문자열은 `'`, `\"`로 표현\n",
    "- 문자열을 홑따옴표, 쌍따옴표 하나로 통일해서 사용하는 것 권장\n",
    "- = 과 변수 사이에 띄어쓰기 안해도 무방하지만 pep가이드에 따라 띄어쓰는 것이 국룰"
   ]
  },
  {
   "cell_type": "code",
   "execution_count": 33,
   "id": "9257a03a-9b97-4b96-9d5e-3bbae6c2c657",
   "metadata": {},
   "outputs": [],
   "source": [
    "a = 'hello'"
   ]
  },
  {
   "cell_type": "code",
   "execution_count": 34,
   "id": "b9c99027-df43-425f-b552-bc888f4029d8",
   "metadata": {},
   "outputs": [
    {
     "data": {
      "text/plain": [
       "str"
      ]
     },
     "execution_count": 34,
     "metadata": {},
     "output_type": "execute_result"
    }
   ],
   "source": [
    "type(a)"
   ]
  },
  {
   "cell_type": "code",
   "execution_count": 35,
   "id": "2ea3399e-a344-4984-8908-996e5af95c23",
   "metadata": {},
   "outputs": [],
   "source": [
    "b = \"world\""
   ]
  },
  {
   "cell_type": "code",
   "execution_count": 36,
   "id": "b9ba5953-4ee4-4470-b539-28ebea08b628",
   "metadata": {},
   "outputs": [
    {
     "data": {
      "text/plain": [
       "str"
      ]
     },
     "execution_count": 36,
     "metadata": {},
     "output_type": "execute_result"
    }
   ],
   "source": [
    "type(b)"
   ]
  },
  {
   "cell_type": "code",
   "execution_count": 40,
   "id": "dfdf9269-d7a4-4930-9065-ccd768f5c760",
   "metadata": {},
   "outputs": [
    {
     "name": "stdin",
     "output_type": "stream",
     "text": [
      " 134\n"
     ]
    },
    {
     "name": "stdout",
     "output_type": "stream",
     "text": [
      "134\n",
      "<class 'str'>\n"
     ]
    }
   ],
   "source": [
    "age = input()\n",
    "print(age)\n",
    "print(type(age))"
   ]
  },
  {
   "cell_type": "code",
   "execution_count": null,
   "id": "a78e27fd-a823-43f0-8e23-6bb199847552",
   "metadata": {},
   "outputs": [],
   "source": []
  },
  {
   "cell_type": "code",
   "execution_count": 39,
   "id": "c56e2596-3530-4afd-b8e6-d87386556655",
   "metadata": {},
   "outputs": [],
   "source": [
    "# input 데이터는 입력값을 받아서 코드 실행"
   ]
  },
  {
   "cell_type": "code",
   "execution_count": 41,
   "id": "28dbf760-ba67-41bb-9f25-36f7085a5c95",
   "metadata": {},
   "outputs": [
    {
     "ename": "SyntaxError",
     "evalue": "invalid syntax. Perhaps you forgot a comma? (2071357687.py, line 1)",
     "output_type": "error",
     "traceback": [
      "\u001b[1;36m  Cell \u001b[1;32mIn[41], line 1\u001b[1;36m\u001b[0m\n\u001b[1;33m    print('안녕하세요>'진유화'입니다.')\u001b[0m\n\u001b[1;37m          ^\u001b[0m\n\u001b[1;31mSyntaxError\u001b[0m\u001b[1;31m:\u001b[0m invalid syntax. Perhaps you forgot a comma?\n"
     ]
    }
   ],
   "source": [
    "print('안녕하세요>'진유화'입니다.')"
   ]
  },
  {
   "cell_type": "code",
   "execution_count": 42,
   "id": "be03b888-4f3d-4ba2-9123-a1cb30ea180e",
   "metadata": {},
   "outputs": [
    {
     "name": "stdout",
     "output_type": "stream",
     "text": [
      "안녕하세요?'진유화'입니다.\n"
     ]
    }
   ],
   "source": [
    "print(\"안녕하세요?'진유화'입니다.\")"
   ]
  },
  {
   "cell_type": "code",
   "execution_count": 44,
   "id": "e0b4c4d6-840e-48b8-8d1e-922a63838068",
   "metadata": {},
   "outputs": [
    {
     "name": "stdout",
     "output_type": "stream",
     "text": [
      "안녕하세요?'진유화'입니다.\n"
     ]
    }
   ],
   "source": [
    "print('안녕하세요?\\'진유화\\'입니다.')"
   ]
  },
  {
   "cell_type": "code",
   "execution_count": 45,
   "id": "0ef3a54c-d9a7-4c9e-9c75-24c553cad281",
   "metadata": {},
   "outputs": [],
   "source": [
    "#escape 문자열"
   ]
  },
  {
   "cell_type": "code",
   "execution_count": 46,
   "id": "45194c8e-bd85-4c8f-bd26-fa3d35e51761",
   "metadata": {},
   "outputs": [],
   "source": [
    "a = '''\n",
    "여기는 문자열 입니다.\n",
    "엔터를 쳐서 여러줄을 작성할 수 있습니다.\n",
    "'''"
   ]
  },
  {
   "cell_type": "code",
   "execution_count": 47,
   "id": "c822eb69-d1dd-4859-b850-1e0bd641d159",
   "metadata": {},
   "outputs": [
    {
     "name": "stdout",
     "output_type": "stream",
     "text": [
      "\n",
      "여기는 문자열 입니다.\n",
      "엔터를 쳐서 여러줄을 작성할 수 있습니다.\n",
      "\n"
     ]
    }
   ],
   "source": [
    "print(a)"
   ]
  },
  {
   "cell_type": "code",
   "execution_count": 50,
   "id": "5417b2df-07bb-446e-b6b6-9e4f21056ab9",
   "metadata": {},
   "outputs": [
    {
     "name": "stdout",
     "output_type": "stream",
     "text": [
      "엔터를 입력해봐요\n",
      "다음줄입니다.\t 들여쓰기도 가능합니다\n"
     ]
    }
   ],
   "source": [
    "print('엔터를 입력해봐요\\n다음줄입니다.\\t 들여쓰기도 가능합니다')"
   ]
  },
  {
   "cell_type": "code",
   "execution_count": null,
   "id": "41b875c4-6956-4c67-8a8c-b5a7e68d0dda",
   "metadata": {},
   "outputs": [],
   "source": []
  },
  {
   "cell_type": "code",
   "execution_count": 49,
   "id": "2ffcd10d-4fc8-4ac8-a3e7-d7983b5c4d8c",
   "metadata": {},
   "outputs": [],
   "source": [
    "# \\n(백슬래시 엔터)는 줄바꿈\n",
    "# \\t(백슬래시 탭)는 들여쓰기"
   ]
  },
  {
   "cell_type": "code",
   "execution_count": 57,
   "id": "01c2cd2a-3177-417c-9f18-94224e29f02c",
   "metadata": {},
   "outputs": [
    {
     "name": "stdout",
     "output_type": "stream",
     "text": [
      "하나!둘!셋\n"
     ]
    }
   ],
   "source": [
    "print('하나' , '둘' , '셋', sep='!')"
   ]
  },
  {
   "cell_type": "code",
   "execution_count": 60,
   "id": "bbee6afa-c936-4df3-b297-1182965fbd0c",
   "metadata": {},
   "outputs": [
    {
     "name": "stdout",
     "output_type": "stream",
     "text": [
      "하나\t둘\t셋\n"
     ]
    }
   ],
   "source": [
    "print('하나', '둘' , '셋', sep='\\t')"
   ]
  },
  {
   "cell_type": "markdown",
   "id": "876378c7-4c99-4c33-a4b6-12e6e2dc5b91",
   "metadata": {},
   "source": [
    "### string interpolation\n",
    "\n",
    "1. %-formating\n",
    "2. str.format()\n",
    "3. f-string\n",
    "\n",
    ">주로 3번째것만 씀(1,2는 오래된 문법)"
   ]
  },
  {
   "cell_type": "code",
   "execution_count": null,
   "id": "43fec834-cb9c-4dbc-ad31-4314c1611d7c",
   "metadata": {},
   "outputs": [],
   "source": []
  },
  {
   "cell_type": "code",
   "execution_count": 59,
   "id": "cb25d9ab-4df4-4ec8-a0a7-eeb3354e96bc",
   "metadata": {},
   "outputs": [],
   "source": [
    "age = 20"
   ]
  },
  {
   "cell_type": "code",
   "execution_count": 64,
   "id": "5c16faa6-3d57-4591-9b6d-98aa3fa51fe0",
   "metadata": {},
   "outputs": [
    {
     "name": "stdout",
     "output_type": "stream",
     "text": [
      "홍길동은 20살입니다\n",
      "홍길동은 20살입니다\n",
      "홍길동은 20살입니다\n",
      "홍길동은 20살입니다\n",
      "홍길동은 20살입니다\n",
      "홍길동은 20살입니다\n",
      "홍길동은 20살입니다\n"
     ]
    }
   ],
   "source": [
    "print('홍길동은 20살입니다')\n",
    "print('홍길동은 20살입니다')\n",
    "print('홍길동은 20살입니다')\n",
    "print('홍길동은 20살입니다')\n",
    "print('홍길동은 20살입니다')\n",
    "print('홍길동은 20살입니다')\n",
    "print('홍길동은 20살입니다')"
   ]
  },
  {
   "cell_type": "code",
   "execution_count": 65,
   "id": "c9d602c6-7326-48c9-a89e-46a8c8302a2e",
   "metadata": {},
   "outputs": [
    {
     "name": "stdout",
     "output_type": "stream",
     "text": [
      "홍길동은 20 살입니다.\n"
     ]
    }
   ],
   "source": [
    "print('홍길동은 %s 살입니다.' %age)"
   ]
  },
  {
   "cell_type": "code",
   "execution_count": null,
   "id": "6a6fc0d1-22a0-4e24-8da0-08daab251454",
   "metadata": {},
   "outputs": [],
   "source": []
  },
  {
   "cell_type": "code",
   "execution_count": 61,
   "id": "878b8254-86bc-498a-bb70-9a331fdde8ce",
   "metadata": {},
   "outputs": [
    {
     "name": "stdout",
     "output_type": "stream",
     "text": [
      "홍길동은 20살입니다.\n"
     ]
    }
   ],
   "source": [
    "print('홍길동은 {}살입니다.' .format(age))"
   ]
  },
  {
   "cell_type": "code",
   "execution_count": 62,
   "id": "d3a66725-d123-465d-8cc7-0cfaa61ad883",
   "metadata": {},
   "outputs": [
    {
     "name": "stdout",
     "output_type": "stream",
     "text": [
      "홍길동은 20살입니다.\n"
     ]
    }
   ],
   "source": [
    "print(f'홍길동은 {age}살입니다.')"
   ]
  },
  {
   "cell_type": "code",
   "execution_count": 63,
   "id": "f8d07d82-cfb4-47fa-8c19-6f64c35ed618",
   "metadata": {},
   "outputs": [],
   "source": [
    "#이걸 젤 많이 씀, 위에 2개는 읽을 줄만 알도록"
   ]
  },
  {
   "cell_type": "code",
   "execution_count": null,
   "id": "f60cf4d0-fb0f-4791-9b8a-2577f1f26b77",
   "metadata": {},
   "outputs": [],
   "source": []
  },
  {
   "cell_type": "markdown",
   "id": "85e0221d-160c-4101-a029-6f9e490bfc7d",
   "metadata": {},
   "source": [
    "## 2.연산자\n",
    "\n",
    "### 2.1산술 연산자"
   ]
  },
  {
   "cell_type": "code",
   "execution_count": 66,
   "id": "cf38db65-625c-47c0-a738-c76fca853bbd",
   "metadata": {},
   "outputs": [],
   "source": [
    "a = 1\n",
    "b = 2"
   ]
  },
  {
   "cell_type": "code",
   "execution_count": 67,
   "id": "4a7a1a81-0b85-4560-b077-2ba482339d4e",
   "metadata": {},
   "outputs": [
    {
     "name": "stdout",
     "output_type": "stream",
     "text": [
      "3\n",
      "-1\n",
      "2\n",
      "0.5\n",
      "1\n"
     ]
    }
   ],
   "source": [
    "print(a + b)\n",
    "print(a - b)\n",
    "print(a * b)\n",
    "print(a / b)\n",
    "print(a ** b)"
   ]
  },
  {
   "cell_type": "code",
   "execution_count": 68,
   "id": "3cd43c03-8ecd-4c5b-817e-7e6d7f2aa646",
   "metadata": {},
   "outputs": [
    {
     "name": "stdout",
     "output_type": "stream",
     "text": [
      "0\n",
      "1\n",
      "(0, 1)\n"
     ]
    }
   ],
   "source": [
    "print(a // b)\n",
    "# a를 b로 나눈 몫을 출력\n",
    "print(a % b)\n",
    "# a를 b로 나눈 나머지\n",
    "print(divmod(a,b))\n",
    "# a를 b로 나눈 몫, 나머지 출력"
   ]
  },
  {
   "cell_type": "markdown",
   "id": "b7fac112-90c3-4892-b0c4-67dde84cbc8f",
   "metadata": {},
   "source": [
    "### 2.2 비교연산자"
   ]
  },
  {
   "cell_type": "code",
   "execution_count": 69,
   "id": "2edeedaf-20a7-46e0-9f7d-2939114b5f92",
   "metadata": {},
   "outputs": [],
   "source": [
    "a = 5\n",
    "b = 10"
   ]
  },
  {
   "cell_type": "code",
   "execution_count": 71,
   "id": "078e7fa3-fc17-4f2d-be09-43039158bc44",
   "metadata": {},
   "outputs": [
    {
     "name": "stdout",
     "output_type": "stream",
     "text": [
      "False\n",
      "True\n",
      "False\n",
      "True\n"
     ]
    }
   ],
   "source": [
    "print(a > b)\n",
    "print(a < b)\n",
    "print(a >= b)\n",
    "print(a <= b)"
   ]
  },
  {
   "cell_type": "code",
   "execution_count": 72,
   "id": "6cd9ab18-d770-4686-9694-412d46dac809",
   "metadata": {},
   "outputs": [
    {
     "name": "stdout",
     "output_type": "stream",
     "text": [
      "False\n",
      "True\n"
     ]
    }
   ],
   "source": [
    "print(a == b)\n",
    "print(a != b)"
   ]
  },
  {
   "cell_type": "code",
   "execution_count": 73,
   "id": "76e916fa-ee6f-42d3-bf55-bd50907fe971",
   "metadata": {},
   "outputs": [
    {
     "name": "stdout",
     "output_type": "stream",
     "text": [
      "True\n"
     ]
    }
   ],
   "source": [
    "print('hi' == 'hi')"
   ]
  },
  {
   "cell_type": "code",
   "execution_count": 74,
   "id": "aa022a70-ab4f-4402-aba0-b2d629947857",
   "metadata": {},
   "outputs": [
    {
     "name": "stdout",
     "output_type": "stream",
     "text": [
      "False\n"
     ]
    }
   ],
   "source": [
    "print('HI' == 'hi')"
   ]
  },
  {
   "cell_type": "markdown",
   "id": "77cea023-6f49-4190-b393-ca20b382c041",
   "metadata": {},
   "source": [
    "### 2.3 논리연산자\n",
    "\n",
    "- and : 앞 뒤 모두 True일 때, True를 반환\n",
    "하나라도 False라면 False를 반환\n",
    "- or : 양 쪽 모두 False일 때 False를 반환\n",
    "하나라도 True라면 True를 반환\n",
    "- not : "
   ]
  },
  {
   "cell_type": "code",
   "execution_count": 76,
   "id": "475dec5a-b714-475e-b134-64f753d93b65",
   "metadata": {},
   "outputs": [
    {
     "name": "stdout",
     "output_type": "stream",
     "text": [
      "True\n",
      "False\n",
      "False\n"
     ]
    }
   ],
   "source": [
    "print(True and True)\n",
    "print(True and False)\n",
    "print(False and False)"
   ]
  },
  {
   "cell_type": "code",
   "execution_count": 77,
   "id": "63587f08-41db-4561-bf82-905c43908260",
   "metadata": {},
   "outputs": [
    {
     "name": "stdout",
     "output_type": "stream",
     "text": [
      "True\n",
      "True\n",
      "False\n"
     ]
    }
   ],
   "source": [
    "print(True or True)\n",
    "print(True or False)\n",
    "print(False or False)"
   ]
  },
  {
   "cell_type": "code",
   "execution_count": 78,
   "id": "5f9a9c99-819c-433e-aaa1-ca7baf6eff8c",
   "metadata": {},
   "outputs": [
    {
     "name": "stdout",
     "output_type": "stream",
     "text": [
      "True\n",
      "False\n"
     ]
    }
   ],
   "source": [
    "print(True)\n",
    "print(not True)"
   ]
  },
  {
   "cell_type": "code",
   "execution_count": 79,
   "id": "bac25795-fd29-416e-be76-19e2dc6eaf3a",
   "metadata": {},
   "outputs": [
    {
     "name": "stdout",
     "output_type": "stream",
     "text": [
      "5\n",
      "0\n",
      "0\n",
      "0\n"
     ]
    }
   ],
   "source": [
    "# 단축평가\n",
    "print(3 and 5)\n",
    "print(3 and 0)\n",
    "print(0 and 5)\n",
    "print(0 and 0)"
   ]
  },
  {
   "cell_type": "code",
   "execution_count": 80,
   "id": "96793782-c474-4d46-b102-da8da4970b51",
   "metadata": {},
   "outputs": [],
   "source": [
    "# and일 때, 앞에가 True면 그 뒤의 값이 뭐든지 중요하지 않음(그 자체를 출력)\n",
    "# 1 이상의 정수는 True\n",
    "# 앞에가 0(False)이면 뒤의 값이 뭐든간에 0"
   ]
  },
  {
   "cell_type": "code",
   "execution_count": 81,
   "id": "c72dee6e-2118-410b-bd2d-b5edc4d3c116",
   "metadata": {},
   "outputs": [
    {
     "name": "stdout",
     "output_type": "stream",
     "text": [
      "3\n",
      "3\n",
      "5\n",
      "0\n"
     ]
    }
   ],
   "source": [
    "# 단축평가\n",
    "print(3 or 5)\n",
    "print(3 or 0)\n",
    "print(0 or 5)\n",
    "print(0 or 0)"
   ]
  },
  {
   "cell_type": "code",
   "execution_count": null,
   "id": "b175dbb4-de64-4b3b-a074-a7bf147c0a4f",
   "metadata": {},
   "outputs": [],
   "source": [
    "# "
   ]
  },
  {
   "cell_type": "markdown",
   "id": "dada9d60-2b9b-400c-a68b-5299ce1ca30a",
   "metadata": {},
   "source": [
    "### 복합연산자"
   ]
  },
  {
   "cell_type": "code",
   "execution_count": 82,
   "id": "7e938956-5e64-4990-995c-9847ed0924f1",
   "metadata": {},
   "outputs": [],
   "source": [
    "a = 1"
   ]
  },
  {
   "cell_type": "code",
   "execution_count": 83,
   "id": "7111f67c-eeca-44b8-b527-5bba4330a0cd",
   "metadata": {},
   "outputs": [],
   "source": [
    "a = a + 1"
   ]
  },
  {
   "cell_type": "code",
   "execution_count": 84,
   "id": "856e27cf-1823-4b88-b94a-7f0d66b8fc26",
   "metadata": {},
   "outputs": [
    {
     "data": {
      "text/plain": [
       "2"
      ]
     },
     "execution_count": 84,
     "metadata": {},
     "output_type": "execute_result"
    }
   ],
   "source": [
    "a"
   ]
  },
  {
   "cell_type": "code",
   "execution_count": 85,
   "id": "cb137f3d-0f4c-46f4-becf-4cc99e8cdff5",
   "metadata": {},
   "outputs": [
    {
     "data": {
      "text/plain": [
       "2"
      ]
     },
     "execution_count": 85,
     "metadata": {},
     "output_type": "execute_result"
    }
   ],
   "source": [
    "a"
   ]
  },
  {
   "cell_type": "code",
   "execution_count": 86,
   "id": "bf882d67-3791-4270-a5fd-b761171dcd74",
   "metadata": {},
   "outputs": [
    {
     "data": {
      "text/plain": [
       "2"
      ]
     },
     "execution_count": 86,
     "metadata": {},
     "output_type": "execute_result"
    }
   ],
   "source": [
    "a"
   ]
  },
  {
   "cell_type": "code",
   "execution_count": 87,
   "id": "13b03841-82c8-4ac7-b97f-f2c53d04cfa7",
   "metadata": {},
   "outputs": [],
   "source": [
    "a += 1\n",
    "\n",
    "# a에 1을 더하고 다시 할당해주세요"
   ]
  },
  {
   "cell_type": "code",
   "execution_count": 88,
   "id": "73a3c154-6d2c-4161-873f-dcc19391b748",
   "metadata": {},
   "outputs": [
    {
     "data": {
      "text/plain": [
       "3"
      ]
     },
     "execution_count": 88,
     "metadata": {},
     "output_type": "execute_result"
    }
   ],
   "source": [
    "a"
   ]
  },
  {
   "cell_type": "code",
   "execution_count": 89,
   "id": "baa66e57-2ee8-4072-a32e-399be60a3f42",
   "metadata": {},
   "outputs": [],
   "source": [
    "a = 1\n",
    "b = 2"
   ]
  },
  {
   "cell_type": "code",
   "execution_count": 90,
   "id": "f932086a-8adf-4c4c-b2b7-3f00e412f050",
   "metadata": {},
   "outputs": [],
   "source": [
    "a = a + b\n",
    "a = a - b\n",
    "a = a * b\n",
    "a = a / b\n",
    "a = a // b"
   ]
  },
  {
   "cell_type": "code",
   "execution_count": 92,
   "id": "2ca2c969-518c-42bc-aa78-94f8a1509681",
   "metadata": {},
   "outputs": [],
   "source": [
    "a += b\n",
    "a -= b\n",
    "a *=  b\n",
    "a /= b\n",
    "a //= b"
   ]
  },
  {
   "cell_type": "markdown",
   "id": "7ee6b5b7-ae75-43ba-b496-4afe58bc0851",
   "metadata": {},
   "source": [
    "### 2.4 기타연산자"
   ]
  },
  {
   "cell_type": "code",
   "execution_count": 93,
   "id": "b7b9a359-0f2e-49f6-832d-949382541ad1",
   "metadata": {},
   "outputs": [],
   "source": [
    "a = 'hi'\n",
    "b = 'hello'"
   ]
  },
  {
   "cell_type": "code",
   "execution_count": 94,
   "id": "f5a56763-a4fb-42ae-a35e-4933e5b3cc18",
   "metadata": {},
   "outputs": [
    {
     "data": {
      "text/plain": [
       "'hihello'"
      ]
     },
     "execution_count": 94,
     "metadata": {},
     "output_type": "execute_result"
    }
   ],
   "source": [
    "# concatenantion\n",
    "a + b"
   ]
  },
  {
   "cell_type": "code",
   "execution_count": 95,
   "id": "979a6e87-3134-4fc9-b2c5-733bd7b945ec",
   "metadata": {},
   "outputs": [],
   "source": [
    "a = [1, 2, 3]\n",
    "b = [4, 5, 6]"
   ]
  },
  {
   "cell_type": "code",
   "execution_count": 96,
   "id": "a3366013-d12b-4ec4-a45c-324ccff6abf7",
   "metadata": {},
   "outputs": [
    {
     "data": {
      "text/plain": [
       "[1, 2, 3, 4, 5, 6]"
      ]
     },
     "execution_count": 96,
     "metadata": {},
     "output_type": "execute_result"
    }
   ],
   "source": [
    "# concatenantion\n",
    "a + b"
   ]
  },
  {
   "cell_type": "code",
   "execution_count": 97,
   "id": "075ad360-0216-43e3-b406-9c633981ab9c",
   "metadata": {},
   "outputs": [
    {
     "name": "stdout",
     "output_type": "stream",
     "text": [
      "True\n",
      "False\n"
     ]
    }
   ],
   "source": [
    "# concatenant\n",
    "print('a' in 'apple')\n",
    "print('z' in 'apple')"
   ]
  },
  {
   "cell_type": "code",
   "execution_count": 98,
   "id": "ab57ac43-cf84-45d5-8998-e7433f44ba52",
   "metadata": {},
   "outputs": [
    {
     "name": "stdout",
     "output_type": "stream",
     "text": [
      "True\n",
      "False\n"
     ]
    }
   ],
   "source": [
    "print(1 in [1, 2, 3])\n",
    "print(1 in [4, 5, 6])"
   ]
  },
  {
   "cell_type": "code",
   "execution_count": 101,
   "id": "dbfe5d2b-ee2b-496e-abf2-c66c949274b7",
   "metadata": {},
   "outputs": [
    {
     "name": "stdout",
     "output_type": "stream",
     "text": [
      "True\n",
      "140705684972328\n",
      "140705684972328\n"
     ]
    }
   ],
   "source": [
    "# identity is\n",
    "a = 1\n",
    "b = 1\n",
    "print(a is b)\n",
    "print(id(a))\n",
    "print(id(b))"
   ]
  },
  {
   "cell_type": "code",
   "execution_count": null,
   "id": "5dadfaab-fb4e-4d5d-a9b9-0665a04a8161",
   "metadata": {},
   "outputs": [],
   "source": [
    "# -5부터 256까지는 램에 자리 및 주소가 할당이 되어있음"
   ]
  },
  {
   "cell_type": "code",
   "execution_count": 102,
   "id": "6db8f1a4-132f-4f41-bc05-f53dd30c4fa1",
   "metadata": {},
   "outputs": [
    {
     "name": "stdout",
     "output_type": "stream",
     "text": [
      "False\n",
      "1490114918768\n",
      "1490114916400\n"
     ]
    }
   ],
   "source": [
    "# identity\n",
    "a = 123123\n",
    "b = 123123\n",
    "print(a is b)\n",
    "print(id(a))\n",
    "print(id(b))"
   ]
  },
  {
   "cell_type": "code",
   "execution_count": null,
   "id": "3d58ec00-805b-4284-82d8-71d37b32e86e",
   "metadata": {},
   "outputs": [],
   "source": [
    "# 곧 is는 완벽하게 동일한가에 대한 확인"
   ]
  },
  {
   "cell_type": "code",
   "execution_count": null,
   "id": "b6afae8e-815c-4083-ac36-be3f48e9956e",
   "metadata": {},
   "outputs": [],
   "source": []
  },
  {
   "cell_type": "code",
   "execution_count": null,
   "id": "fbecedce-0a02-443d-a111-3880c02cfb12",
   "metadata": {},
   "outputs": [],
   "source": []
  },
  {
   "cell_type": "code",
   "execution_count": null,
   "id": "904e349b-c941-4019-8d42-e77c5e1e1320",
   "metadata": {},
   "outputs": [],
   "source": []
  },
  {
   "cell_type": "code",
   "execution_count": null,
   "id": "2a9af5ce-129d-416a-b533-59036825cf28",
   "metadata": {},
   "outputs": [],
   "source": []
  },
  {
   "cell_type": "code",
   "execution_count": null,
   "id": "a91afff4-ccc0-4e36-bd8d-ee32ad0e6b7d",
   "metadata": {},
   "outputs": [],
   "source": []
  },
  {
   "cell_type": "code",
   "execution_count": null,
   "id": "1feefe32-e2f9-467a-a556-a249493ded16",
   "metadata": {},
   "outputs": [],
   "source": []
  },
  {
   "cell_type": "code",
   "execution_count": null,
   "id": "352e949b-a9a8-4d33-8c0f-70ea94fe9d07",
   "metadata": {},
   "outputs": [],
   "source": []
  },
  {
   "cell_type": "code",
   "execution_count": null,
   "id": "2d181447-9d69-4624-8843-901521693670",
   "metadata": {},
   "outputs": [],
   "source": []
  }
 ],
 "metadata": {
  "kernelspec": {
   "display_name": "Python 3 (ipykernel)",
   "language": "python",
   "name": "python3"
  },
  "language_info": {
   "codemirror_mode": {
    "name": "ipython",
    "version": 3
   },
   "file_extension": ".py",
   "mimetype": "text/x-python",
   "name": "python",
   "nbconvert_exporter": "python",
   "pygments_lexer": "ipython3",
   "version": "3.11.1"
  }
 },
 "nbformat": 4,
 "nbformat_minor": 5
}
