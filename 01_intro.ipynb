{
 "cells": [
  {
   "cell_type": "markdown",
   "id": "437d2226-f251-47e9-ab40-7643b07ba494",
   "metadata": {
    "jp-MarkdownHeadingCollapsed": true
   },
   "source": [
    "# 01. intro\n",
    "\n",
    "## 단축키\n",
    "\n",
    "- cntl + enter: 지금 셀 실행\n",
    "- shift + enter: 지금 셀 실행하면서 & 아래로 이동\n",
    "- alt + enter: 지금 셀 실행하면서 & 아래에 새로운 셀 추가\n",
    "\n",
    "## 주의사항\n",
    "\n",
    "1. Apple / apple 은 다르다 (대소문자 구분 잘 해!)\n",
    "2. git add . / git add. 은 다르다(띄어쓰기 잘 해!)\n",
    "3. message / massage 는 다르다(오탈자 주의!)"
   ]
  },
  {
   "cell_type": "code",
   "execution_count": 5,
   "id": "8860b684-269a-4b7b-a110-4004631c64ec",
   "metadata": {},
   "outputs": [],
   "source": [
    "# 주석을 나타냅니다"
   ]
  },
  {
   "cell_type": "markdown",
   "id": "73446a5b-7c27-4969-9a21-79c07b199a59",
   "metadata": {},
   "source": [
    "# 1. 변수\n",
    "\n",
    "변수이름 = 값\n",
    "(변수는 하나의 상자)\n",
    "- 변수 이름은 어떤 이름이든 상관 없음\n",
    "- 다만 영어, 숫자, _를 이용하여 선언\n",
    "- 키워드는 사용 불가"
   ]
  },
  {
   "cell_type": "code",
   "execution_count": 6,
   "id": "656523b3-5f66-4677-afb9-2a0ff1a96b6e",
   "metadata": {},
   "outputs": [],
   "source": [
    "a = 10"
   ]
  },
  {
   "cell_type": "code",
   "execution_count": 7,
   "id": "40ba1689-e977-4875-886e-f44dbebcceaf",
   "metadata": {},
   "outputs": [
    {
     "data": {
      "text/plain": [
       "10"
      ]
     },
     "execution_count": 7,
     "metadata": {},
     "output_type": "execute_result"
    }
   ],
   "source": [
    "a"
   ]
  },
  {
   "cell_type": "code",
   "execution_count": 9,
   "id": "b3f58db5-70c6-4478-bdde-d3bc5d9749c4",
   "metadata": {},
   "outputs": [
    {
     "data": {
      "text/plain": [
       "['False',\n",
       " 'None',\n",
       " 'True',\n",
       " 'and',\n",
       " 'as',\n",
       " 'assert',\n",
       " 'async',\n",
       " 'await',\n",
       " 'break',\n",
       " 'class',\n",
       " 'continue',\n",
       " 'def',\n",
       " 'del',\n",
       " 'elif',\n",
       " 'else',\n",
       " 'except',\n",
       " 'finally',\n",
       " 'for',\n",
       " 'from',\n",
       " 'global',\n",
       " 'if',\n",
       " 'import',\n",
       " 'in',\n",
       " 'is',\n",
       " 'lambda',\n",
       " 'nonlocal',\n",
       " 'not',\n",
       " 'or',\n",
       " 'pass',\n",
       " 'raise',\n",
       " 'return',\n",
       " 'try',\n",
       " 'while',\n",
       " 'with',\n",
       " 'yield']"
      ]
     },
     "execution_count": 9,
     "metadata": {},
     "output_type": "execute_result"
    }
   ],
   "source": [
    "import keyword\n",
    "keyword.kwlist"
   ]
  },
  {
   "cell_type": "markdown",
   "id": "75e6b786-accd-4c12-9f0b-82d6b43598db",
   "metadata": {},
   "source": [
    "## 1.1 number"
   ]
  },
  {
   "cell_type": "code",
   "execution_count": 10,
   "id": "4b2bb191-6430-4c42-93e3-059181d94af1",
   "metadata": {},
   "outputs": [],
   "source": [
    "a = 100000"
   ]
  },
  {
   "cell_type": "code",
   "execution_count": 11,
   "id": "2bf5a8db-99f0-4fa5-b494-db2a768c0aa2",
   "metadata": {},
   "outputs": [
    {
     "data": {
      "text/plain": [
       "100000"
      ]
     },
     "execution_count": 11,
     "metadata": {},
     "output_type": "execute_result"
    }
   ],
   "source": [
    "a"
   ]
  },
  {
   "cell_type": "code",
   "execution_count": 12,
   "id": "363bf9c0-d282-45d1-be75-a45b2b886e96",
   "metadata": {},
   "outputs": [
    {
     "data": {
      "text/plain": [
       "int"
      ]
     },
     "execution_count": 12,
     "metadata": {},
     "output_type": "execute_result"
    }
   ],
   "source": [
    "type(a)"
   ]
  },
  {
   "cell_type": "code",
   "execution_count": 13,
   "id": "cc414e66-89cb-4068-b628-4698c6fd26cc",
   "metadata": {},
   "outputs": [],
   "source": [
    "b = 1.1"
   ]
  },
  {
   "cell_type": "code",
   "execution_count": 14,
   "id": "253f5986-771b-41d7-970c-c010ca200763",
   "metadata": {},
   "outputs": [
    {
     "data": {
      "text/plain": [
       "1.1"
      ]
     },
     "execution_count": 14,
     "metadata": {},
     "output_type": "execute_result"
    }
   ],
   "source": [
    "b"
   ]
  },
  {
   "cell_type": "code",
   "execution_count": 15,
   "id": "2e4208f2-7bac-4e43-a247-54ca96ebaf56",
   "metadata": {},
   "outputs": [
    {
     "data": {
      "text/plain": [
       "float"
      ]
     },
     "execution_count": 15,
     "metadata": {},
     "output_type": "execute_result"
    }
   ],
   "source": [
    "type(b)"
   ]
  },
  {
   "cell_type": "code",
   "execution_count": 16,
   "id": "fa2c99d7-dfaa-4e96-8d99-a005532b08f4",
   "metadata": {},
   "outputs": [],
   "source": [
    "c = 1-4j"
   ]
  },
  {
   "cell_type": "code",
   "execution_count": 17,
   "id": "99baf014-0074-451f-8938-4e53d037b852",
   "metadata": {},
   "outputs": [
    {
     "data": {
      "text/plain": [
       "(1-4j)"
      ]
     },
     "execution_count": 17,
     "metadata": {},
     "output_type": "execute_result"
    }
   ],
   "source": [
    "c"
   ]
  },
  {
   "cell_type": "code",
   "execution_count": 18,
   "id": "5b69b57f-d6ec-4045-8315-acc500c8e3ce",
   "metadata": {},
   "outputs": [
    {
     "data": {
      "text/plain": [
       "complex"
      ]
     },
     "execution_count": 18,
     "metadata": {},
     "output_type": "execute_result"
    }
   ],
   "source": [
    "type(c)"
   ]
  },
  {
   "cell_type": "code",
   "execution_count": 19,
   "id": "f9599d28-912e-484a-96d3-095b430a5271",
   "metadata": {},
   "outputs": [
    {
     "data": {
      "text/plain": [
       "-4.0"
      ]
     },
     "execution_count": 19,
     "metadata": {},
     "output_type": "execute_result"
    }
   ],
   "source": [
    "c.imag"
   ]
  },
  {
   "cell_type": "code",
   "execution_count": 20,
   "id": "4048b769-2f72-4b46-ab66-f556257688fa",
   "metadata": {},
   "outputs": [
    {
     "data": {
      "text/plain": [
       "1.0"
      ]
     },
     "execution_count": 20,
     "metadata": {},
     "output_type": "execute_result"
    }
   ],
   "source": [
    "c.real"
   ]
  },
  {
   "cell_type": "markdown",
   "id": "67138013-3dbe-47a6-9276-5f5df438aebf",
   "metadata": {},
   "source": [
    "### 1.2 Boolean\n",
    "\n",
    "\n",
    "True, False로 이루어진 타입"
   ]
  },
  {
   "cell_type": "code",
   "execution_count": null,
   "id": "a0d7bb19-62b9-4bdf-858c-8129a4dafd3a",
   "metadata": {},
   "outputs": [],
   "source": []
  },
  {
   "cell_type": "code",
   "execution_count": 21,
   "id": "23e41371-ccb5-4de8-abdc-6d924e10af72",
   "metadata": {},
   "outputs": [],
   "source": [
    "a = True"
   ]
  },
  {
   "cell_type": "code",
   "execution_count": 22,
   "id": "d08f72e0-162c-43d0-8d93-0f1e756c2563",
   "metadata": {},
   "outputs": [
    {
     "data": {
      "text/plain": [
       "bool"
      ]
     },
     "execution_count": 22,
     "metadata": {},
     "output_type": "execute_result"
    }
   ],
   "source": [
    "type(a)"
   ]
  },
  {
   "cell_type": "code",
   "execution_count": 23,
   "id": "72fd85f0-5b08-451c-83b0-e282eef40764",
   "metadata": {},
   "outputs": [],
   "source": [
    "b = False"
   ]
  },
  {
   "cell_type": "code",
   "execution_count": 24,
   "id": "7c3fa8b0-3034-4c0e-9de9-bf1023399b6a",
   "metadata": {},
   "outputs": [
    {
     "data": {
      "text/plain": [
       "bool"
      ]
     },
     "execution_count": 24,
     "metadata": {},
     "output_type": "execute_result"
    }
   ],
   "source": [
    "type(b)"
   ]
  },
  {
   "cell_type": "code",
   "execution_count": 25,
   "id": "8bc52983-73bd-484e-b7ab-c1aea54a2b6a",
   "metadata": {},
   "outputs": [
    {
     "data": {
      "text/plain": [
       "False"
      ]
     },
     "execution_count": 25,
     "metadata": {},
     "output_type": "execute_result"
    }
   ],
   "source": [
    "bool(0)"
   ]
  },
  {
   "cell_type": "code",
   "execution_count": 26,
   "id": "e0fc2ee2-2733-4250-b320-5db9e6d1f125",
   "metadata": {},
   "outputs": [
    {
     "data": {
      "text/plain": [
       "True"
      ]
     },
     "execution_count": 26,
     "metadata": {},
     "output_type": "execute_result"
    }
   ],
   "source": [
    "bool(1)"
   ]
  },
  {
   "cell_type": "code",
   "execution_count": 28,
   "id": "3e92dcda-7a6c-4507-9543-159446242fb8",
   "metadata": {},
   "outputs": [
    {
     "data": {
      "text/plain": [
       "False"
      ]
     },
     "execution_count": 28,
     "metadata": {},
     "output_type": "execute_result"
    }
   ],
   "source": [
    "bool([])"
   ]
  },
  {
   "cell_type": "code",
   "execution_count": 29,
   "id": "d640201a-27d2-422b-9c97-6f5f84586107",
   "metadata": {},
   "outputs": [
    {
     "data": {
      "text/plain": [
       "True"
      ]
     },
     "execution_count": 29,
     "metadata": {},
     "output_type": "execute_result"
    }
   ],
   "source": [
    "bool([1])"
   ]
  },
  {
   "cell_type": "markdown",
   "id": "3ede1a78-02c1-4164-a288-c7ee652cf06b",
   "metadata": {},
   "source": [
    "### 1.3 None"
   ]
  },
  {
   "cell_type": "code",
   "execution_count": 30,
   "id": "4ae9c8a6-5ed9-4656-a901-8b17127b7748",
   "metadata": {},
   "outputs": [],
   "source": [
    "a = None"
   ]
  },
  {
   "cell_type": "code",
   "execution_count": 31,
   "id": "5c6e556a-4146-4742-bb7a-07db618f2729",
   "metadata": {},
   "outputs": [],
   "source": [
    "# 비어있다, 아무 값도 없다"
   ]
  },
  {
   "cell_type": "code",
   "execution_count": 32,
   "id": "9404487e-7549-4d98-8210-b1443761b7f6",
   "metadata": {},
   "outputs": [
    {
     "data": {
      "text/plain": [
       "NoneType"
      ]
     },
     "execution_count": 32,
     "metadata": {},
     "output_type": "execute_result"
    }
   ],
   "source": [
    "type(a)"
   ]
  },
  {
   "cell_type": "markdown",
   "id": "96139b13-a233-4fc9-9216-291d5f61e780",
   "metadata": {},
   "source": [
    "### 1.4 string\n",
    "\n",
    "- 문자열은 `'`, `\"`로 표현\n",
    "- 문자열을 홑따옴표, 쌍따옴표 하나로 통일해서 사용하는 것 권장\n",
    "- = 과 변수 사이에 띄어쓰기 안해도 무방하지만 pep가이드에 따라 띄어쓰는 것이 국룰"
   ]
  },
  {
   "cell_type": "code",
   "execution_count": 33,
   "id": "9257a03a-9b97-4b96-9d5e-3bbae6c2c657",
   "metadata": {},
   "outputs": [],
   "source": [
    "a = 'hello'"
   ]
  },
  {
   "cell_type": "code",
   "execution_count": 34,
   "id": "b9c99027-df43-425f-b552-bc888f4029d8",
   "metadata": {},
   "outputs": [
    {
     "data": {
      "text/plain": [
       "str"
      ]
     },
     "execution_count": 34,
     "metadata": {},
     "output_type": "execute_result"
    }
   ],
   "source": [
    "type(a)"
   ]
  },
  {
   "cell_type": "code",
   "execution_count": 35,
   "id": "2ea3399e-a344-4984-8908-996e5af95c23",
   "metadata": {},
   "outputs": [],
   "source": [
    "b = \"world\""
   ]
  },
  {
   "cell_type": "code",
   "execution_count": 36,
   "id": "b9ba5953-4ee4-4470-b539-28ebea08b628",
   "metadata": {},
   "outputs": [
    {
     "data": {
      "text/plain": [
       "str"
      ]
     },
     "execution_count": 36,
     "metadata": {},
     "output_type": "execute_result"
    }
   ],
   "source": [
    "type(b)"
   ]
  },
  {
   "cell_type": "code",
   "execution_count": 40,
   "id": "dfdf9269-d7a4-4930-9065-ccd768f5c760",
   "metadata": {},
   "outputs": [
    {
     "name": "stdin",
     "output_type": "stream",
     "text": [
      " 134\n"
     ]
    },
    {
     "name": "stdout",
     "output_type": "stream",
     "text": [
      "134\n",
      "<class 'str'>\n"
     ]
    }
   ],
   "source": [
    "age = input()\n",
    "print(age)\n",
    "print(type(age))"
   ]
  },
  {
   "cell_type": "code",
   "execution_count": null,
   "id": "a78e27fd-a823-43f0-8e23-6bb199847552",
   "metadata": {},
   "outputs": [],
   "source": []
  },
  {
   "cell_type": "code",
   "execution_count": 39,
   "id": "c56e2596-3530-4afd-b8e6-d87386556655",
   "metadata": {},
   "outputs": [],
   "source": [
    "# input 데이터는 입력값을 받아서 코드 실행"
   ]
  },
  {
   "cell_type": "code",
   "execution_count": 41,
   "id": "28dbf760-ba67-41bb-9f25-36f7085a5c95",
   "metadata": {},
   "outputs": [
    {
     "ename": "SyntaxError",
     "evalue": "invalid syntax. Perhaps you forgot a comma? (2071357687.py, line 1)",
     "output_type": "error",
     "traceback": [
      "\u001b[1;36m  Cell \u001b[1;32mIn[41], line 1\u001b[1;36m\u001b[0m\n\u001b[1;33m    print('안녕하세요>'진유화'입니다.')\u001b[0m\n\u001b[1;37m          ^\u001b[0m\n\u001b[1;31mSyntaxError\u001b[0m\u001b[1;31m:\u001b[0m invalid syntax. Perhaps you forgot a comma?\n"
     ]
    }
   ],
   "source": [
    "print('안녕하세요>'진유화'입니다.')"
   ]
  },
  {
   "cell_type": "code",
   "execution_count": 42,
   "id": "be03b888-4f3d-4ba2-9123-a1cb30ea180e",
   "metadata": {},
   "outputs": [
    {
     "name": "stdout",
     "output_type": "stream",
     "text": [
      "안녕하세요?'진유화'입니다.\n"
     ]
    }
   ],
   "source": [
    "print(\"안녕하세요?'진유화'입니다.\")"
   ]
  },
  {
   "cell_type": "code",
   "execution_count": 44,
   "id": "e0b4c4d6-840e-48b8-8d1e-922a63838068",
   "metadata": {},
   "outputs": [
    {
     "name": "stdout",
     "output_type": "stream",
     "text": [
      "안녕하세요?'진유화'입니다.\n"
     ]
    }
   ],
   "source": [
    "print('안녕하세요?\\'진유화\\'입니다.')"
   ]
  },
  {
   "cell_type": "code",
   "execution_count": 45,
   "id": "0ef3a54c-d9a7-4c9e-9c75-24c553cad281",
   "metadata": {},
   "outputs": [],
   "source": [
    "#escape 문자열"
   ]
  },
  {
   "cell_type": "code",
   "execution_count": 46,
   "id": "45194c8e-bd85-4c8f-bd26-fa3d35e51761",
   "metadata": {},
   "outputs": [],
   "source": [
    "a = '''\n",
    "여기는 문자열 입니다.\n",
    "엔터를 쳐서 여러줄을 작성할 수 있습니다.\n",
    "'''"
   ]
  },
  {
   "cell_type": "code",
   "execution_count": 47,
   "id": "c822eb69-d1dd-4859-b850-1e0bd641d159",
   "metadata": {},
   "outputs": [
    {
     "name": "stdout",
     "output_type": "stream",
     "text": [
      "\n",
      "여기는 문자열 입니다.\n",
      "엔터를 쳐서 여러줄을 작성할 수 있습니다.\n",
      "\n"
     ]
    }
   ],
   "source": [
    "print(a)"
   ]
  },
  {
   "cell_type": "code",
   "execution_count": 50,
   "id": "5417b2df-07bb-446e-b6b6-9e4f21056ab9",
   "metadata": {},
   "outputs": [
    {
     "name": "stdout",
     "output_type": "stream",
     "text": [
      "엔터를 입력해봐요\n",
      "다음줄입니다.\t 들여쓰기도 가능합니다\n"
     ]
    }
   ],
   "source": [
    "print('엔터를 입력해봐요\\n다음줄입니다.\\t 들여쓰기도 가능합니다')"
   ]
  },
  {
   "cell_type": "code",
   "execution_count": null,
   "id": "41b875c4-6956-4c67-8a8c-b5a7e68d0dda",
   "metadata": {},
   "outputs": [],
   "source": []
  },
  {
   "cell_type": "code",
   "execution_count": 49,
   "id": "2ffcd10d-4fc8-4ac8-a3e7-d7983b5c4d8c",
   "metadata": {},
   "outputs": [],
   "source": [
    "# \\n(백슬래시 엔터)는 줄바꿈\n",
    "# \\t(백슬래시 탭)는 들여쓰기"
   ]
  },
  {
   "cell_type": "code",
   "execution_count": 57,
   "id": "01c2cd2a-3177-417c-9f18-94224e29f02c",
   "metadata": {},
   "outputs": [
    {
     "name": "stdout",
     "output_type": "stream",
     "text": [
      "하나!둘!셋\n"
     ]
    }
   ],
   "source": [
    "print('하나' , '둘' , '셋', sep='!')"
   ]
  },
  {
   "cell_type": "code",
   "execution_count": 60,
   "id": "bbee6afa-c936-4df3-b297-1182965fbd0c",
   "metadata": {},
   "outputs": [
    {
     "name": "stdout",
     "output_type": "stream",
     "text": [
      "하나\t둘\t셋\n"
     ]
    }
   ],
   "source": [
    "print('하나', '둘' , '셋', sep='\\t')"
   ]
  },
  {
   "cell_type": "markdown",
   "id": "876378c7-4c99-4c33-a4b6-12e6e2dc5b91",
   "metadata": {},
   "source": [
    "### string interpolation\n",
    "\n",
    "1. %-formating\n",
    "2. str.format()\n",
    "3. f-string\n",
    "\n",
    ">주로 3번째것만 씀(1,2는 오래된 문법)"
   ]
  },
  {
   "cell_type": "code",
   "execution_count": null,
   "id": "43fec834-cb9c-4dbc-ad31-4314c1611d7c",
   "metadata": {},
   "outputs": [],
   "source": []
  },
  {
   "cell_type": "code",
   "execution_count": 59,
   "id": "cb25d9ab-4df4-4ec8-a0a7-eeb3354e96bc",
   "metadata": {},
   "outputs": [],
   "source": [
    "age = 20"
   ]
  },
  {
   "cell_type": "code",
   "execution_count": 64,
   "id": "5c16faa6-3d57-4591-9b6d-98aa3fa51fe0",
   "metadata": {},
   "outputs": [
    {
     "name": "stdout",
     "output_type": "stream",
     "text": [
      "홍길동은 20살입니다\n",
      "홍길동은 20살입니다\n",
      "홍길동은 20살입니다\n",
      "홍길동은 20살입니다\n",
      "홍길동은 20살입니다\n",
      "홍길동은 20살입니다\n",
      "홍길동은 20살입니다\n"
     ]
    }
   ],
   "source": [
    "print('홍길동은 20살입니다')\n",
    "print('홍길동은 20살입니다')\n",
    "print('홍길동은 20살입니다')\n",
    "print('홍길동은 20살입니다')\n",
    "print('홍길동은 20살입니다')\n",
    "print('홍길동은 20살입니다')\n",
    "print('홍길동은 20살입니다')"
   ]
  },
  {
   "cell_type": "code",
   "execution_count": 65,
   "id": "c9d602c6-7326-48c9-a89e-46a8c8302a2e",
   "metadata": {},
   "outputs": [
    {
     "name": "stdout",
     "output_type": "stream",
     "text": [
      "홍길동은 20 살입니다.\n"
     ]
    }
   ],
   "source": [
    "print('홍길동은 %s 살입니다.' %age)"
   ]
  },
  {
   "cell_type": "code",
   "execution_count": null,
   "id": "6a6fc0d1-22a0-4e24-8da0-08daab251454",
   "metadata": {},
   "outputs": [],
   "source": []
  },
  {
   "cell_type": "code",
   "execution_count": 61,
   "id": "878b8254-86bc-498a-bb70-9a331fdde8ce",
   "metadata": {},
   "outputs": [
    {
     "name": "stdout",
     "output_type": "stream",
     "text": [
      "홍길동은 20살입니다.\n"
     ]
    }
   ],
   "source": [
    "print('홍길동은 {}살입니다.' .format(age))"
   ]
  },
  {
   "cell_type": "code",
   "execution_count": 62,
   "id": "d3a66725-d123-465d-8cc7-0cfaa61ad883",
   "metadata": {},
   "outputs": [
    {
     "name": "stdout",
     "output_type": "stream",
     "text": [
      "홍길동은 20살입니다.\n"
     ]
    }
   ],
   "source": [
    "print(f'홍길동은 {age}살입니다.')"
   ]
  },
  {
   "cell_type": "code",
   "execution_count": 63,
   "id": "f8d07d82-cfb4-47fa-8c19-6f64c35ed618",
   "metadata": {},
   "outputs": [],
   "source": [
    "#이걸 젤 많이 씀, 위에 2개는 읽을 줄만 알도록"
   ]
  },
  {
   "cell_type": "code",
   "execution_count": null,
   "id": "f60cf4d0-fb0f-4791-9b8a-2577f1f26b77",
   "metadata": {},
   "outputs": [],
   "source": []
  },
  {
   "cell_type": "code",
   "execution_count": null,
   "id": "885d2dcb-743c-4b35-a560-0f275b9208b2",
   "metadata": {},
   "outputs": [],
   "source": []
  },
  {
   "cell_type": "code",
   "execution_count": null,
   "id": "2a9af5ce-129d-416a-b533-59036825cf28",
   "metadata": {},
   "outputs": [],
   "source": []
  },
  {
   "cell_type": "code",
   "execution_count": null,
   "id": "a91afff4-ccc0-4e36-bd8d-ee32ad0e6b7d",
   "metadata": {},
   "outputs": [],
   "source": []
  },
  {
   "cell_type": "code",
   "execution_count": null,
   "id": "1feefe32-e2f9-467a-a556-a249493ded16",
   "metadata": {},
   "outputs": [],
   "source": []
  },
  {
   "cell_type": "code",
   "execution_count": null,
   "id": "352e949b-a9a8-4d33-8c0f-70ea94fe9d07",
   "metadata": {},
   "outputs": [],
   "source": []
  },
  {
   "cell_type": "code",
   "execution_count": null,
   "id": "2d181447-9d69-4624-8843-901521693670",
   "metadata": {},
   "outputs": [],
   "source": []
  }
 ],
 "metadata": {
  "kernelspec": {
   "display_name": "Python 3 (ipykernel)",
   "language": "python",
   "name": "python3"
  },
  "language_info": {
   "codemirror_mode": {
    "name": "ipython",
    "version": 3
   },
   "file_extension": ".py",
   "mimetype": "text/x-python",
   "name": "python",
   "nbconvert_exporter": "python",
   "pygments_lexer": "ipython3",
   "version": "3.11.1"
  }
 },
 "nbformat": 4,
 "nbformat_minor": 5
}
