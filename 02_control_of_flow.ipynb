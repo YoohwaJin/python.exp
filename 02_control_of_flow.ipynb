{
 "cells": [
  {
   "cell_type": "markdown",
   "id": "64b49b2f-90aa-41e9-9759-13c80f320e0d",
   "metadata": {},
   "source": [
    "# 제어문\n",
    "\n",
    "## 조건문(if문)\n",
    "1. `if` 문은 반드시 일정한 참/거짓을 판단할 수 있는 `조건식`과 함께 사용한다. (`if <조건식>:`)\n",
    "\n",
    "2-1. `<조건식>`이 참인 경우 `:` 이후의 문장을 실행한다.\n",
    "   \n",
    "2-2. `<조건식>`이 거짓인 경우 : `else:`이후의 문장을 실행한다"
   ]
  },
  {
   "cell_type": "code",
   "execution_count": 4,
   "id": "7c6d0293-0ede-4bdb-ada8-0529a6f9e7c2",
   "metadata": {},
   "outputs": [
    {
     "name": "stdin",
     "output_type": "stream",
     "text": [
      " 12/25\n"
     ]
    },
    {
     "name": "stdout",
     "output_type": "stream",
     "text": [
      "It is christmas\n"
     ]
    }
   ],
   "source": [
    "my_string = input()\n",
    "\n",
    "if my_string == '12/25':\n",
    "    print('It is christmas')\n",
    "else: \n",
    "    print('It is not Christmas')"
   ]
  },
  {
   "cell_type": "code",
   "execution_count": 16,
   "id": "757b4279-a187-4d3c-935e-7722d426456e",
   "metadata": {},
   "outputs": [
    {
     "name": "stdin",
     "output_type": "stream",
     "text": [
      "숫자를 입력해주세요 -32\n"
     ]
    },
    {
     "name": "stdout",
     "output_type": "stream",
     "text": [
      "-32\n",
      "<class 'str'>\n"
     ]
    }
   ],
   "source": [
    "num = input('숫자를 입력해주세요')\n",
    "print(num)\n",
    "print(type(num))\n",
    "num = int(num)"
   ]
  },
  {
   "cell_type": "code",
   "execution_count": 17,
   "id": "7a4a7d16-50f0-412a-8c2d-d8119ba0f039",
   "metadata": {},
   "outputs": [
    {
     "name": "stdout",
     "output_type": "stream",
     "text": [
      "짝수입니다.\n"
     ]
    }
   ],
   "source": [
    "# 조건문을 사용해서 num에 들어있는 숫자가 홀수 / 짝수 인지 판별\n",
    "\n",
    "if (num % 2) == 0:\n",
    "    print('짝수입니다.')\n",
    "else:\n",
    "    print('홀수입니다.')"
   ]
  },
  {
   "cell_type": "code",
   "execution_count": 19,
   "id": "5ce14495-e0d5-49be-b1f0-071f70189a9a",
   "metadata": {},
   "outputs": [
    {
     "name": "stdout",
     "output_type": "stream",
     "text": [
      "짝수입니다.\n"
     ]
    }
   ],
   "source": [
    "# num을 2로 나눈 나머지는 0,1 두가지 경우가 있따.\n",
    "# if문의 조건식에 0, 1은 자동 형변환이 일어나 False, True로 변환된다.\n",
    "\n",
    "if num % 2:\n",
    "    print('홀수입니다.')\n",
    "else: \n",
    "    print('짝수입니다.')"
   ]
  },
  {
   "cell_type": "markdown",
   "id": "f620517f-2df5-4859-94dc-1090ded6e114",
   "metadata": {},
   "source": [
    "### elif\n",
    "\n",
    "```\n",
    "if <조건식>:\n",
    "    if 조건식이 참인 경우 실행\n",
    "elif <조건식>:\n",
    "    elif 조건이 참인 경우 실행\n",
    "```\n",
    "else:\n",
    "    위의 조건식에 하나도 부합하지 않는 경우 실행"
   ]
  },
  {
   "cell_type": "code",
   "execution_count": 35,
   "id": "9e47a040-73d8-4760-a4b4-68c7d84acfb3",
   "metadata": {},
   "outputs": [
    {
     "name": "stdin",
     "output_type": "stream",
     "text": [
      " 99\n"
     ]
    }
   ],
   "source": [
    "score = int(input())"
   ]
  },
  {
   "cell_type": "code",
   "execution_count": 37,
   "id": "34cd7385-1d0e-43c4-800e-e87b435134a9",
   "metadata": {},
   "outputs": [
    {
     "name": "stdout",
     "output_type": "stream",
     "text": [
      "A 참 잘했어요\n"
     ]
    }
   ],
   "source": [
    "#90점 이상 A\n",
    "#80점 이상 B\n",
    "#70점 이상 C\n",
    "#나머지 F\n",
    "\n",
    "if score >= 95:\n",
    "    print('A', '참 잘했어요')\n",
    "elif score >= 90:\n",
    "    print('A')\n",
    "elif score >= 80:\n",
    "    print('B')\n",
    "elif score >= 70:\n",
    "    print('C')\n",
    "else:\n",
    "    print('F')"
   ]
  },
  {
   "cell_type": "code",
   "execution_count": 38,
   "id": "f3dd29f3-b3c6-4cb9-89ae-5aa0b53bde97",
   "metadata": {},
   "outputs": [
    {
     "name": "stdout",
     "output_type": "stream",
     "text": [
      "A\n",
      "참잘했어요\n"
     ]
    }
   ],
   "source": [
    "if score >= 90:\n",
    "    print('A')\n",
    "    if score >= 95:\n",
    "        print('참잘했어요')\n",
    "elif score >= 80:\n",
    "    print('B')\n",
    "elif score >= 70:\n",
    "    print('C')\n",
    "else:\n",
    "    print('F')"
   ]
  },
  {
   "cell_type": "markdown",
   "id": "f3f22787-22d3-4082-8e6f-2d96b848fb30",
   "metadata": {},
   "source": [
    "## 조건표현식\n",
    "    true_value if <조건식> else false_value\n",
    "\n",
    "    > 가능하면 if문을 쓰는게 좋고, 남이 쓴 조건표현식을 읽을 수 있는 수준정도 숙지\n"
   ]
  },
  {
   "cell_type": "code",
   "execution_count": 39,
   "id": "8b338214-2fdd-4cad-890c-7a38fdd16d5b",
   "metadata": {},
   "outputs": [
    {
     "name": "stdout",
     "output_type": "stream",
     "text": [
      "False\n"
     ]
    }
   ],
   "source": [
    "print('True') if 1 < 0 else print('False')"
   ]
  },
  {
   "cell_type": "code",
   "execution_count": 40,
   "id": "e8a6fe6c-55ca-41fd-af7d-eaa57c19b2cf",
   "metadata": {},
   "outputs": [
    {
     "name": "stdout",
     "output_type": "stream",
     "text": [
      "False\n"
     ]
    }
   ],
   "source": [
    "# 위의 조건표현식을 if문으로 표현\n",
    "if 1 < 0:\n",
    "    print('True')\n",
    "else:\n",
    "    print('False')"
   ]
  },
  {
   "cell_type": "code",
   "execution_count": 41,
   "id": "f1327bc1-0b8c-4b1f-9eef-102e303c1609",
   "metadata": {},
   "outputs": [
    {
     "name": "stdout",
     "output_type": "stream",
     "text": [
      "0\n"
     ]
    }
   ],
   "source": [
    "num = -5\n",
    "value = num if num >= 0 else 0\n",
    "print(value)"
   ]
  },
  {
   "cell_type": "code",
   "execution_count": 43,
   "id": "99f52bed-92a5-400e-baf1-d358f6f60a05",
   "metadata": {},
   "outputs": [
    {
     "name": "stdout",
     "output_type": "stream",
     "text": [
      "0\n"
     ]
    }
   ],
   "source": [
    "# 위의 조건표현식을 if문으로 표현\n",
    "num = -5\n",
    "if num >= 0:\n",
    "    print(num)\n",
    "else:\n",
    "    print(0)"
   ]
  },
  {
   "cell_type": "code",
   "execution_count": 44,
   "id": "cd9960b1-5f01-4004-b8e1-a8add81fe607",
   "metadata": {},
   "outputs": [
    {
     "name": "stdout",
     "output_type": "stream",
     "text": [
      "짝수\n"
     ]
    }
   ],
   "source": [
    "num = 2\n",
    "if num % 2 == 1:\n",
    "    result = '홀수'\n",
    "else:\n",
    "    result = '짝수'\n",
    "\n",
    "print(result)"
   ]
  },
  {
   "cell_type": "code",
   "execution_count": 45,
   "id": "613cc6d6-d785-495e-b06a-145a82f74374",
   "metadata": {},
   "outputs": [
    {
     "data": {
      "text/plain": [
       "'짝수'"
      ]
     },
     "execution_count": 45,
     "metadata": {},
     "output_type": "execute_result"
    }
   ],
   "source": [
    "num = 2\n",
    "\n",
    "'홀수' if num % 2 == 1 else '짝수'"
   ]
  },
  {
   "cell_type": "code",
   "execution_count": 46,
   "id": "35937c20-dde1-422e-b624-7f6b5fa3c473",
   "metadata": {},
   "outputs": [],
   "source": [
    "### 나중에 여기 입력값으로 바꾸는 거 실습해보기"
   ]
  },
  {
   "cell_type": "code",
   "execution_count": null,
   "id": "099ab215-7fc2-4f5d-9a15-a1d7be3881e4",
   "metadata": {},
   "outputs": [],
   "source": []
  },
  {
   "cell_type": "code",
   "execution_count": 49,
   "id": "62c77cd5-3183-4364-854a-ad8a2e84c9f6",
   "metadata": {},
   "outputs": [
    {
     "name": "stdin",
     "output_type": "stream",
     "text": [
      " 5\n"
     ]
    },
    {
     "name": "stdout",
     "output_type": "stream",
     "text": [
      "홀수\n"
     ]
    }
   ],
   "source": [
    "num = input()\n",
    "num = int(num)\n",
    "\n",
    "if num % 2 == 1:\n",
    "    result = '홀수'\n",
    "else:\n",
    "    result = '짝수'\n",
    "\n",
    "print(result)"
   ]
  }
 ],
 "metadata": {
  "kernelspec": {
   "display_name": "Python 3 (ipykernel)",
   "language": "python",
   "name": "python3"
  },
  "language_info": {
   "codemirror_mode": {
    "name": "ipython",
    "version": 3
   },
   "file_extension": ".py",
   "mimetype": "text/x-python",
   "name": "python",
   "nbconvert_exporter": "python",
   "pygments_lexer": "ipython3",
   "version": "3.11.1"
  }
 },
 "nbformat": 4,
 "nbformat_minor": 5
}
